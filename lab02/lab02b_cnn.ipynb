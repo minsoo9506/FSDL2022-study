{
  "cells": [
    {
      "cell_type": "markdown",
      "metadata": {
        "id": "FlH0lCOttCs5"
      },
      "source": [
        "<img src=\"https://fsdl.me/logo-720-dark-horizontal\">"
      ]
    },
    {
      "cell_type": "markdown",
      "metadata": {
        "id": "ZUPRHaeetRnT"
      },
      "source": [
        "# Lab 02b: Training a CNN on Synthetic Handwriting Data"
      ]
    },
    {
      "cell_type": "markdown",
      "metadata": {
        "id": "bry3Hr-PcgDs"
      },
      "source": [
        "### What You Will Learn\n",
        "\n",
        "- Fundamental principles for building neural networks with convolutional components\n",
        "- How to use Lightning's training framework via a CLI"
      ]
    },
    {
      "cell_type": "markdown",
      "metadata": {
        "id": "vs0LXXlCU6Ix"
      },
      "source": [
        "## Setup"
      ]
    },
    {
      "cell_type": "markdown",
      "metadata": {
        "id": "ZkQiK7lkgeXm"
      },
      "source": [
        "If you're running this notebook on Google Colab,\n",
        "the cell below will run full environment setup.\n",
        "\n",
        "It should take about three minutes to run."
      ]
    },
    {
      "cell_type": "code",
      "execution_count": 1,
      "metadata": {
        "colab": {
          "base_uri": "https://localhost:8080/"
        },
        "id": "sVx7C7H0PIZC",
        "outputId": "42fbf757-2787-48ac-df63-2f7ecbee209f"
      },
      "outputs": [
        {
          "name": "stdout",
          "output_type": "stream",
          "text": [
            "env: PYTHONPATH=.:/env/python\n",
            ".:/env/python\n",
            "/content/fsdl-text-recognizer-2022-labs/lab02\n",
            "\u001b[0m\u001b[01;34mnotebooks\u001b[0m/  \u001b[01;34mtext_recognizer\u001b[0m/  \u001b[01;34mtraining\u001b[0m/\n"
          ]
        }
      ],
      "source": [
        "lab_idx = 2\n",
        "\n",
        "if \"bootstrap\" not in locals() or bootstrap.run:\n",
        "    # path management for Python\n",
        "    pythonpath, = !echo $PYTHONPATH\n",
        "    if \".\" not in pythonpath.split(\":\"):\n",
        "        pythonpath = \".:\" + pythonpath\n",
        "        %env PYTHONPATH={pythonpath}\n",
        "        !echo $PYTHONPATH\n",
        "\n",
        "    # get both Colab and local notebooks into the same state\n",
        "    !wget --quiet https://fsdl.me/gist-bootstrap -O bootstrap.py\n",
        "    import bootstrap\n",
        "\n",
        "    # change into the lab directory\n",
        "    bootstrap.change_to_lab_dir(lab_idx=lab_idx)\n",
        "\n",
        "    # allow \"hot-reloading\" of modules\n",
        "    %load_ext autoreload\n",
        "    %autoreload 2\n",
        "    # needed for inline plots in some contexts\n",
        "    %matplotlib inline\n",
        "\n",
        "    bootstrap.run = False  # change to True re-run setup\n",
        "    \n",
        "!pwd\n",
        "%ls"
      ]
    },
    {
      "cell_type": "markdown",
      "metadata": {
        "id": "XZN4bGgsgWc_"
      },
      "source": [
        "# Why convolutions?"
      ]
    },
    {
      "cell_type": "markdown",
      "metadata": {
        "id": "T9HoYWZKtTE_"
      },
      "source": [
        "The most basic neural networks,\n",
        "multi-layer perceptrons,\n",
        "are built by alternating\n",
        "parameterized linear transformations\n",
        "with non-linear transformations.\n",
        "\n",
        "This combination is capable of expressing\n",
        "[functions of arbitrary complexity](http://neuralnetworksanddeeplearning.com/chap4.html),\n",
        "so long as those functions\n",
        "take in fixed-size arrays and return fixed-size arrays.\n",
        "\n",
        "```python\n",
        "def any_function_you_can_imagine(x: torch.Tensor[\"A\"]) -> torch.Tensor[\"B\"]:\n",
        "    return some_mlp_that_might_be_impractically_huge(x)\n",
        "```\n",
        "\n",
        "But not all functions have that type signature.\n",
        "\n",
        "For example, we might want to identify the content of images\n",
        "that have different sizes.\n",
        "Without gross hacks,\n",
        "an MLP won't be able to solve this problem,\n",
        "even though it seems simple enough."
      ]
    },
    {
      "cell_type": "code",
      "execution_count": 2,
      "metadata": {
        "colab": {
          "base_uri": "https://localhost:8080/",
          "height": 700
        },
        "id": "6LjfV3o6tTFA",
        "outputId": "9ce42ff4-bc37-424a-be67-8139a0e230fe"
      },
      "outputs": [
        {
          "data": {
            "text/html": [
              "<img src=\"https://fsdl-public-assets.s3.us-west-2.amazonaws.com/emnist/U.png\" width=\"679\" height=\"679\"/>"
            ],
            "text/plain": [
              "<IPython.core.display.Image object>"
            ]
          },
          "execution_count": 2,
          "metadata": {},
          "output_type": "execute_result"
        }
      ],
      "source": [
        "import random\n",
        "\n",
        "import IPython.display as display\n",
        "\n",
        "randsize = 10 ** (random.random() * 2 + 1)\n",
        "\n",
        "Url = \"https://fsdl-public-assets.s3.us-west-2.amazonaws.com/emnist/U.png\"\n",
        "\n",
        "# run multiple times to display the same image at different sizes\n",
        "#  the content of the image remains unambiguous\n",
        "display.Image(url=Url, width=randsize, height=randsize)"
      ]
    },
    {
      "cell_type": "markdown",
      "metadata": {
        "id": "c9j6YQRftTFB"
      },
      "source": [
        "Even worse, MLPs are too general to be efficient.\n",
        "\n",
        "Each layer applies an unstructured matrix to its inputs.\n",
        "But most of the data we might want to apply them to is highly structured,\n",
        "and taking advantage of that structure can make our models more efficient.\n",
        "\n",
        "It may seem appealing to use an unstructured model:\n",
        "it can in principle learn any function.\n",
        "But\n",
        "[most functions are monstrous outrages against common sense](https://en.wikipedia.org/wiki/Weierstrass_function#Density_of_nowhere-differentiable_functions).\n",
        "It is useful to encode some of our assumptions\n",
        "about the kinds of functions we might want to learn\n",
        "from our data into our model's architecture."
      ]
    },
    {
      "cell_type": "markdown",
      "metadata": {
        "id": "jvC_yZvmuwgJ"
      },
      "source": [
        "## Convolutions are the local, translation-equivariant linear transforms."
      ]
    },
    {
      "cell_type": "markdown",
      "metadata": {
        "id": "PhnRx_BZtTFC"
      },
      "source": [
        "One of the most common types of structure in data is \"locality\" --\n",
        "the most relevant information for understanding or predicting a pixel\n",
        "is a small number of pixels around it.\n",
        "\n",
        "Locality is a fundamental feature of the physical world,\n",
        "so it shows up in data drawn from physical observations,\n",
        "like photographs and audio recordings.\n",
        "\n",
        "Locality means most meaningful linear transformations of our input\n",
        "only have large weights in a small number of entries that are close to one another,\n",
        "rather than having equally large weights in all entries."
      ]
    },
    {
      "cell_type": "code",
      "execution_count": 3,
      "metadata": {
        "colab": {
          "base_uri": "https://localhost:8080/"
        },
        "id": "SSnkzV2_tTFC",
        "outputId": "559e5b07-4234-40b2-e3c2-825a24f33ce6"
      },
      "outputs": [
        {
          "name": "stdout",
          "output_type": "stream",
          "text": [
            "generic:\n",
            "tensor([[-0.9094],\n",
            "        [ 0.2040],\n",
            "        [-0.2586],\n",
            "        [-1.0644],\n",
            "        [-0.0684],\n",
            "        [-0.6754],\n",
            "        [ 1.2002],\n",
            "        [ 0.0851]])\n",
            "local:\n",
            "tensor([[0.0000],\n",
            "        [0.0000],\n",
            "        [0.0000],\n",
            "        [0.4513],\n",
            "        [0.7591],\n",
            "        [0.3563],\n",
            "        [0.0000],\n",
            "        [0.0000]])\n"
          ]
        }
      ],
      "source": [
        "import torch\n",
        "\n",
        "\n",
        "generic_linear_transform = torch.randn(8, 1)\n",
        "print(\"generic:\", generic_linear_transform, sep=\"\\n\")\n",
        "\n",
        "local_linear_transform = torch.tensor([\n",
        "    [0, 0, 0] + [random.random(), random.random(), random.random()] + [0, 0]]).T\n",
        "print(\"local:\", local_linear_transform, sep=\"\\n\")"
      ]
    },
    {
      "cell_type": "markdown",
      "metadata": {
        "id": "0nCD75NwtTFD"
      },
      "source": [
        "Another type of structure commonly observed is \"translation equivariance\" --\n",
        "the top-left pixel position is not, in itself, meaningfully different\n",
        "from the bottom-right position\n",
        "or a position in the middle of the image.\n",
        "Relative relationships matter more than absolute relationships.\n",
        "\n",
        "Translation equivariance arises in images because there is generally no privileged\n",
        "vantage point for taking the image.\n",
        "We could just as easily have taken the image while standing a few feet to the left or right,\n",
        "and all of its contents would shift along with our change in perspective.\n",
        "\n",
        "Translation equivariance means that a linear transformation that is meaningful at one position\n",
        "in our input is likely to be meaningful at all other points.\n",
        "We can learn something about a linear transformation from a datapoint where it is useful\n",
        "in the bottom-left and then apply it to another datapoint where it's useful in the top-right."
      ]
    },
    {
      "cell_type": "code",
      "execution_count": 4,
      "metadata": {
        "colab": {
          "base_uri": "https://localhost:8080/"
        },
        "id": "srvI7JFAtTFE",
        "outputId": "aff24e23-b4bc-49a5-aa60-14bf1a3b3545"
      },
      "outputs": [
        {
          "name": "stdout",
          "output_type": "stream",
          "text": [
            "generic:\n",
            "tensor([[0],\n",
            "        [1],\n",
            "        [2],\n",
            "        [3],\n",
            "        [4],\n",
            "        [5],\n",
            "        [6],\n",
            "        [7]])\n",
            "translation invariant:\n",
            "tensor([[0, 7, 6, 5, 4, 3, 2, 1],\n",
            "        [1, 0, 7, 6, 5, 4, 3, 2],\n",
            "        [2, 1, 0, 7, 6, 5, 4, 3],\n",
            "        [3, 2, 1, 0, 7, 6, 5, 4],\n",
            "        [4, 3, 2, 1, 0, 7, 6, 5],\n",
            "        [5, 4, 3, 2, 1, 0, 7, 6],\n",
            "        [6, 5, 4, 3, 2, 1, 0, 7],\n",
            "        [7, 6, 5, 4, 3, 2, 1, 0]])\n"
          ]
        }
      ],
      "source": [
        "generic_linear_transform = torch.arange(8)[:, None]\n",
        "print(\"generic:\", generic_linear_transform, sep=\"\\n\")\n",
        "\n",
        "equivariant_linear_transform = torch.stack([torch.roll(generic_linear_transform[:, 0], ii) for ii in range(8)], dim=1)\n",
        "print(\"translation invariant:\", equivariant_linear_transform, sep=\"\\n\")"
      ]
    },
    {
      "cell_type": "markdown",
      "metadata": {
        "id": "qF576NCvtTFE"
      },
      "source": [
        "A linear transformation that is translation equivariant\n",
        "[is called a _convolution_](https://en.wikipedia.org/wiki/Convolution#Translational_equivariance).\n",
        "\n",
        "If the weights of that linear transformation are mostly zero\n",
        "except for a few that are close to one another,\n",
        "that convolution is said to have a _kernel_."
      ]
    },
    {
      "cell_type": "code",
      "execution_count": 5,
      "metadata": {
        "colab": {
          "base_uri": "https://localhost:8080/"
        },
        "id": "9tp4tBgWtTFF",
        "outputId": "e6a2b918-be5c-43b1-e258-d0e5f2e9cc62"
      },
      "outputs": [
        {
          "data": {
            "text/plain": [
              "Parameter containing:\n",
              "tensor([[[ 0.3233, -0.4291,  0.0459]]], requires_grad=True)"
            ]
          },
          "execution_count": 5,
          "metadata": {},
          "output_type": "execute_result"
        }
      ],
      "source": [
        "# the equivalent of torch.nn.Linear, but for a 1-dimensional convolution\n",
        "conv_layer = torch.nn.Conv1d(in_channels=1, out_channels=1, kernel_size=3)\n",
        "\n",
        "conv_layer.weight  # aka kernel"
      ]
    },
    {
      "cell_type": "markdown",
      "metadata": {
        "id": "deXA_xS6tTFF"
      },
      "source": [
        "Instead of using normal matrix multiplication to apply the kernel to the input,\n",
        "we repeatedly apply that kernel over and over again,\n",
        "\"sliding\" it over the input to produce an output.\n",
        "\n",
        "Every convolution kernel has an equivalent matrix form,\n",
        "which can be matrix multiplied with the input to create the output:"
      ]
    },
    {
      "cell_type": "code",
      "execution_count": 6,
      "metadata": {
        "colab": {
          "base_uri": "https://localhost:8080/"
        },
        "id": "mFoSsa5DtTFF",
        "outputId": "dff2b285-2ee7-421e-8927-2e4fa5d045a9"
      },
      "outputs": [
        {
          "name": "stdout",
          "output_type": "stream",
          "text": [
            "convolution matrix:\n",
            "tensor([[ 0.3233, -0.4291,  0.0459,  0.0000,  0.0000,  0.0000,  0.0000,  0.0000],\n",
            "        [ 0.0000,  0.3233, -0.4291,  0.0459,  0.0000,  0.0000,  0.0000,  0.0000],\n",
            "        [ 0.0000,  0.0000,  0.3233, -0.4291,  0.0459,  0.0000,  0.0000,  0.0000],\n",
            "        [ 0.0000,  0.0000,  0.0000,  0.3233, -0.4291,  0.0459,  0.0000,  0.0000],\n",
            "        [ 0.0000,  0.0000,  0.0000,  0.0000,  0.3233, -0.4291,  0.0459,  0.0000],\n",
            "        [ 0.0000,  0.0000,  0.0000,  0.0000,  0.0000,  0.3233, -0.4291,  0.0459],\n",
            "        [ 0.0459,  0.0000,  0.0000,  0.0000,  0.0000,  0.0000,  0.3233, -0.4291],\n",
            "        [-0.4291,  0.0459,  0.0000,  0.0000,  0.0000,  0.0000,  0.0000,  0.3233]],\n",
            "       grad_fn=<StackBackward0>)\n"
          ]
        }
      ],
      "source": [
        "conv_kernel_as_vector = torch.hstack([conv_layer.weight[0][0], torch.zeros(5)])\n",
        "conv_layer_as_matrix = torch.stack([torch.roll(conv_kernel_as_vector, ii) for ii in range(8)], dim=0)\n",
        "print(\"convolution matrix:\", conv_layer_as_matrix, sep=\"\\n\")"
      ]
    },
    {
      "cell_type": "markdown",
      "metadata": {
        "id": "VJyRtf9NtTFG"
      },
      "source": [
        "> <small> Under the hood, the actual operation that implements the application of a convolutional kernel\n",
        "need not look like either of these\n",
        "(common approaches include\n",
        "[Winograd-type algorithms](https://arxiv.org/abs/1509.09308)\n",
        "and [Fast Fourier Transform-based algorithms](https://arxiv.org/abs/1312.5851)).</small>"
      ]
    },
    {
      "cell_type": "markdown",
      "metadata": {
        "id": "xytivdcItTFG"
      },
      "source": [
        "Though they may seem somewhat arbitrary and technical,\n",
        "convolutions are actually a deep and fundamental piece of mathematics and computer science.\n",
        "Fundamental as in\n",
        "[closely related to the multiplication algorithm we learn as children](https://charlesfrye.github.io/math/2019/02/20/multiplication-convoluted-part-one.html)\n",
        "and deep as in\n",
        "[closely related to the Fourier transform](https://math.stackexchange.com/questions/918345/fourier-transform-as-diagonalization-of-convolution).\n",
        "Generalized convolutions can show up \n",
        "wherever there is some kind of \"sum\" over some kind of \"paths\",\n",
        "as is common in dynamic programming.\n",
        "\n",
        "See Chris Olah's blog series\n",
        "([1](https://colah.github.io/posts/2014-07-Conv-Nets-Modular/),\n",
        "[2](https://colah.github.io/posts/2014-07-Understanding-Convolutions/),\n",
        "[3](https://colah.github.io/posts/2014-12-Groups-Convolution/))\n",
        "for a friendly introduction."
      ]
    },
    {
      "cell_type": "markdown",
      "metadata": {
        "id": "uCJTwCWYzRee"
      },
      "source": [
        "## We apply two-dimensional convolutions to images."
      ]
    },
    {
      "cell_type": "markdown",
      "metadata": {
        "id": "a8RKOPAIx0O2"
      },
      "source": [
        "In building our text recognizer,\n",
        "we're working with images.\n",
        "Images have two dimensions of translation equivariance:\n",
        "left/right and up/down.\n",
        "So we use two-dimensional convolutions,\n",
        "instantiated in `torch.nn` as `nn.Conv2d` layers.\n",
        "Note that convolutional neural networks for images\n",
        "are so popular that when the term \"convolution\"\n",
        "is used without qualifier in a neural network context,\n",
        "it can be taken to mean two-dimensional convolutions.\n",
        "\n",
        "Where `Linear` layers took in batches of vectors of a fixed size\n",
        "and returned batches of vectors of a fixed size,\n",
        "`Conv2d` layers take in batches of two-dimensional _stacked feature maps_\n",
        "and return batches of two-dimensional stacked feature maps.\n",
        "\n",
        "A pseudocode type signature based on\n",
        "[`torchtyping`](https://github.com/patrick-kidger/torchtyping)\n",
        "might look like:"
      ]
    },
    {
      "cell_type": "markdown",
      "metadata": {
        "id": "sJvMdHL7w_lu"
      },
      "source": [
        "```python\n",
        "StackedFeatureMapIn = torch.Tensor[\"batch\", \"in_channels\", \"in_height\", \"in_width\"]\n",
        "StackedFeatureMapOut = torch.Tensor[\"batch\", \"out_channels\", \"out_height\", \"out_width\"]\n",
        "def same_convolution_2d(x: StackedFeatureMapIn) -> StackedFeatureMapOut:\n",
        "```"
      ]
    },
    {
      "cell_type": "markdown",
      "metadata": {
        "id": "nSMC8Fw3zPSz"
      },
      "source": [
        "Here, \"map\" is meant to evoke space:\n",
        "our feature maps tell us where\n",
        "features are spatially located.\n",
        "\n",
        "An RGB image is a stacked feature map.\n",
        "It is composed of three feature maps.\n",
        "The first tells us where the \"red\" feature is present,\n",
        "the second \"green\", the third \"blue\":"
      ]
    },
    {
      "cell_type": "code",
      "execution_count": 7,
      "metadata": {
        "colab": {
          "base_uri": "https://localhost:8080/",
          "height": 341
        },
        "id": "jIXT-mym3ljt",
        "outputId": "2c5e2afd-a861-4d67-c7ac-264a9a2e322e"
      },
      "outputs": [
        {
          "data": {
            "text/html": [
              "<img src=\"https://upload.wikimedia.org/wikipedia/commons/5/56/RGB_channels_separation.png?20110219015028\"/>"
            ],
            "text/plain": [
              "<IPython.core.display.Image object>"
            ]
          },
          "execution_count": 7,
          "metadata": {},
          "output_type": "execute_result"
        }
      ],
      "source": [
        "display.Image(\n",
        "    url=\"https://upload.wikimedia.org/wikipedia/commons/5/56/RGB_channels_separation.png?20110219015028\")"
      ]
    },
    {
      "cell_type": "markdown",
      "metadata": {
        "id": "8WfCcO5xJ-hG"
      },
      "source": [
        "When we apply a convolutional layer to a stacked feature map with some number of channels,\n",
        "we get back a stacked feature map with some number of channels.\n",
        "\n",
        "This output is also a stack of feature maps,\n",
        "and so it is a perfectly acceptable\n",
        "input to another convolutional layer.\n",
        "That means we can compose convolutional layers together,\n",
        "just as we composed generic linear layers together.\n",
        "We again weave non-linear functions in between our linear convolutions,\n",
        "creating a _convolutional neural network_, or CNN."
      ]
    },
    {
      "cell_type": "markdown",
      "metadata": {
        "id": "R18TsGubJ_my"
      },
      "source": [
        "## Convolutional neural networks build up visual understanding layer by layer."
      ]
    },
    {
      "cell_type": "markdown",
      "metadata": {
        "id": "eV03KmYBz2QM"
      },
      "source": [
        "What is the equivalent of the labels, red/green/blue,\n",
        "for the channels in these feature maps?\n",
        "What does a high activation in some position in channel 32\n",
        "of the fifteenth layer of my network tell me?\n",
        "\n",
        "There is no guaranteed way to automatically determine the answer,\n",
        "nor is there a guarantee that the result is human-interpetable.\n",
        "OpenAI's Clarity team spent several years \"reverse engineering\"\n",
        "state-of-the-art convolutiuonal neural networks trained on photographs\n",
        "and found that many of these channels are \n",
        "[directly interpretable](https://distill.pub/2018/building-blocks/).\n",
        "\n",
        "For example, they found that if they pass an image through\n",
        "[GoogLeNet](https://doi.org/10.1109/cvpr.2015.7298594),\n",
        "aka InceptionV1,\n",
        "the winner of the\n",
        "[2014 ImageNet Very Large Scale Visual Recognition Challenge](https://www.image-net.org/challenges/LSVRC/2014/),"
      ]
    },
    {
      "cell_type": "code",
      "execution_count": 8,
      "metadata": {
        "colab": {
          "base_uri": "https://localhost:8080/",
          "height": 245
        },
        "id": "64KJR70q6dCh",
        "outputId": "7a43823f-7a4a-4798-a8da-0670b6c857f8"
      },
      "outputs": [
        {
          "data": {
            "text/html": [
              "<img src=\"https://distill.pub/2018/building-blocks/examples/input_images/dog_cat.jpeg\"/>"
            ],
            "text/plain": [
              "<IPython.core.display.Image object>"
            ]
          },
          "execution_count": 8,
          "metadata": {},
          "output_type": "execute_result"
        }
      ],
      "source": [
        "# a sample image\n",
        "display.Image(url=\"https://distill.pub/2018/building-blocks/examples/input_images/dog_cat.jpeg\")"
      ]
    },
    {
      "cell_type": "markdown",
      "metadata": {
        "id": "hJ7CvvG78CZ5"
      },
      "source": [
        "the features become increasingly complex,\n",
        "with channels in early layers (left)\n",
        "acting as maps for simple things like \"high frequency power\" or \"45 degree black-white edge\"\n",
        "and channels in later layers (to right)\n",
        "acting as feature maps for increasingly abstract concepts,\n",
        "like \"circle\" and eventually \"floppy round ear\" or \"pointy ear\":"
      ]
    },
    {
      "cell_type": "code",
      "execution_count": 9,
      "metadata": {
        "colab": {
          "base_uri": "https://localhost:8080/",
          "height": 306
        },
        "id": "6w5_RR8d9jEY",
        "outputId": "d58f4036-3721-4887-c4e8-672c056ee5bb"
      },
      "outputs": [
        {
          "data": {
            "text/html": [
              "<img src=\"https://fsdl-public-assets.s3.us-west-2.amazonaws.com/distill-feature-attrib.png\" width=\"1024\"/>"
            ],
            "text/plain": [
              "<IPython.core.display.Image object>"
            ]
          },
          "execution_count": 9,
          "metadata": {},
          "output_type": "execute_result"
        }
      ],
      "source": [
        "# from https://distill.pub/2018/building-blocks/\n",
        "display.Image(url=\"https://fsdl-public-assets.s3.us-west-2.amazonaws.com/distill-feature-attrib.png\", width=1024)"
      ]
    },
    {
      "cell_type": "markdown",
      "metadata": {
        "id": "HLiqEwMY_Co0"
      },
      "source": [
        "> <small> The small square images depict a heuristic estimate\n",
        "of what the entire collection of feature maps\n",
        "at a given layer represent (layer IDs at bottom).\n",
        "They are arranged in a spatial grid and their sizes represent\n",
        "the total magnitude of the layer's activations at that position.\n",
        "For details and interactivity, see\n",
        "[the original Distill article](https://distill.pub/2018/building-blocks/).</small>"
      ]
    },
    {
      "cell_type": "markdown",
      "metadata": {
        "id": "vl8XlEsaA54W"
      },
      "source": [
        "In the\n",
        "[Circuits Thread](https://distill.pub/2020/circuits/)\n",
        "blogpost series,\n",
        "the Open AI Clarity team\n",
        "combines careful examination of weights\n",
        "with direct experimentation\n",
        "to build an understanding of how these higher-level features\n",
        "are constructed in GoogLeNet.\n",
        "\n",
        "For example,\n",
        "they are able to provide reasonable interpretations for\n",
        "[almost every channel in the first five layers](https://distill.pub/2020/circuits/early-vision/).\n",
        "\n",
        "The cell below will pull down their \"weight explorer\" \n",
        "and embed it in this notebook.\n",
        "By default, it starts on\n",
        "[the 52nd channel in the `conv2d1` layer](https://storage.googleapis.com/distill-circuits/inceptionv1-weight-explorer/conv2d1_52.html),\n",
        "which constructs a large, phase-invariant\n",
        "[Gabor filter](https://en.wikipedia.org/wiki/Gabor_filter)\n",
        "from smaller, phase-sensitive filters.\n",
        "It is in turn used to construct\n",
        "[curve](https://storage.googleapis.com/distill-circuits/inceptionv1-weight-explorer/conv2d2_180.html)\n",
        "and\n",
        "[texture](https://storage.googleapis.com/distill-circuits/inceptionv1-weight-explorer/conv2d2_114.html)\n",
        "detectors --\n",
        "click on any image to navigate to the weight explorer page\n",
        "for that channel\n",
        "or change the `layer` and `idx`\n",
        "arguments.\n",
        "For additional context,\n",
        "check out the\n",
        "[Early Vision in InceptionV1 blogpost](https://distill.pub/2020/circuits/early-vision/).\n",
        "\n",
        "Click the \"View this neuron in the OpenAI Microscope\" link\n",
        "for an even richer interactive view,\n",
        "including activations on sample images\n",
        "([example](https://microscope.openai.com/models/inceptionv1/conv2d1_0/52)).\n",
        "\n",
        "The\n",
        "[Circuits Thread](https://distill.pub/2020/circuits/)\n",
        "which this explorer accompanies\n",
        "is chock-full of empirical observations, theoretical speculation, and nuggets of wisdom\n",
        "that are invaluable for developing intuition about both\n",
        "convolutional networks in particular and visual perception in general."
      ]
    },
    {
      "cell_type": "code",
      "execution_count": 10,
      "metadata": {
        "colab": {
          "base_uri": "https://localhost:8080/",
          "height": 741
        },
        "id": "I4-hkYjdB-qQ",
        "outputId": "187a9c79-0246-4d30-fd49-a50709e38521"
      },
      "outputs": [
        {
          "data": {
            "text/html": [
              "\n",
              "        <iframe\n",
              "            width=\"1024\"\n",
              "            height=\"720\"\n",
              "            src=\"https://storage.googleapis.com/distill-circuits/inceptionv1-weight-explorer/conv2d1_52.html\"\n",
              "            frameborder=\"0\"\n",
              "            allowfullscreen\n",
              "        style=\"background: #FFF\";\n",
              "></iframe>\n",
              "        "
            ],
            "text/plain": [
              "<IPython.lib.display.IFrame at 0x7f7c985b3a10>"
            ]
          },
          "execution_count": 10,
          "metadata": {},
          "output_type": "execute_result"
        }
      ],
      "source": [
        "layers = [\"conv2d0\", \"conv2d1\", \"conv2d2\", \"mixed3a\", \"mixed3b\"]\n",
        "layer = layers[1]\n",
        "idx = 52\n",
        "\n",
        "weight_explorer = display.IFrame(\n",
        "    src=f\"https://storage.googleapis.com/distill-circuits/inceptionv1-weight-explorer/{layer}_{idx}.html\", width=1024, height=720)\n",
        "weight_explorer.iframe = 'style=\"background: #FFF\";\\n><'.join(weight_explorer.iframe.split(\"><\"))  # inject background color\n",
        "weight_explorer"
      ]
    },
    {
      "cell_type": "markdown",
      "metadata": {
        "id": "NJ6_PCmVtTFH"
      },
      "source": [
        "# Applying convolutions to handwritten characters: `CNN`s on `EMNIST`"
      ]
    },
    {
      "cell_type": "markdown",
      "metadata": {
        "id": "N--VkRtR5Yr-"
      },
      "source": [
        "If we load up the `CNN` class from `text_recognizer.models`,\n",
        "we'll see that a `data_config` is required to instantiate the model:"
      ]
    },
    {
      "cell_type": "code",
      "execution_count": 11,
      "metadata": {
        "id": "N3MA--zytTFH"
      },
      "outputs": [],
      "source": [
        "import text_recognizer.models\n",
        "\n",
        "\n",
        "text_recognizer.models.CNN??"
      ]
    },
    {
      "cell_type": "markdown",
      "metadata": {
        "id": "7yCP46PO6XDg"
      },
      "source": [
        "So before we can make our convolutional network and train it,\n",
        "we'll need to get a hold of some data.\n",
        "This isn't a general constraint by the way --\n",
        "it's an implementation detail of the `text_recognizer` library.\n",
        "But datasets and models are generally coupled,\n",
        "so it's common for them to share configuration information."
      ]
    },
    {
      "cell_type": "markdown",
      "metadata": {
        "id": "6Z42K-jjtTFH"
      },
      "source": [
        "## The `EMNIST` Handwritten Character Dataset"
      ]
    },
    {
      "cell_type": "markdown",
      "metadata": {
        "id": "oiifKuu4tTFH"
      },
      "source": [
        "We could just use `MNIST` here,\n",
        "as we did in\n",
        "[the first lab](https://fsdl.me/lab01-colab).\n",
        "\n",
        "But we're aiming to eventually build a handwritten text recognition system,\n",
        "which means we need to handle letters and punctuation,\n",
        "not just numbers.\n",
        "\n",
        "So we instead use _EMNIST_,\n",
        "or [Extended MNIST](https://paperswithcode.com/paper/emnist-an-extension-of-mnist-to-handwritten),\n",
        "which includes letters and punctuation."
      ]
    },
    {
      "cell_type": "code",
      "execution_count": 12,
      "metadata": {
        "colab": {
          "base_uri": "https://localhost:8080/"
        },
        "id": "3ePZW1Tfa00K",
        "outputId": "564e1ca6-a357-41df-bcb3-067b5e7d2426"
      },
      "outputs": [
        {
          "name": "stdout",
          "output_type": "stream",
          "text": [
            "EMNIST dataset of handwritten characters and digits.\n",
            "\n",
            "    \"The EMNIST dataset is a set of handwritten character digits derived from the NIST Special Database 19\n",
            "    and converted to a 28x28 pixel image format and dataset structure that directly matches the MNIST dataset.\"\n",
            "    From https://www.nist.gov/itl/iad/image-group/emnist-dataset\n",
            "\n",
            "    The data split we will use is\n",
            "    EMNIST ByClass: 814,255 characters. 62 unbalanced classes.\n",
            "    \n"
          ]
        }
      ],
      "source": [
        "import text_recognizer.data\n",
        "\n",
        "\n",
        "emnist = text_recognizer.data.EMNIST()  # configure\n",
        "print(emnist.__doc__)"
      ]
    },
    {
      "cell_type": "markdown",
      "metadata": {
        "id": "D_yjBYhla6qp"
      },
      "source": [
        "We've built a PyTorch Lightning `DataModule`\n",
        "to encapsulate all the code needed to get this dataset ready to go:\n",
        "downloading to disk,\n",
        "[reformatting to make loading faster](https://www.h5py.org/),\n",
        "and splitting into training, validation, and test."
      ]
    },
    {
      "cell_type": "code",
      "execution_count": 13,
      "metadata": {
        "colab": {
          "base_uri": "https://localhost:8080/"
        },
        "id": "ty2vakBBtTFI",
        "outputId": "16189947-78dd-40d0-e46d-bd39f0522b22"
      },
      "outputs": [
        {
          "name": "stdout",
          "output_type": "stream",
          "text": [
            "Downloading raw dataset from https://s3-us-west-2.amazonaws.com/fsdl-public-assets/matlab.zip to /content/fsdl-text-recognizer-2022-labs/data/downloaded/emnist/matlab.zip...\n"
          ]
        },
        {
          "name": "stderr",
          "output_type": "stream",
          "text": [
            "709MB [00:20, 35.5MB/s]                           \n"
          ]
        },
        {
          "name": "stdout",
          "output_type": "stream",
          "text": [
            "Computing SHA-256...\n",
            "Unzipping EMNIST...\n",
            "Loading training data from .mat file\n",
            "Balancing classes to reduce amount of data\n",
            "Saving to HDF5 in a compressed format...\n",
            "Saving essential dataset parameters to text_recognizer/data...\n",
            "Cleaning up...\n"
          ]
        }
      ],
      "source": [
        "emnist.prepare_data()  # download, save to disk\n",
        "emnist.setup()  # create torch.utils.data.Datasets, do train/val split"
      ]
    },
    {
      "cell_type": "markdown",
      "metadata": {
        "id": "5h9bAXcu8l5J"
      },
      "source": [
        "A brief aside: you might be wondering where this data goes.\n",
        "Datasets are saved to disk inside the repo folder,\n",
        "but not tracked in version control.\n",
        "`git` works well for versioning source code\n",
        "and other text files, but it's a poor fit for large binary data.\n",
        "We only track and version metadata."
      ]
    },
    {
      "cell_type": "code",
      "execution_count": 14,
      "metadata": {
        "colab": {
          "base_uri": "https://localhost:8080/"
        },
        "id": "E5cwDCM88SnU",
        "outputId": "c931e7fd-f199-4c30-f8f2-ef945accaf7a"
      },
      "outputs": [
        {
          "name": "stdout",
          "output_type": "stream",
          "text": [
            "/content/fsdl-text-recognizer-2022-labs/data\n",
            "downloaded  processed  raw\n",
            "metadata.toml  readme.md\n"
          ]
        }
      ],
      "source": [
        "!echo {emnist.data_dirname()}\n",
        "!ls {emnist.data_dirname()}\n",
        "!ls {emnist.data_dirname() / \"raw\" / \"emnist\"}"
      ]
    },
    {
      "cell_type": "markdown",
      "metadata": {
        "id": "IdsIBL9MtTFI"
      },
      "source": [
        "This class comes with a pretty printing method\n",
        "for quick examination of some of that metadata and basic descriptive statistics."
      ]
    },
    {
      "cell_type": "code",
      "execution_count": 15,
      "metadata": {
        "colab": {
          "base_uri": "https://localhost:8080/"
        },
        "id": "Cyw66d6GtTFI",
        "outputId": "830446a2-36e7-493e-f105-408637645285"
      },
      "outputs": [
        {
          "data": {
            "text/plain": [
              "EMNIST Dataset\n",
              "Num classes: 83\n",
              "Mapping: ['<B>', '<S>', '<E>', '<P>', '0', '1', '2', '3', '4', '5', '6', '7', '8', '9', 'A', 'B', 'C', 'D', 'E', 'F', 'G', 'H', 'I', 'J', 'K', 'L', 'M', 'N', 'O', 'P', 'Q', 'R', 'S', 'T', 'U', 'V', 'W', 'X', 'Y', 'Z', 'a', 'b', 'c', 'd', 'e', 'f', 'g', 'h', 'i', 'j', 'k', 'l', 'm', 'n', 'o', 'p', 'q', 'r', 's', 't', 'u', 'v', 'w', 'x', 'y', 'z', ' ', '!', '\"', '#', '&', \"'\", '(', ')', '*', '+', ',', '-', '.', '/', ':', ';', '?']\n",
              "Dims: (1, 28, 28)\n",
              "Train/val/test sizes: 260212, 65054, 53988\n",
              "Batch x stats: (torch.Size([128, 1, 28, 28]), torch.float32, tensor(0.), tensor(0.1781), tensor(0.3366), tensor(1.))\n",
              "Batch y stats: (torch.Size([128]), torch.int64, tensor(4), tensor(65))"
            ]
          },
          "execution_count": 15,
          "metadata": {},
          "output_type": "execute_result"
        }
      ],
      "source": [
        "emnist"
      ]
    },
    {
      "cell_type": "markdown",
      "metadata": {
        "id": "QT0burlOLgoH"
      },
      "source": [
        "\n",
        "> <small> You can add pretty printing to your own Python classes by writing\n",
        "`__str__` or `__repr__` methods for them.\n",
        "The former is generally expected to be human-readable,\n",
        "while the latter is generally expected to be machine-readable;\n",
        "we've broken with that custom here and used `__repr__`. </small>"
      ]
    },
    {
      "cell_type": "markdown",
      "metadata": {
        "id": "XJF3G5idtTFI"
      },
      "source": [
        "Because we've run `.prepare_data` and `.setup`,\n",
        "we can expect that this `DataModule` is ready to provide a `DataLoader`\n",
        "if we invoke the right method --\n",
        "sticking to the PyTorch Lightning API brings these kinds of convenient guarantees\n",
        "even when we're not using the `Trainer` class itself,\n",
        "[as described in Lab 2a](https://fsdl.me/lab02a-colab)."
      ]
    },
    {
      "cell_type": "code",
      "execution_count": 16,
      "metadata": {
        "id": "XJghcZkWtTFI"
      },
      "outputs": [],
      "source": [
        "xs, ys = next(iter(emnist.train_dataloader()))"
      ]
    },
    {
      "cell_type": "markdown",
      "metadata": {
        "id": "40FWjMT-tTFJ"
      },
      "source": [
        "Run the cell below to inspect random elements of this batch."
      ]
    },
    {
      "cell_type": "code",
      "execution_count": 17,
      "metadata": {
        "colab": {
          "base_uri": "https://localhost:8080/",
          "height": 62
        },
        "id": "0hywyEI_tTFJ",
        "outputId": "bddb1320-8c47-4f56-c951-bb4d81f449a1"
      },
      "outputs": [
        {
          "name": "stdout",
          "output_type": "stream",
          "text": [
            "E\n"
          ]
        },
        {
          "data": {
            "image/png": "[encoded data removed]",
            "text/plain": [
              "<PIL.PngImagePlugin.PngImageFile image mode=RGB size=28x28 at 0x7F7BED34B410>"
            ]
          },
          "execution_count": 17,
          "metadata": {},
          "output_type": "execute_result"
        }
      ],
      "source": [
        "import wandb\n",
        "\n",
        "idx = random.randint(0, len(xs) - 1)\n",
        "\n",
        "print(emnist.mapping[ys[idx]])\n",
        "wandb.Image(xs[idx]).image"
      ]
    },
    {
      "cell_type": "markdown",
      "metadata": {
        "id": "hdg_wYWntTFJ"
      },
      "source": [
        "## Putting convolutions in a `torch.nn.Module`"
      ]
    },
    {
      "cell_type": "markdown",
      "metadata": {
        "id": "JGuSx_zvtTFJ"
      },
      "source": [
        "Because we have the data,\n",
        "we now have a `data_config`\n",
        "and can instantiate the model."
      ]
    },
    {
      "cell_type": "code",
      "execution_count": 18,
      "metadata": {
        "colab": {
          "base_uri": "https://localhost:8080/"
        },
        "id": "rxLf7-5jtTFJ",
        "outputId": "5df63ca2-68ce-4753-ab2a-b53b10f59c7c"
      },
      "outputs": [
        {
          "data": {
            "text/plain": [
              "CNN(\n",
              "  (conv1): ConvBlock(\n",
              "    (conv): Conv2d(1, 64, kernel_size=(3, 3), stride=(1, 1), padding=(1, 1))\n",
              "    (relu): ReLU()\n",
              "  )\n",
              "  (conv2): ConvBlock(\n",
              "    (conv): Conv2d(64, 64, kernel_size=(3, 3), stride=(1, 1), padding=(1, 1))\n",
              "    (relu): ReLU()\n",
              "  )\n",
              "  (dropout): Dropout(p=0.25, inplace=False)\n",
              "  (max_pool): MaxPool2d(kernel_size=2, stride=2, padding=0, dilation=1, ceil_mode=False)\n",
              "  (fc1): Linear(in_features=12544, out_features=128, bias=True)\n",
              "  (fc2): Linear(in_features=128, out_features=83, bias=True)\n",
              ")"
            ]
          },
          "execution_count": 18,
          "metadata": {},
          "output_type": "execute_result"
        }
      ],
      "source": [
        "data_config = emnist.config()\n",
        "\n",
        "cnn = text_recognizer.models.CNN(data_config)\n",
        "cnn  # reveals the nn.Modules attached to our nn.Module"
      ]
    },
    {
      "cell_type": "markdown",
      "metadata": {
        "id": "jkeJNVnIMVzJ"
      },
      "source": [
        "We can run this network on our inputs,\n",
        "but we don't expect it to produce correct outputs without training."
      ]
    },
    {
      "cell_type": "code",
      "execution_count": 19,
      "metadata": {
        "colab": {
          "base_uri": "https://localhost:8080/",
          "height": 62
        },
        "id": "4EwujOGqMAZY",
        "outputId": "38dec684-48b9-491a-b101-c22411975860"
      },
      "outputs": [
        {
          "name": "stdout",
          "output_type": "stream",
          "text": [
            "output: <E>\n"
          ]
        },
        {
          "data": {
            "image/png": "[encoded data removed]",
            "text/plain": [
              "<PIL.PngImagePlugin.PngImageFile image mode=RGB size=28x28 at 0x7F7BED381350>"
            ]
          },
          "execution_count": 19,
          "metadata": {},
          "output_type": "execute_result"
        }
      ],
      "source": [
        "idx = random.randint(0, len(xs) - 1)\n",
        "outs = cnn(xs[idx:idx+1])\n",
        "\n",
        "print(\"output:\", emnist.mapping[torch.argmax(outs)])\n",
        "wandb.Image(xs[idx]).image"
      ]
    },
    {
      "cell_type": "markdown",
      "metadata": {
        "id": "P3L8u0estTFJ"
      },
      "source": [
        "We can inspect the `.forward` method to see how these `nn.Module`s are used.\n",
        "\n",
        "> <small> Note: we encourage you to read through the code --\n",
        "either inside the notebooks, as below,\n",
        "in your favorite text editor locally, or\n",
        "[on GitHub](https://github.com/full-stack-deep-learning/fsdl-text-recognizer-2022-labs).\n",
        "There's lots of useful bits of Python that we don't have time to cover explicitly in the labs.</small>"
      ]
    },
    {
      "cell_type": "code",
      "execution_count": 20,
      "metadata": {
        "id": "RtA0W8jvtTFJ"
      },
      "outputs": [],
      "source": [
        "cnn.forward??"
      ]
    },
    {
      "cell_type": "markdown",
      "metadata": {
        "id": "VCycQ88gtTFK"
      },
      "source": [
        "We apply convolutions followed by non-linearities,\n",
        "with intermittent \"pooling\" layers that apply downsampling --\n",
        "similar to the 1989\n",
        "[LeNet](https://doi.org/10.1162%2Fneco.1989.1.4.541)\n",
        "architecture or the 2012\n",
        "[AlexNet](https://doi.org/10.1145%2F3065386)\n",
        "architecture."
      ]
    },
    {
      "cell_type": "markdown",
      "metadata": {
        "id": "qkGJCnMttTFK"
      },
      "source": [
        "The final classification is performed by an MLP.\n",
        "\n",
        "In order to get vectors to pass into that MLP,\n",
        "we first apply `torch.flatten`."
      ]
    },
    {
      "cell_type": "code",
      "execution_count": 21,
      "metadata": {
        "colab": {
          "base_uri": "https://localhost:8080/"
        },
        "id": "WZPhw7ufAKZ7",
        "outputId": "4b07bf15-d0f9-4447-f961-738f99d5bd74"
      },
      "outputs": [
        {
          "data": {
            "text/plain": [
              "tensor([1., 2., 3., 4.])"
            ]
          },
          "execution_count": 21,
          "metadata": {},
          "output_type": "execute_result"
        }
      ],
      "source": [
        "torch.flatten(torch.Tensor([[1, 2], [3, 4]]))"
      ]
    },
    {
      "cell_type": "markdown",
      "metadata": {
        "id": "jCoCa3vCNM8j"
      },
      "source": [
        "## Design considerations for CNNs"
      ]
    },
    {
      "cell_type": "markdown",
      "metadata": {
        "id": "dDLEMnPINTj7"
      },
      "source": [
        "Since the release of AlexNet,\n",
        "there has been a feverish decade of engineering and innovation in CNNs --\n",
        "[dilated convolutions](https://arxiv.org/abs/1511.07122),\n",
        "[residual connections](https://arxiv.org/abs/1512.03385), and\n",
        "[batch normalization](https://arxiv.org/abs/1502.03167)\n",
        "came out in 2015 alone, and\n",
        "[work continues](https://arxiv.org/abs/2201.03545) --\n",
        "so we can only scratch the surface in this course and\n",
        "[the devil is in the details](https://arxiv.org/abs/1405.3531v4).\n",
        "\n",
        "The progress of DNNs in general and CNNs in particular\n",
        "has been mostly evolutionary,\n",
        "with lots of good ideas that didn't work out\n",
        "and weird hacks that stuck around because they did.\n",
        "That can make it very hard to design a fresh architecture\n",
        "from first principles that's anywhere near as effective as existing architectures.\n",
        "You're better off tweaking and mutating an existing architecture\n",
        "than trying to design one yourself.\n",
        "\n",
        "If you're not keeping close tabs on the field,\n",
        "when your first start looking for an architecture to base your work off of\n",
        "it's best to go to trusted aggregators, like\n",
        "[Torch IMage Models](https://github.com/rwightman/pytorch-image-models),\n",
        "or `timm`, on GitHub, or\n",
        "[Papers With Code](https://paperswithcode.com),\n",
        "specifically the section for\n",
        "[computer vision](https://paperswithcode.com/methods/area/computer-vision).\n",
        "You can also take a more bottom-up approach by checking\n",
        "the leaderboards of the latest\n",
        "[Kaggle competitions on computer vision](https://www.kaggle.com/competitions?searchQuery=computer+vision).\n",
        "\n",
        "We'll briefly touch here on some of the main design considerations\n",
        "with classic CNN architectures."
      ]
    },
    {
      "cell_type": "markdown",
      "metadata": {
        "id": "nd0OeyouDNlS"
      },
      "source": [
        "### Shapes and padding"
      ]
    },
    {
      "cell_type": "markdown",
      "metadata": {
        "id": "5w3p8QP6AnGQ"
      },
      "source": [
        "In the `.forward` pass of the `CNN`,\n",
        "we've included comments that indicate the expected shapes\n",
        "of tensors after each line that changes the shape.\n",
        "\n",
        "Tracking and correctly handling shapes is one of the bugbears\n",
        "of CNNs, especially architectures,\n",
        "like LeNet/AlexNet, that include MLP components\n",
        "that can only operate on fixed-shape tensors."
      ]
    },
    {
      "cell_type": "markdown",
      "metadata": {
        "id": "vgbM30jstTFK"
      },
      "source": [
        "[Shape arithmetic gets pretty hairy pretty fast](https://arxiv.org/abs/1603.07285)\n",
        "if you're supporting the wide variety of convolutions.\n",
        "\n",
        "The easiest way to avoid shape bugs is to keep things simple: \n",
        "choose your convolution parameters,\n",
        "like `padding` and `stride`,\n",
        "to keep the shape the same before and after\n",
        "the convolution.\n",
        "\n",
        "That's what we do, by choosing `padding=1`\n",
        "for `kernel_size=3` and `stride=1`.\n",
        "With unit strides and odd-numbered kernel size,\n",
        "the padding that keeps\n",
        "the input the same size is `kernel_size // 2`.\n",
        "\n",
        "As shapes change, so does the amount of GPU memory taken up by the tensors.\n",
        "Keeping sizes fixed within a block removes one axis of variation\n",
        "in the demands on an important resource.\n",
        "\n",
        "After applying our pooling layer,\n",
        "we can just increase the number of kernels by the right factor\n",
        "to keep total tensor size,\n",
        "and thus memory footprint, constant."
      ]
    },
    {
      "cell_type": "markdown",
      "metadata": {
        "id": "2BCkTZGSDSBG"
      },
      "source": [
        "### Parameters, computation, and bottlenecks"
      ]
    },
    {
      "cell_type": "markdown",
      "metadata": {
        "id": "pZbgm7wztTFK"
      },
      "source": [
        "If we review the `num`ber of `el`ements in each of the layers,\n",
        "we see that one layer has far more entries than all the others:"
      ]
    },
    {
      "cell_type": "code",
      "execution_count": 22,
      "metadata": {
        "colab": {
          "base_uri": "https://localhost:8080/"
        },
        "id": "8nfjPVwztTFK",
        "outputId": "2909a7f1-6d21-47ee-ef16-6c9aa91096b5"
      },
      "outputs": [
        {
          "data": {
            "text/plain": [
              "[576, 64, 36864, 64, 1605632, 128, 10624, 83]"
            ]
          },
          "execution_count": 22,
          "metadata": {},
          "output_type": "execute_result"
        }
      ],
      "source": [
        "[p.numel() for p in cnn.parameters()]  # conv weight + bias, conv weight + bias, fc weight + bias, fc weight + bias"
      ]
    },
    {
      "cell_type": "markdown",
      "metadata": {
        "id": "DzIoCz1FtTFK"
      },
      "source": [
        "The biggest layer is typically\n",
        "the one in between the convolutional component\n",
        "and the MLP component:"
      ]
    },
    {
      "cell_type": "code",
      "execution_count": 23,
      "metadata": {
        "colab": {
          "base_uri": "https://localhost:8080/"
        },
        "id": "QYrlUprltTFK",
        "outputId": "60f2949b-29b3-47f7-c9ac-9707da9623a3"
      },
      "outputs": [
        {
          "data": {
            "text/plain": [
              "(torch.Size([128, 12544]), 12544)"
            ]
          },
          "execution_count": 23,
          "metadata": {},
          "output_type": "execute_result"
        }
      ],
      "source": [
        "biggest_layer = [p for p in cnn.parameters() if p.numel() == max(p.numel() for p in cnn.parameters())][0]\n",
        "biggest_layer.shape, cnn.fc_input_dim"
      ]
    },
    {
      "cell_type": "markdown",
      "metadata": {
        "id": "HSHdvEGptTFL"
      },
      "source": [
        "This layer dominates the cost of storing the network on disk.\n",
        "That makes it a common target for\n",
        "regularization techniques like DropOut\n",
        "(as in our architecture)\n",
        "and performance optimizations like\n",
        "[pruning](https://pytorch.org/tutorials/intermediate/pruning_tutorial.html).\n",
        "\n",
        "Heuristically, we often associated more parameters with more computation.\n",
        "But just because that layer has the most parameters\n",
        "does not mean that most of the compute time is spent in that layer.\n",
        "\n",
        "Convolutions reuse the same parameters over and over,\n",
        "so the total number of FLOPs done by the layer can be higher\n",
        "than that done by layers with more parameters --\n",
        "much higher."
      ]
    },
    {
      "cell_type": "code",
      "execution_count": 24,
      "metadata": {
        "colab": {
          "base_uri": "https://localhost:8080/"
        },
        "id": "YLisj1SptTFL",
        "outputId": "16c1c144-a468-4130-818f-2f29d95d096d"
      },
      "outputs": [
        {
          "data": {
            "text/plain": [
              "1605632"
            ]
          },
          "execution_count": 24,
          "metadata": {},
          "output_type": "execute_result"
        }
      ],
      "source": [
        "# for the Linear layers, number of multiplications per input == nparams\n",
        "cnn.fc1.weight.numel()"
      ]
    },
    {
      "cell_type": "code",
      "execution_count": 25,
      "metadata": {
        "id": "Yo2oINHRtTFL"
      },
      "outputs": [],
      "source": [
        "# for the Conv2D layers, it's more complicated\n",
        "\n",
        "def approx_conv_multiplications(kernel_shape, input_size=(64, 28, 28)):  # this is a rough and dirty approximation\n",
        "    num_kernel_elements = 1\n",
        "    for dimension in kernel_shape[-3:]:\n",
        "        num_kernel_elements *= dimension\n",
        "    num_input_channels, num_kernels = input_size[0], kernel_shape[0]\n",
        "    num_spatial_applications = ((input_size[1] - kernel_shape[-2] + 1) * (input_size[2] - kernel_shape[-1] + 1))\n",
        "    mutliplications_per_kernel = num_spatial_applications * num_kernel_elements * num_input_channels\n",
        "    return mutliplications_per_kernel * num_kernels"
      ]
    },
    {
      "cell_type": "code",
      "execution_count": 26,
      "metadata": {
        "colab": {
          "base_uri": "https://localhost:8080/"
        },
        "id": "LwCbZU9PtTFL",
        "outputId": "c33d3fcc-2337-4144-f75f-d0a6938f9acf"
      },
      "outputs": [
        {
          "data": {
            "text/plain": [
              "1594884096"
            ]
          },
          "execution_count": 26,
          "metadata": {},
          "output_type": "execute_result"
        }
      ],
      "source": [
        "approx_conv_multiplications(cnn.conv2.conv.weight.shape)"
      ]
    },
    {
      "cell_type": "code",
      "execution_count": 27,
      "metadata": {
        "colab": {
          "base_uri": "https://localhost:8080/"
        },
        "id": "Sdco4m9UtTFL",
        "outputId": "7ade5d0c-adbb-47f2-bdac-ab1151c7eb35"
      },
      "outputs": [
        {
          "data": {
            "text/plain": [
              "993"
            ]
          },
          "execution_count": 27,
          "metadata": {},
          "output_type": "execute_result"
        }
      ],
      "source": [
        "# ratio of multiplications in the convolution to multiplications in the fully-connected layer is huge!\n",
        "approx_conv_multiplications(cnn.conv2.conv.weight.shape) // cnn.fc1.weight.numel()"
      ]
    },
    {
      "cell_type": "markdown",
      "metadata": {
        "id": "joVoBEtqtTFL"
      },
      "source": [
        "Depending on your compute hardware and the problem characteristics,\n",
        "either the MLP component or the convolutional component\n",
        "could become the critical bottleneck.\n",
        "\n",
        "When you're memory constrained, like when transferring a model \"over the wire\" to a browser,\n",
        "the MLP component is likely to be the bottleneck,\n",
        "whereas when you are compute-constrained, like when running a model on a low-power edge device\n",
        "or in an application with strict low-latency requirements,\n",
        "the convolutional component is likely to be the bottleneck.\n"
      ]
    },
    {
      "cell_type": "markdown",
      "metadata": {
        "id": "pGSyp67dtTFM"
      },
      "source": [
        "## Training a `CNN` on `EMNIST` with the Lightning `Trainer` and `run_experiment`"
      ]
    },
    {
      "cell_type": "markdown",
      "metadata": {
        "id": "AYTJs7snQfX0"
      },
      "source": [
        "We have a model and we have data,\n",
        "so we could just go ahead and start training in raw PyTorch,\n",
        "[as we did in Lab 01](https://fsdl.me/lab01-colab).\n",
        "\n",
        "But as we saw in that lab,\n",
        "there are good reasons to use a framework\n",
        "to organize training and provide fixed interfaces and abstractions.\n",
        "So we're going to use PyTorch Lightning, which is\n",
        "[covered in detail in Lab 02a](https://fsdl.me/lab02a-colab)."
      ]
    },
    {
      "cell_type": "markdown",
      "metadata": {
        "id": "hZYaJ4bdMcWc"
      },
      "source": [
        "We provide a simple script that implements a command line interface\n",
        "to training with PyTorch Lightning\n",
        "using the models and datasets in this repository:\n",
        "`training/run_experiment.py`."
      ]
    },
    {
      "cell_type": "code",
      "execution_count": 28,
      "metadata": {
        "colab": {
          "base_uri": "https://localhost:8080/"
        },
        "id": "52kIYhPBPLNZ",
        "outputId": "0cbd64d1-6f6b-4023-d4e3-af2a3d54d7d9"
      },
      "outputs": [
        {
          "name": "stdout",
          "output_type": "stream",
          "text": [
            "usage: run_experiment.py [--logger [LOGGER]]\n",
            "                         [--checkpoint_callback [CHECKPOINT_CALLBACK]]\n",
            "                         [--enable_checkpointing [ENABLE_CHECKPOINTING]]\n",
            "                         [--default_root_dir DEFAULT_ROOT_DIR]\n",
            "                         [--gradient_clip_val GRADIENT_CLIP_VAL]\n",
            "                         [--gradient_clip_algorithm GRADIENT_CLIP_ALGORITHM]\n",
            "                         [--process_position PROCESS_POSITION]\n",
            "                         [--num_nodes NUM_NODES]\n",
            "                         [--num_processes NUM_PROCESSES] [--devices DEVICES]\n",
            "                         [--gpus GPUS] [--auto_select_gpus [AUTO_SELECT_GPUS]]\n",
            "                         [--tpu_cores TPU_CORES] [--ipus IPUS]\n",
            "                         [--log_gpu_memory LOG_GPU_MEMORY]\n",
            "                         [--progress_bar_refresh_rate PROGRESS_BAR_REFRESH_RATE]\n",
            "                         [--enable_progress_bar [ENABLE_PROGRESS_BAR]]\n",
            "                         [--overfit_batches OVERFIT_BATCHES]\n",
            "                         [--track_grad_norm TRACK_GRAD_NORM]\n",
            "                         [--check_val_every_n_epoch CHECK_VAL_EVERY_N_EPOCH]\n",
            "                         [--fast_dev_run [FAST_DEV_RUN]]\n",
            "                         [--accumulate_grad_batches ACCUMULATE_GRAD_BATCHES]\n",
            "                         [--max_epochs MAX_EPOCHS] [--min_epochs MIN_EPOCHS]\n",
            "                         [--max_steps MAX_STEPS] [--min_steps MIN_STEPS]\n",
            "                         [--max_time MAX_TIME]\n",
            "                         [--limit_train_batches LIMIT_TRAIN_BATCHES]\n",
            "                         [--limit_val_batches LIMIT_VAL_BATCHES]\n",
            "                         [--limit_test_batches LIMIT_TEST_BATCHES]\n",
            "                         [--limit_predict_batches LIMIT_PREDICT_BATCHES]\n",
            "                         [--val_check_interval VAL_CHECK_INTERVAL]\n",
            "                         [--flush_logs_every_n_steps FLUSH_LOGS_EVERY_N_STEPS]\n",
            "                         [--log_every_n_steps LOG_EVERY_N_STEPS]\n",
            "                         [--accelerator ACCELERATOR] [--strategy STRATEGY]\n",
            "                         [--sync_batchnorm [SYNC_BATCHNORM]]\n",
            "                         [--precision PRECISION]\n",
            "                         [--enable_model_summary [ENABLE_MODEL_SUMMARY]]\n",
            "                         [--weights_summary WEIGHTS_SUMMARY]\n",
            "                         [--weights_save_path WEIGHTS_SAVE_PATH]\n",
            "                         [--num_sanity_val_steps NUM_SANITY_VAL_STEPS]\n",
            "                         [--resume_from_checkpoint RESUME_FROM_CHECKPOINT]\n",
            "                         [--profiler PROFILER] [--benchmark [BENCHMARK]]\n",
            "                         [--deterministic [DETERMINISTIC]]\n",
            "                         [--reload_dataloaders_every_n_epochs RELOAD_DATALOADERS_EVERY_N_EPOCHS]\n",
            "                         [--auto_lr_find [AUTO_LR_FIND]]\n",
            "                         [--replace_sampler_ddp [REPLACE_SAMPLER_DDP]]\n",
            "                         [--detect_anomaly [DETECT_ANOMALY]]\n",
            "                         [--auto_scale_batch_size [AUTO_SCALE_BATCH_SIZE]]\n",
            "                         [--prepare_data_per_node [PREPARE_DATA_PER_NODE]]\n",
            "                         [--plugins PLUGINS] [--amp_backend AMP_BACKEND]\n",
            "                         [--amp_level AMP_LEVEL]\n",
            "                         [--move_metrics_to_cpu [MOVE_METRICS_TO_CPU]]\n",
            "                         [--multiple_trainloader_mode MULTIPLE_TRAINLOADER_MODE]\n",
            "                         [--stochastic_weight_avg [STOCHASTIC_WEIGHT_AVG]]\n",
            "                         [--terminate_on_nan [TERMINATE_ON_NAN]]\n",
            "                         [--data_class DATA_CLASS] [--model_class MODEL_CLASS]\n",
            "                         [--load_checkpoint LOAD_CHECKPOINT]\n",
            "                         [--stop_early STOP_EARLY] [--batch_size BATCH_SIZE]\n",
            "                         [--num_workers NUM_WORKERS] [--fc1 FC1] [--fc2 FC2]\n",
            "                         [--fc_dropout FC_DROPOUT] [--optimizer OPTIMIZER]\n",
            "                         [--lr LR] [--one_cycle_max_lr ONE_CYCLE_MAX_LR]\n",
            "                         [--one_cycle_total_steps ONE_CYCLE_TOTAL_STEPS]\n",
            "                         [--loss LOSS] [--help]\n",
            "\n",
            "optional arguments:\n",
            "  --data_class DATA_CLASS\n",
            "                        String identifier for the data class, relative to\n",
            "                        text_recognizer.data.\n",
            "  --model_class MODEL_CLASS\n",
            "                        String identifier for the model class, relative to\n",
            "                        text_recognizer.models.\n",
            "  --load_checkpoint LOAD_CHECKPOINT\n",
            "                        If passed, loads a model from the provided path.\n",
            "  --stop_early STOP_EARLY\n",
            "                        If non-zero, applies early stopping, with the provided\n",
            "                        value as the 'patience' argument. Default is 0.\n",
            "  --help, -h\n",
            "\n",
            "pl.Trainer:\n",
            "  --logger [LOGGER]     Logger (or iterable collection of loggers) for\n",
            "                        experiment tracking. A ``True`` value uses the default\n",
            "                        ``TensorBoardLogger``. ``False`` will disable logging.\n",
            "                        If multiple loggers are provided and the `save_dir`\n",
            "                        property of that logger is not set, local files\n",
            "                        (checkpoints, profiler traces, etc.) are saved in\n",
            "                        ``default_root_dir`` rather than in the ``log_dir`` of\n",
            "                        any of the individual loggers. Default: ``True``.\n",
            "  --checkpoint_callback [CHECKPOINT_CALLBACK]\n",
            "                        If ``True``, enable checkpointing. Default: ``None``.\n",
            "                        .. deprecated:: v1.5 ``checkpoint_callback`` has been\n",
            "                        deprecated in v1.5 and will be removed in v1.7. Please\n",
            "                        consider using ``enable_checkpointing`` instead.\n",
            "  --enable_checkpointing [ENABLE_CHECKPOINTING]\n",
            "                        If ``True``, enable checkpointing. It will configure a\n",
            "                        default ModelCheckpoint callback if there is no user-\n",
            "                        defined ModelCheckpoint in :paramref:`~pytorch_lightni\n",
            "                        ng.trainer.trainer.Trainer.callbacks`. Default:\n",
            "                        ``True``.\n",
            "  --default_root_dir DEFAULT_ROOT_DIR\n",
            "                        Default path for logs and weights when no\n",
            "                        logger/ckpt_callback passed. Default: ``os.getcwd()``.\n",
            "                        Can be remote file paths such as `s3://mybucket/path`\n",
            "                        or 'hdfs://path/'\n",
            "  --gradient_clip_val GRADIENT_CLIP_VAL\n",
            "                        The value at which to clip gradients. Passing\n",
            "                        ``gradient_clip_val=None`` disables gradient clipping.\n",
            "                        If using Automatic Mixed Precision (AMP), the\n",
            "                        gradients will be unscaled before. Default: ``None``.\n",
            "  --gradient_clip_algorithm GRADIENT_CLIP_ALGORITHM\n",
            "                        The gradient clipping algorithm to use. Pass\n",
            "                        ``gradient_clip_algorithm=\"value\"`` to clip by value,\n",
            "                        and ``gradient_clip_algorithm=\"norm\"`` to clip by\n",
            "                        norm. By default it will be set to ``\"norm\"``.\n",
            "  --process_position PROCESS_POSITION\n",
            "                        Orders the progress bar when running multiple models\n",
            "                        on same machine. .. deprecated:: v1.5\n",
            "                        ``process_position`` has been deprecated in v1.5 and\n",
            "                        will be removed in v1.7. Please pass :class:`~pytorch_\n",
            "                        lightning.callbacks.progress.TQDMProgressBar` with\n",
            "                        ``process_position`` directly to the Trainer's\n",
            "                        ``callbacks`` argument instead.\n",
            "  --num_nodes NUM_NODES\n",
            "                        Number of GPU nodes for distributed training. Default:\n",
            "                        ``1``.\n",
            "  --num_processes NUM_PROCESSES\n",
            "                        Number of processes for distributed training with\n",
            "                        ``accelerator=\"cpu\"``. Default: ``1``.\n",
            "  --devices DEVICES     Will be mapped to either `gpus`, `tpu_cores`,\n",
            "                        `num_processes` or `ipus`, based on the accelerator\n",
            "                        type.\n",
            "  --gpus GPUS           Number of GPUs to train on (int) or which GPUs to\n",
            "                        train on (list or str) applied per node Default:\n",
            "                        ``None``.\n",
            "  --auto_select_gpus [AUTO_SELECT_GPUS]\n",
            "                        If enabled and ``gpus`` or ``devices`` is an integer,\n",
            "                        pick available gpus automatically. This is especially\n",
            "                        useful when GPUs are configured to be in \"exclusive\n",
            "                        mode\", such that only one process at a time can access\n",
            "                        them. Default: ``False``.\n",
            "  --tpu_cores TPU_CORES\n",
            "                        How many TPU cores to train on (1 or 8) / Single TPU\n",
            "                        to train on (1) Default: ``None``.\n",
            "  --ipus IPUS           How many IPUs to train on. Default: ``None``.\n",
            "  --log_gpu_memory LOG_GPU_MEMORY\n",
            "                        None, 'min_max', 'all'. Might slow performance. ..\n",
            "                        deprecated:: v1.5 Deprecated in v1.5.0 and will be\n",
            "                        removed in v1.7.0 Please use the\n",
            "                        ``DeviceStatsMonitor`` callback directly instead.\n",
            "  --progress_bar_refresh_rate PROGRESS_BAR_REFRESH_RATE\n",
            "                        How often to refresh progress bar (in steps). Value\n",
            "                        ``0`` disables progress bar. Ignored when a custom\n",
            "                        progress bar is passed to\n",
            "                        :paramref:`~Trainer.callbacks`. Default: None, means a\n",
            "                        suitable value will be chosen based on the environment\n",
            "                        (terminal, Google COLAB, etc.). .. deprecated:: v1.5\n",
            "                        ``progress_bar_refresh_rate`` has been deprecated in\n",
            "                        v1.5 and will be removed in v1.7. Please pass :class:`\n",
            "                        ~pytorch_lightning.callbacks.progress.TQDMProgressBar`\n",
            "                        with ``refresh_rate`` directly to the Trainer's\n",
            "                        ``callbacks`` argument instead. To disable the\n",
            "                        progress bar, pass ``enable_progress_bar = False`` to\n",
            "                        the Trainer.\n",
            "  --enable_progress_bar [ENABLE_PROGRESS_BAR]\n",
            "                        Whether to enable to progress bar by default. Default:\n",
            "                        ``False``.\n",
            "  --overfit_batches OVERFIT_BATCHES\n",
            "                        Overfit a fraction of training data (float) or a set\n",
            "                        number of batches (int). Default: ``0.0``.\n",
            "  --track_grad_norm TRACK_GRAD_NORM\n",
            "                        -1 no tracking. Otherwise tracks that p-norm. May be\n",
            "                        set to 'inf' infinity-norm. If using Automatic Mixed\n",
            "                        Precision (AMP), the gradients will be unscaled before\n",
            "                        logging them. Default: ``-1``.\n",
            "  --check_val_every_n_epoch CHECK_VAL_EVERY_N_EPOCH\n",
            "                        Check val every n train epochs. Default: ``1``.\n",
            "  --fast_dev_run [FAST_DEV_RUN]\n",
            "                        Runs n if set to ``n`` (int) else 1 if set to ``True``\n",
            "                        batch(es) of train, val and test to find any bugs (ie:\n",
            "                        a sort of unit test). Default: ``False``.\n",
            "  --accumulate_grad_batches ACCUMULATE_GRAD_BATCHES\n",
            "                        Accumulates grads every k batches or as set up in the\n",
            "                        dict. Default: ``None``.\n",
            "  --max_epochs MAX_EPOCHS\n",
            "                        Stop training once this number of epochs is reached.\n",
            "                        Disabled by default (None). If both max_epochs and\n",
            "                        max_steps are not specified, defaults to ``max_epochs\n",
            "                        = 1000``. To enable infinite training, set\n",
            "                        ``max_epochs = -1``.\n",
            "  --min_epochs MIN_EPOCHS\n",
            "                        Force training for at least these many epochs.\n",
            "                        Disabled by default (None).\n",
            "  --max_steps MAX_STEPS\n",
            "                        Stop training after this number of steps. Disabled by\n",
            "                        default (-1). If ``max_steps = -1`` and ``max_epochs =\n",
            "                        None``, will default to ``max_epochs = 1000``. To\n",
            "                        enable infinite training, set ``max_epochs`` to\n",
            "                        ``-1``.\n",
            "  --min_steps MIN_STEPS\n",
            "                        Force training for at least these number of steps.\n",
            "                        Disabled by default (``None``).\n",
            "  --max_time MAX_TIME   Stop training after this amount of time has passed.\n",
            "                        Disabled by default (``None``). The time duration can\n",
            "                        be specified in the format DD:HH:MM:SS (days, hours,\n",
            "                        minutes seconds), as a :class:`datetime.timedelta`, or\n",
            "                        a dictionary with keys that will be passed to\n",
            "                        :class:`datetime.timedelta`.\n",
            "  --limit_train_batches LIMIT_TRAIN_BATCHES\n",
            "                        How much of training dataset to check (float =\n",
            "                        fraction, int = num_batches). Default: ``1.0``.\n",
            "  --limit_val_batches LIMIT_VAL_BATCHES\n",
            "                        How much of validation dataset to check (float =\n",
            "                        fraction, int = num_batches). Default: ``1.0``.\n",
            "  --limit_test_batches LIMIT_TEST_BATCHES\n",
            "                        How much of test dataset to check (float = fraction,\n",
            "                        int = num_batches). Default: ``1.0``.\n",
            "  --limit_predict_batches LIMIT_PREDICT_BATCHES\n",
            "                        How much of prediction dataset to check (float =\n",
            "                        fraction, int = num_batches). Default: ``1.0``.\n",
            "  --val_check_interval VAL_CHECK_INTERVAL\n",
            "                        How often to check the validation set. Pass a\n",
            "                        ``float`` in the range [0.0, 1.0] to check after a\n",
            "                        fraction of the training epoch. Pass an ``int`` to\n",
            "                        check after a fixed number of training batches.\n",
            "                        Default: ``1.0``.\n",
            "  --flush_logs_every_n_steps FLUSH_LOGS_EVERY_N_STEPS\n",
            "                        How often to flush logs to disk (defaults to every 100\n",
            "                        steps). .. deprecated:: v1.5\n",
            "                        ``flush_logs_every_n_steps`` has been deprecated in\n",
            "                        v1.5 and will be removed in v1.7. Please configure\n",
            "                        flushing directly in the logger instead.\n",
            "  --log_every_n_steps LOG_EVERY_N_STEPS\n",
            "                        How often to log within steps. Default: ``50``.\n",
            "  --accelerator ACCELERATOR\n",
            "                        Supports passing different accelerator types (\"cpu\",\n",
            "                        \"gpu\", \"tpu\", \"ipu\", \"hpu\", \"auto\") as well as custom\n",
            "                        accelerator instances. .. deprecated:: v1.5 Passing\n",
            "                        training strategies (e.g., 'ddp') to ``accelerator``\n",
            "                        has been deprecated in v1.5.0 and will be removed in\n",
            "                        v1.7.0. Please use the ``strategy`` argument instead.\n",
            "  --strategy STRATEGY   Supports different training strategies with aliases as\n",
            "                        well custom strategies. Default: ``None``.\n",
            "  --sync_batchnorm [SYNC_BATCHNORM]\n",
            "                        Synchronize batch norm layers between process\n",
            "                        groups/whole world. Default: ``False``.\n",
            "  --precision PRECISION\n",
            "                        Double precision (64), full precision (32), half\n",
            "                        precision (16) or bfloat16 precision (bf16). Can be\n",
            "                        used on CPU, GPU, TPUs, HPUs or IPUs. Default: ``32``.\n",
            "  --enable_model_summary [ENABLE_MODEL_SUMMARY]\n",
            "                        Whether to enable model summarization by default.\n",
            "                        Default: ``True``.\n",
            "  --weights_summary WEIGHTS_SUMMARY\n",
            "                        Prints a summary of the weights when training begins.\n",
            "                        .. deprecated:: v1.5 ``weights_summary`` has been\n",
            "                        deprecated in v1.5 and will be removed in v1.7. To\n",
            "                        disable the summary, pass ``enable_model_summary =\n",
            "                        False`` to the Trainer. To customize the summary, pass\n",
            "                        :class:`~pytorch_lightning.callbacks.model_summary.Mod\n",
            "                        elSummary` directly to the Trainer's ``callbacks``\n",
            "                        argument.\n",
            "  --weights_save_path WEIGHTS_SAVE_PATH\n",
            "                        Where to save weights if specified. Will override\n",
            "                        default_root_dir for checkpoints only. Use this if for\n",
            "                        whatever reason you need the checkpoints stored in a\n",
            "                        different place than the logs written in\n",
            "                        `default_root_dir`. Can be remote file paths such as\n",
            "                        `s3://mybucket/path` or 'hdfs://path/' Defaults to\n",
            "                        `default_root_dir`. .. deprecated:: v1.6\n",
            "                        ``weights_save_path`` has been deprecated in v1.6 and\n",
            "                        will be removed in v1.8. Please pass ``dirpath``\n",
            "                        directly to the :class:`~pytorch_lightning.callbacks.m\n",
            "                        odel_checkpoint.ModelCheckpoint` callback.\n",
            "  --num_sanity_val_steps NUM_SANITY_VAL_STEPS\n",
            "                        Sanity check runs n validation batches before starting\n",
            "                        the training routine. Set it to `-1` to run all\n",
            "                        batches in all validation dataloaders. Default: ``2``.\n",
            "  --resume_from_checkpoint RESUME_FROM_CHECKPOINT\n",
            "                        Path/URL of the checkpoint from which training is\n",
            "                        resumed. If there is no checkpoint file at the path,\n",
            "                        an exception is raised. If resuming from mid-epoch\n",
            "                        checkpoint, training will start from the beginning of\n",
            "                        the next epoch. .. deprecated:: v1.5\n",
            "                        ``resume_from_checkpoint`` is deprecated in v1.5 and\n",
            "                        will be removed in v2.0. Please pass the path to\n",
            "                        ``Trainer.fit(..., ckpt_path=...)`` instead.\n",
            "  --profiler PROFILER   To profile individual steps during training and assist\n",
            "                        in identifying bottlenecks. Default: ``None``.\n",
            "  --benchmark [BENCHMARK]\n",
            "                        Sets ``torch.backends.cudnn.benchmark``. Defaults to\n",
            "                        ``True`` if :paramref:`~pytorch_lightning.trainer.trai\n",
            "                        ner.Trainer.deterministic` is ``False``. Overwrite to\n",
            "                        manually set a different value. Default: ``None``.\n",
            "  --deterministic [DETERMINISTIC]\n",
            "                        If ``True``, sets whether PyTorch operations must use\n",
            "                        deterministic algorithms. Default: ``False``.\n",
            "  --reload_dataloaders_every_n_epochs RELOAD_DATALOADERS_EVERY_N_EPOCHS\n",
            "                        Set to a non-negative integer to reload dataloaders\n",
            "                        every n epochs. Default: ``0``.\n",
            "  --auto_lr_find [AUTO_LR_FIND]\n",
            "                        If set to True, will make trainer.tune() run a\n",
            "                        learning rate finder, trying to optimize initial\n",
            "                        learning for faster convergence. trainer.tune() method\n",
            "                        will set the suggested learning rate in self.lr or\n",
            "                        self.learning_rate in the LightningModule. To use a\n",
            "                        different key set a string instead of True with the\n",
            "                        key name. Default: ``False``.\n",
            "  --replace_sampler_ddp [REPLACE_SAMPLER_DDP]\n",
            "                        Explicitly enables or disables sampler replacement. If\n",
            "                        not specified this will toggled automatically when DDP\n",
            "                        is used. By default it will add ``shuffle=True`` for\n",
            "                        train sampler and ``shuffle=False`` for val/test\n",
            "                        sampler. If you want to customize it, you can set\n",
            "                        ``replace_sampler_ddp=False`` and add your own\n",
            "                        distributed sampler.\n",
            "  --detect_anomaly [DETECT_ANOMALY]\n",
            "                        Enable anomaly detection for the autograd engine.\n",
            "                        Default: ``False``.\n",
            "  --auto_scale_batch_size [AUTO_SCALE_BATCH_SIZE]\n",
            "                        If set to True, will `initially` run a batch size\n",
            "                        finder trying to find the largest batch size that fits\n",
            "                        into memory. The result will be stored in\n",
            "                        self.batch_size in the LightningModule. Additionally,\n",
            "                        can be set to either `power` that estimates the batch\n",
            "                        size through a power search or `binsearch` that\n",
            "                        estimates the batch size through a binary search.\n",
            "                        Default: ``False``.\n",
            "  --prepare_data_per_node [PREPARE_DATA_PER_NODE]\n",
            "                        If True, each LOCAL_RANK=0 will call prepare data.\n",
            "                        Otherwise only NODE_RANK=0, LOCAL_RANK=0 will prepare\n",
            "                        data .. deprecated:: v1.5 Deprecated in v1.5.0 and\n",
            "                        will be removed in v1.7.0 Please set\n",
            "                        ``prepare_data_per_node`` in ``LightningDataModule``\n",
            "                        and/or ``LightningModule`` directly instead.\n",
            "  --plugins PLUGINS     Plugins allow modification of core behavior like ddp\n",
            "                        and amp, and enable custom lightning plugins. Default:\n",
            "                        ``None``.\n",
            "  --amp_backend AMP_BACKEND\n",
            "                        The mixed precision backend to use (\"native\" or\n",
            "                        \"apex\"). Default: ``'native''``.\n",
            "  --amp_level AMP_LEVEL\n",
            "                        The optimization level to use (O1, O2, etc...). By\n",
            "                        default it will be set to \"O2\" if ``amp_backend`` is\n",
            "                        set to \"apex\".\n",
            "  --move_metrics_to_cpu [MOVE_METRICS_TO_CPU]\n",
            "                        Whether to force internal logged metrics to be moved\n",
            "                        to cpu. This can save some gpu memory, but can make\n",
            "                        training slower. Use with attention. Default:\n",
            "                        ``False``.\n",
            "  --multiple_trainloader_mode MULTIPLE_TRAINLOADER_MODE\n",
            "                        How to loop over the datasets when there are multiple\n",
            "                        train loaders. In 'max_size_cycle' mode, the trainer\n",
            "                        ends one epoch when the largest dataset is traversed,\n",
            "                        and smaller datasets reload when running out of their\n",
            "                        data. In 'min_size' mode, all the datasets reload when\n",
            "                        reaching the minimum length of datasets. Default:\n",
            "                        ``\"max_size_cycle\"``.\n",
            "  --stochastic_weight_avg [STOCHASTIC_WEIGHT_AVG]\n",
            "                        Whether to use `Stochastic Weight Averaging (SWA)\n",
            "                        <https://pytorch.org/blog/pytorch-1.6-now-includes-\n",
            "                        stochastic-weight-averaging/>`_. Default: ``False``.\n",
            "                        .. deprecated:: v1.5 ``stochastic_weight_avg`` has\n",
            "                        been deprecated in v1.5 and will be removed in v1.7.\n",
            "                        Please pass :class:`~pytorch_lightning.callbacks.stoch\n",
            "                        astic_weight_avg.StochasticWeightAveraging` directly\n",
            "                        to the Trainer's ``callbacks`` argument instead.\n",
            "  --terminate_on_nan [TERMINATE_ON_NAN]\n",
            "                        If set to True, will terminate training (by raising a\n",
            "                        `ValueError`) at the end of each training batch, if\n",
            "                        any of the parameters or the loss are NaN or +/-inf.\n",
            "                        .. deprecated:: v1.5 Trainer argument\n",
            "                        ``terminate_on_nan`` was deprecated in v1.5 and will\n",
            "                        be removed in 1.7. Please use ``detect_anomaly``\n",
            "                        instead.\n",
            "\n",
            "Data Args:\n",
            "  --batch_size BATCH_SIZE\n",
            "                        Number of examples to operate on per forward step.\n",
            "                        Default is 128.\n",
            "  --num_workers NUM_WORKERS\n",
            "                        Number of additional processes to load data. Default\n",
            "                        is 2.\n",
            "\n",
            "Model Args:\n",
            "  --fc1 FC1\n",
            "  --fc2 FC2\n",
            "  --fc_dropout FC_DROPOUT\n",
            "\n",
            "LitModel Args:\n",
            "  --optimizer OPTIMIZER\n",
            "                        optimizer class from torch.optim\n",
            "  --lr LR\n",
            "  --one_cycle_max_lr ONE_CYCLE_MAX_LR\n",
            "  --one_cycle_total_steps ONE_CYCLE_TOTAL_STEPS\n",
            "  --loss LOSS           loss function from torch.nn.functional\n"
          ]
        }
      ],
      "source": [
        "%run training/run_experiment.py --help"
      ]
    },
    {
      "cell_type": "markdown",
      "metadata": {
        "id": "rkM_HpILSyC9"
      },
      "source": [
        "The `pl.Trainer` arguments come first\n",
        "and there\n",
        "[are a lot of them](https://pytorch-lightning.readthedocs.io/en/1.6.3/common/trainer.html),\n",
        "so if we want to see what's configurable for\n",
        "our `Model` or our `LitModel`,\n",
        "we want the last few dozen lines of the help message:"
      ]
    },
    {
      "cell_type": "code",
      "execution_count": 29,
      "metadata": {
        "colab": {
          "base_uri": "https://localhost:8080/"
        },
        "id": "G0dBhgogO8_A",
        "outputId": "eb3b594c-b091-4c82-8ed8-95a8f18d6ac9"
      },
      "outputs": [
        {
          "name": "stdout",
          "output_type": "stream",
          "text": [
            "                        .. deprecated:: v1.5 Trainer argument\n",
            "                        ``terminate_on_nan`` was deprecated in v1.5 and will\n",
            "                        be removed in 1.7. Please use ``detect_anomaly``\n",
            "                        instead.\n",
            "\n",
            "Data Args:\n",
            "  --batch_size BATCH_SIZE\n",
            "                        Number of examples to operate on per forward step.\n",
            "                        Default is 128.\n",
            "  --num_workers NUM_WORKERS\n",
            "                        Number of additional processes to load data. Default\n",
            "                        is 2.\n",
            "\n",
            "Model Args:\n",
            "  --conv_dim CONV_DIM\n",
            "  --fc_dim FC_DIM\n",
            "  --fc_dropout FC_DROPOUT\n",
            "\n",
            "LitModel Args:\n",
            "  --optimizer OPTIMIZER\n",
            "                        optimizer class from torch.optim\n",
            "  --lr LR\n",
            "  --one_cycle_max_lr ONE_CYCLE_MAX_LR\n",
            "  --one_cycle_total_steps ONE_CYCLE_TOTAL_STEPS\n",
            "  --loss LOSS           loss function from torch.nn.functional\n"
          ]
        }
      ],
      "source": [
        "!python training/run_experiment.py --help --model_class CNN --data_class EMNIST  | tail -n 25"
      ]
    },
    {
      "cell_type": "markdown",
      "metadata": {
        "id": "NCBQekrPRt90"
      },
      "source": [
        "The `run_experiment.py` file is also importable as a module,\n",
        "so that you can inspect its contents\n",
        "and play with its component functions in a notebook."
      ]
    },
    {
      "cell_type": "code",
      "execution_count": 30,
      "metadata": {
        "colab": {
          "base_uri": "https://localhost:8080/"
        },
        "id": "CPumvYatPaiS",
        "outputId": "17f9ea80-f0a5-4704-fa0a-030a0c86a860"
      },
      "outputs": [
        {
          "name": "stdout",
          "output_type": "stream",
          "text": [
            "\n",
            "    Run an experiment.\n",
            "\n",
            "    Sample command:\n",
            "    ```\n",
            "    python training/run_experiment.py --max_epochs=3 --gpus='0,' --num_workers=20 --model_class=MLP --data_class=MNIST\n",
            "    ```\n",
            "\n",
            "    For basic help documentation, run the command\n",
            "    ```\n",
            "    python training/run_experiment.py --help\n",
            "    ```\n",
            "\n",
            "    The available command line args differ depending on some of the arguments, including --model_class and --data_class.\n",
            "\n",
            "    To see which command line args are available and read their documentation, provide values for those arguments\n",
            "    before invoking --help, like so:\n",
            "    ```\n",
            "    python training/run_experiment.py --model_class=MLP --data_class=MNIST --help\n",
            "    \n"
          ]
        }
      ],
      "source": [
        "import training.run_experiment\n",
        "\n",
        "\n",
        "print(training.run_experiment.main.__doc__)"
      ]
    },
    {
      "cell_type": "markdown",
      "metadata": {
        "id": "YiZ3RwW2UzJm"
      },
      "source": [
        "Let's run training!\n",
        "\n",
        "Execute the cell below to launch a training job for a CNN on EMNIST with default arguments.\n",
        "\n",
        "This will take several minutes on commodity hardware,\n",
        "so feel free to keep reading while it runs."
      ]
    },
    {
      "cell_type": "code",
      "execution_count": 31,
      "metadata": {
        "colab": {
          "base_uri": "https://localhost:8080/",
          "height": 674,
          "referenced_widgets": [
            "9afce83bf94d4a959bc1513483712c65",
            "8ce97a12c7c14b0eb77f66b946038310",
            "794ea6899aaf4dc4869f85b01f068cf7",
            "85205ab31b9f48ecb4ec7655d00f4976",
            "f81195a743c54d86a99824ad52e658f4",
            "af6985e4bf404b26b514e6408f5a0030",
            "3b94619934434844b4072a172aee53a8",
            "c7af2a171bf341feb12a566cf4a855c7",
            "4576b4d09bac43bf9b69305f4f0e0ce7",
            "17d3b2a4370245108c0b8e691dc93c8f",
            "f83c6165a65348dfbc95ffb30204d603",
            "292630b9e62b45ecb2da4e4d4c3521f5",
            "694ec72093994b1a9207831f1f058750",
            "84371c3851ac4e7eb6ec9cab6a337ab7",
            "ca4e2c58b12e4f4a981e4e7b5224080f",
            "5699955eb31f4d3e989a51a5463d20cc",
            "30143367b5e84252a0d60c7809c99586",
            "8c70715b60ef4a669344450188b6557b",
            "a570990d40324439b0772d55ea4d39b8",
            "ff55159145b4405d825aa164b0d36c68",
            "459c7d8b1b47486fad6413989b22456b",
            "c985cf4b9da944eea4874ca6acdab99b",
            "eb5365de786e45c1be509887f67179d3",
            "d79f0ca3cf36473d99c1449630bb6993",
            "f33cf7fb8f184eaead13db253ce9033f",
            "08462878efe84ef295b92ffec08be312",
            "2ad8a9d7e00f4369967f0848ee0cdbb1",
            "a9dd46ba1a9c48089cdd72aafbdd7fb3",
            "ce4f27dac72b4203822d4e5e15630bb2",
            "cf9873da84044213911598d842753fc7",
            "d22f24f9c1c348abbfbe4ceb9cf069b9",
            "6715a04e64be4711a1507c8bf21fe821",
            "55c3e7aef384420aadcc228750ae1838",
            "f4724fb26a524216960a82ea0550a865",
            "6ce119c357ca4144b7500aa8a97762a2",
            "ab37ddb5e7564359af95090cdc6ceb8c",
            "ba612eb0d123446c831a5e4e33b5d32d",
            "630cce1c05744c47af3046cec9b13424",
            "8f6175525f09496db91fda47b17fd553",
            "b18d76a09c0b450096d3ce27dca766d1",
            "0188363f0ef242139ba31fff7df86e96",
            "7451a9eda1cc4adeaa361b8839117bdf",
            "77a61ad63a454685a6e9ae5da394d31a",
            "f53fd11eaf3145a69aedd257ef1b9e2f"
          ]
        },
        "id": "5RSJM5I2TSeG",
        "outputId": "77dc7045-5a38-49c1-bab0-dfb9afa06ec2",
        "scrolled": true
      },
      "outputs": [
        {
          "name": "stderr",
          "output_type": "stream",
          "text": [
            "WARNING:pytorch_lightning.loggers.tensorboard:Missing logger folder: training/logs/lightning_logs\n",
            "INFO:pytorch_lightning.utilities.rank_zero:Trainer already configured with model summary callbacks: [<class 'pytorch_lightning.callbacks.model_summary.ModelSummary'>]. Skipping setting a default `ModelSummary` callback.\n",
            "INFO:pytorch_lightning.utilities.rank_zero:GPU available: True, used: True\n",
            "INFO:pytorch_lightning.utilities.rank_zero:TPU available: False, using: 0 TPU cores\n",
            "INFO:pytorch_lightning.utilities.rank_zero:IPU available: False, using: 0 IPUs\n",
            "INFO:pytorch_lightning.utilities.rank_zero:HPU available: False, using: 0 HPUs\n",
            "INFO:pytorch_lightning.accelerators.gpu:LOCAL_RANK: 0 - CUDA_VISIBLE_DEVICES: [0]\n",
            "INFO:pytorch_lightning.callbacks.model_summary:\n",
            "  | Name           | Type      | Params\n",
            "---------------------------------------------\n",
            "0 | model          | CNN       | 1.7 M \n",
            "1 | model.conv1    | ConvBlock | 640   \n",
            "2 | model.conv2    | ConvBlock | 36.9 K\n",
            "3 | model.dropout  | Dropout   | 0     \n",
            "4 | model.max_pool | MaxPool2d | 0     \n",
            "5 | model.fc1      | Linear    | 1.6 M \n",
            "6 | model.fc2      | Linear    | 10.7 K\n",
            "7 | train_acc      | Accuracy  | 0     \n",
            "8 | val_acc        | Accuracy  | 0     \n",
            "9 | test_acc       | Accuracy  | 0     \n",
            "---------------------------------------------\n",
            "1.7 M     Trainable params\n",
            "0         Non-trainable params\n",
            "1.7 M     Total params\n",
            "6.616     Total estimated model params size (MB)\n"
          ]
        },
        {
          "data": {
            "application/vnd.jupyter.widget-view+json": {
              "model_id": "9afce83bf94d4a959bc1513483712c65",
              "version_major": 2,
              "version_minor": 0
            },
            "text/plain": [
              "Sanity Checking: 0it [00:00, ?it/s]"
            ]
          },
          "metadata": {},
          "output_type": "display_data"
        },
        {
          "data": {
            "application/vnd.jupyter.widget-view+json": {
              "model_id": "292630b9e62b45ecb2da4e4d4c3521f5",
              "version_major": 2,
              "version_minor": 0
            },
            "text/plain": [
              "Training: 0it [00:00, ?it/s]"
            ]
          },
          "metadata": {},
          "output_type": "display_data"
        },
        {
          "data": {
            "application/vnd.jupyter.widget-view+json": {
              "model_id": "eb5365de786e45c1be509887f67179d3",
              "version_major": 2,
              "version_minor": 0
            },
            "text/plain": [
              "Validation: 0it [00:00, ?it/s]"
            ]
          },
          "metadata": {},
          "output_type": "display_data"
        },
        {
          "name": "stderr",
          "output_type": "stream",
          "text": [
            "INFO:pytorch_lightning.accelerators.gpu:LOCAL_RANK: 0 - CUDA_VISIBLE_DEVICES: [0]\n"
          ]
        },
        {
          "data": {
            "application/vnd.jupyter.widget-view+json": {
              "model_id": "f4724fb26a524216960a82ea0550a865",
              "version_major": 2,
              "version_minor": 0
            },
            "text/plain": [
              "Testing: 0it [00:00, ?it/s]"
            ]
          },
          "metadata": {},
          "output_type": "display_data"
        },
        {
          "name": "stderr",
          "output_type": "stream",
          "text": [
            "INFO:pytorch_lightning.utilities.rank_zero:Best model saved at: /content/fsdl-text-recognizer-2022-labs/lab02/training/logs/lightning_logs/version_0/epoch=0000-validation.loss=0.573.ckpt\n"
          ]
        },
        {
          "name": "stdout",
          "output_type": "stream",
          "text": [
            "────────────────────────────────────────────────────────────────────────────────────────────────────────────────────────\n",
            "       Test metric             DataLoader 0\n",
            "────────────────────────────────────────────────────────────────────────────────────────────────────────────────────────\n",
            "        test/acc            0.7857671976089478\n",
            "        test/loss           0.5774174928665161\n",
            "────────────────────────────────────────────────────────────────────────────────────────────────────────────────────────\n"
          ]
        }
      ],
      "source": [
        "gpus = int(torch.cuda.is_available())  # use GPUs if they're available\n",
        "\n",
        "%run training/run_experiment.py --model_class CNN --data_class EMNIST --gpus {gpus}"
      ]
    },
    {
      "cell_type": "markdown",
      "metadata": {
        "id": "_ayQ4ByJOnnP"
      },
      "source": [
        "The first thing you'll see are a few logger messages from Lightning,\n",
        "then some info about the hardware you have available and are using."
      ]
    },
    {
      "cell_type": "markdown",
      "metadata": {
        "id": "VcMrZcecO1EF"
      },
      "source": [
        "Then you'll see a summary of your model,\n",
        "including module names, parameter counts,\n",
        "and information about model disk size.\n",
        "\n",
        "`torchmetrics` show up here as well,\n",
        "since they are also `nn.Module`s.\n",
        "See [Lab 02a](https://fsdl.me/lab02a-colab)\n",
        "for details.\n",
        "We're tracking accuracy on training, validation, and test sets."
      ]
    },
    {
      "cell_type": "markdown",
      "metadata": {
        "id": "twGp9iWOUSfc"
      },
      "source": [
        "You may also see a quick message in the terminal\n",
        "referencing a \"validation sanity check\".\n",
        "PyTorch Lightning runs a few batches of validation data\n",
        "through the model before the first training epoch.\n",
        "This helps prevent training runs from crashing\n",
        "at the end of the first epoch,\n",
        "which is otherwise the first time validation loops are triggered\n",
        "and is sometimes hours into training,\n",
        "by crashing them quickly at the start.\n",
        "\n",
        "If you want to turn off the check,\n",
        "use `--num_sanity_val_steps=0`."
      ]
    },
    {
      "cell_type": "markdown",
      "metadata": {
        "id": "jnKN3_MiRpE4"
      },
      "source": [
        "Then, you'll see a bar indicating\n",
        "progress through the training epoch,\n",
        "alongside metrics like throughput and loss.\n",
        "\n",
        "When the first (and only) epoch ends,\n",
        "the model is run on the validation set\n",
        "and aggregate loss and accuracy are reported to the console."
      ]
    },
    {
      "cell_type": "markdown",
      "metadata": {
        "id": "R2eMZz_HR8vV"
      },
      "source": [
        "At the end of training,\n",
        "we call `Trainer.test`\n",
        "to check performance on the test set.\n",
        "\n",
        "We typically see test accuracy around 75-80%"
      ]
    },
    {
      "cell_type": "markdown",
      "metadata": {
        "id": "ybpLiKBKSDXI"
      },
      "source": [
        "During training, PyTorch Lightning saves _checkpoints_\n",
        "(file extension `.ckpt`)\n",
        "that can be used to restart training.\n",
        "\n",
        "The final line output by `run_experiment`\n",
        "indicates where the model with the best performance\n",
        "on the validation set has been saved.\n",
        "\n",
        "The checkpointing behavior is configured using a\n",
        "[`ModelCheckpoint` callback](https://pytorch-lightning.readthedocs.io/en/1.6.3/api/pytorch_lightning.callbacks.ModelCheckpoint.html).\n",
        "The `run_experiment` script picks sensible defaults.\n",
        "\n",
        "These checkpoints contain the model weights.\n",
        "We can use them to los the model in the notebook and play around with it."
      ]
    },
    {
      "cell_type": "code",
      "execution_count": 32,
      "metadata": {
        "colab": {
          "base_uri": "https://localhost:8080/",
          "height": 35
        },
        "id": "3Rqh9ZQsY8g4",
        "outputId": "4ccbca27-41f4-46c3-cde1-304736dcdb11"
      },
      "outputs": [
        {
          "data": {
            "application/vnd.google.colaboratory.intrinsic+json": {
              "type": "string"
            },
            "text/plain": [
              "'training/logs/lightning_logs/version_0/epoch=0000-validation.loss=0.573.ckpt'"
            ]
          },
          "execution_count": 32,
          "metadata": {},
          "output_type": "execute_result"
        }
      ],
      "source": [
        "# we use a sequence of bash commands to get the latest checkpoint's filename\n",
        "#  by hand, you can just copy and paste it\n",
        "\n",
        "list_all_log_files = \"find training/logs/lightning_logs\"  # find avoids issues with \\n in filenames\n",
        "filter_to_ckpts = \"grep \\.ckpt$\"  # regex match on end of line\n",
        "sort_version_descending = \"sort -Vr\"  # uses \"version\" sorting (-V) and reverses (-r)\n",
        "take_first = \"head -n 1\"  # the first n elements, n=1\n",
        "\n",
        "latest_ckpt, = ! {list_all_log_files} | {filter_to_ckpts} | {sort_version_descending} | {take_first}\n",
        "latest_ckpt"
      ]
    },
    {
      "cell_type": "markdown",
      "metadata": {
        "id": "7QW_CxR3coV6"
      },
      "source": [
        "To rebuild the model,\n",
        "we need to consider some implementation details of the `run_experiment` script.\n",
        "\n",
        "We use the parsed command line arguments, the `args`, to build the data and model,\n",
        "then use all three to build the `LightningModule`.\n",
        "\n",
        "Any `LightningModule` can be reinstantiated from a checkpoint\n",
        "using the `load_from_checkpoint` method,\n",
        "but we'll need to recreate and pass the `args`\n",
        "in order to reload the model.\n",
        "(We'll see how this can be automated later)."
      ]
    },
    {
      "cell_type": "code",
      "execution_count": 33,
      "metadata": {
        "id": "oVWEHcgvaSqZ"
      },
      "outputs": [],
      "source": [
        "import training.util\n",
        "from argparse import Namespace\n",
        "\n",
        "\n",
        "# if you change around model/data args in the command above, add them here\n",
        "#  tip: define the arguments as variables, like we've done for gpus\n",
        "#       and then add those variables to this dict so you don't need to\n",
        "#       remember to update/copy+paste\n",
        "\n",
        "args = Namespace(**{\n",
        "    \"model_class\": \"CNN\",\n",
        "    \"data_class\": \"EMNIST\"})\n",
        "\n",
        "\n",
        "_, cnn = training.util.setup_data_and_model_from_args(args)\n",
        "\n",
        "reloaded_model = text_recognizer.lit_models.BaseLitModel.load_from_checkpoint(\n",
        "   latest_ckpt, args=args, model=cnn)"
      ]
    },
    {
      "cell_type": "markdown",
      "metadata": {
        "id": "MynyI_eUcixa"
      },
      "source": [
        "With the model reloads, we can run it on some sample data\n",
        "and see how it's doing:"
      ]
    },
    {
      "cell_type": "code",
      "execution_count": 34,
      "metadata": {
        "colab": {
          "base_uri": "https://localhost:8080/",
          "height": 62
        },
        "id": "L0HCxgVwcRAA",
        "outputId": "48f2cbea-da7e-456d-96d0-67edb3024dc4"
      },
      "outputs": [
        {
          "name": "stdout",
          "output_type": "stream",
          "text": [
            "output: l\n"
          ]
        },
        {
          "data": {
            "image/png": "[encoded data removed]",
            "text/plain": [
              "<PIL.PngImagePlugin.PngImageFile image mode=RGB size=28x28 at 0x7F7BEC2ACB50>"
            ]
          },
          "execution_count": 34,
          "metadata": {},
          "output_type": "execute_result"
        }
      ],
      "source": [
        "idx = random.randint(0, len(xs) - 1)\n",
        "outs = reloaded_model(xs[idx:idx+1])\n",
        "\n",
        "print(\"output:\", emnist.mapping[torch.argmax(outs)])\n",
        "wandb.Image(xs[idx]).image"
      ]
    },
    {
      "cell_type": "markdown",
      "metadata": {
        "id": "G6NtaHuVdfqt"
      },
      "source": [
        "I generally see subjectively good performance --\n",
        "without seeing the labels, I tend to agree with the model's output\n",
        "more often than the accuracy would suggest,\n",
        "since some classes, like c and C or o, O, and 0,\n",
        "are essentially indistinguishable."
      ]
    },
    {
      "cell_type": "markdown",
      "metadata": {
        "id": "5ZzcDcxpVkki"
      },
      "source": [
        "We can continue a promising training run from the checkpoint.\n",
        "Run the cell below to train the model just trained above\n",
        "for another epoch.\n",
        "Note that the training loss starts out closs to where it ended\n",
        "in the previous run.\n",
        "\n",
        "Paired with cloud storage of checkpoints,\n",
        "this makes it possible to use\n",
        "[a cheaper type of cloud instance](https://cloud.google.com/blog/products/ai-machine-learning/reduce-the-costs-of-ml-workflows-with-preemptible-vms-and-gpus)\n",
        "that can be pre-empted by someone willing to pay more,\n",
        "which terminates your job.\n",
        "It's also helpful when using Google Colab for more serious projects --\n",
        "your training runs are no longer bound by the maximum uptime of a Colab notebook."
      ]
    },
    {
      "cell_type": "code",
      "execution_count": 35,
      "metadata": {
        "colab": {
          "base_uri": "https://localhost:8080/",
          "height": 657,
          "referenced_widgets": [
            "803c4fe96fe446f4a66b351e05cfa151",
            "c5dbc907433b45438b5bc9e71c587b25",
            "03cd51f670d94f9bb95690c8cd94fd2d",
            "4d99ba34ea244723b52a6928eb144283",
            "6fdac55b82d64fa3bea645324cbe2dfb",
            "1648626da92845daad5fecb1ed969210",
            "bd3da3a26f4b44048b06ca9d529e9d7c",
            "79cb52e4b02242eebe230f4c93cdc286",
            "48053543e13b43408bb37da99de6e68e",
            "75b41bc9cc0f49c8be5bb477652bead3",
            "e4aac145575b4b1caf171712c034883d",
            "da4aa341b8ca4f3abd0ce3e863fcf401",
            "816402ff4ed243d4899ecdab5aa07e68",
            "5d4b339c783e44d48d54409d26dcf01b",
            "89d796842e8b4c74b10cf4241fb2d1dd",
            "4306cb5f90ba45689f6e9b867fb2d296",
            "d076140ec32a44139b9c3597bd5a197d",
            "4de4d7a0a5bb4bfca406ddc4aac59ffd",
            "ff1b1870f8df43f5a28e811d6d98306c",
            "6d440bb233eb4fb996561a7c9565cdcc",
            "bf298e09257d45c68863e4510a46876f",
            "de6bc0c51d074aee8933da7e0417f6b1",
            "85ed8aed804c4e3f84b682e90a4890bd",
            "1bf07de79c614ea7afea21406f2ea854",
            "cb49212c6c0945adbb9b33635ecbf32c",
            "9d68870526be4701976e36715abe140a",
            "bc1d746758384491bbf62d3dd84d60f6",
            "612d27f3350745778d8d8cc1802ed427",
            "9f97291ec2174e6cb95cecd0a06a0ae2",
            "c71e935b1d1f4f9e83823a49f86064e8",
            "a250ec82e8a84f028499d87f854bef7b",
            "4e6716aa6c674bdcbf9cdf5981612189",
            "179a2c765c0f4f9e82ba68ababb5dfed",
            "4f2051fd00284f38a995c39a8e3e9f6b",
            "8d0c0379620b43bfa8224f26f36a21d1",
            "e8dfd5566f7a4125b3c38fb85138f1ca",
            "2fbf269cd10945748c7b8014eef1bc22",
            "18bbdc807fde4818be28a069d9475c0c",
            "c7e3925f54a8417aac69630e603c7abe",
            "3301b7d40b59472ea25497f11638ed4f",
            "39d955055a364505ace50aec09c25860",
            "9d571352320e4cfb9f3bbf29e0e83eec",
            "7dcc0218e11e4fd5926d2c0c6b6a3932",
            "aea54c48c11b461bb549fdea69ccd003"
          ]
        },
        "id": "skqdikNtVnaf",
        "outputId": "c028f97e-1954-4e12-ea93-797924f150f6"
      },
      "outputs": [
        {
          "name": "stderr",
          "output_type": "stream",
          "text": [
            "INFO:pytorch_lightning.utilities.rank_zero:Trainer already configured with model summary callbacks: [<class 'pytorch_lightning.callbacks.model_summary.ModelSummary'>]. Skipping setting a default `ModelSummary` callback.\n",
            "INFO:pytorch_lightning.utilities.rank_zero:GPU available: True, used: True\n",
            "INFO:pytorch_lightning.utilities.rank_zero:TPU available: False, using: 0 TPU cores\n",
            "INFO:pytorch_lightning.utilities.rank_zero:IPU available: False, using: 0 IPUs\n",
            "INFO:pytorch_lightning.utilities.rank_zero:HPU available: False, using: 0 HPUs\n",
            "INFO:pytorch_lightning.accelerators.gpu:LOCAL_RANK: 0 - CUDA_VISIBLE_DEVICES: [0]\n",
            "INFO:pytorch_lightning.callbacks.model_summary:\n",
            "  | Name           | Type      | Params\n",
            "---------------------------------------------\n",
            "0 | model          | CNN       | 1.7 M \n",
            "1 | model.conv1    | ConvBlock | 640   \n",
            "2 | model.conv2    | ConvBlock | 36.9 K\n",
            "3 | model.dropout  | Dropout   | 0     \n",
            "4 | model.max_pool | MaxPool2d | 0     \n",
            "5 | model.fc1      | Linear    | 1.6 M \n",
            "6 | model.fc2      | Linear    | 10.7 K\n",
            "7 | train_acc      | Accuracy  | 0     \n",
            "8 | val_acc        | Accuracy  | 0     \n",
            "9 | test_acc       | Accuracy  | 0     \n",
            "---------------------------------------------\n",
            "1.7 M     Trainable params\n",
            "0         Non-trainable params\n",
            "1.7 M     Total params\n",
            "6.616     Total estimated model params size (MB)\n"
          ]
        },
        {
          "data": {
            "application/vnd.jupyter.widget-view+json": {
              "model_id": "803c4fe96fe446f4a66b351e05cfa151",
              "version_major": 2,
              "version_minor": 0
            },
            "text/plain": [
              "Sanity Checking: 0it [00:00, ?it/s]"
            ]
          },
          "metadata": {},
          "output_type": "display_data"
        },
        {
          "data": {
            "application/vnd.jupyter.widget-view+json": {
              "model_id": "da4aa341b8ca4f3abd0ce3e863fcf401",
              "version_major": 2,
              "version_minor": 0
            },
            "text/plain": [
              "Training: 0it [00:00, ?it/s]"
            ]
          },
          "metadata": {},
          "output_type": "display_data"
        },
        {
          "data": {
            "application/vnd.jupyter.widget-view+json": {
              "model_id": "85ed8aed804c4e3f84b682e90a4890bd",
              "version_major": 2,
              "version_minor": 0
            },
            "text/plain": [
              "Validation: 0it [00:00, ?it/s]"
            ]
          },
          "metadata": {},
          "output_type": "display_data"
        },
        {
          "name": "stderr",
          "output_type": "stream",
          "text": [
            "INFO:pytorch_lightning.accelerators.gpu:LOCAL_RANK: 0 - CUDA_VISIBLE_DEVICES: [0]\n"
          ]
        },
        {
          "data": {
            "application/vnd.jupyter.widget-view+json": {
              "model_id": "4f2051fd00284f38a995c39a8e3e9f6b",
              "version_major": 2,
              "version_minor": 0
            },
            "text/plain": [
              "Testing: 0it [00:00, ?it/s]"
            ]
          },
          "metadata": {},
          "output_type": "display_data"
        },
        {
          "name": "stderr",
          "output_type": "stream",
          "text": [
            "INFO:pytorch_lightning.utilities.rank_zero:Best model saved at: /content/fsdl-text-recognizer-2022-labs/lab02/training/logs/lightning_logs/version_1/epoch=0000-validation.loss=0.542.ckpt\n"
          ]
        },
        {
          "name": "stdout",
          "output_type": "stream",
          "text": [
            "────────────────────────────────────────────────────────────────────────────────────────────────────────────────────────\n",
            "       Test metric             DataLoader 0\n",
            "────────────────────────────────────────────────────────────────────────────────────────────────────────────────────────\n",
            "        test/acc            0.7916203737258911\n",
            "        test/loss           0.5453087091445923\n",
            "────────────────────────────────────────────────────────────────────────────────────────────────────────────────────────\n"
          ]
        }
      ],
      "source": [
        "latest_ckpt, = ! {list_all_log_files} | {filter_to_ckpts} | {sort_version_descending} | {take_first}\n",
        "\n",
        "\n",
        "# and we can change the training hyperparameters, like batch size\n",
        "%run training/run_experiment.py --model_class CNN --data_class EMNIST --gpus {gpus} \\\n",
        "  --batch_size 64 --load_checkpoint {latest_ckpt}"
      ]
    },
    {
      "cell_type": "markdown",
      "metadata": {
        "id": "HBdNt6Z2tTFM"
      },
      "source": [
        "# Creating lines of text from handwritten characters: `EMNISTLines`"
      ]
    },
    {
      "cell_type": "markdown",
      "metadata": {
        "id": "FevtQpeDtTFM"
      },
      "source": [
        "We've got a training pipeline for our model and our data,\n",
        "and we can use that to make the loss go down\n",
        "and get better at the task.\n",
        "But the problem we're solving not obviously useful:\n",
        "the model is just learning hwo to handle\n",
        "centered, high-contrast, isolated characters.\n",
        "\n",
        "To make this work in a text recognition application,\n",
        "we would need a component to first pull out characters like that from images.\n",
        "That task is probably harder than the one we're currently learning.\n",
        "Plus, splitting into two separate components is against the ethos of deep learning,\n",
        "which operates \"end-to-end\".\n",
        "\n",
        "Let's kick the realism up one notch by building lines of text out of our characters:\n",
        "_synthesizing_ data for our model."
      ]
    },
    {
      "cell_type": "markdown",
      "metadata": {
        "id": "dH7i4JhWe7ch"
      },
      "source": [
        "Synthetic data is generally useful for augmenting limited real data.\n",
        "By construction we know the labels, since we created the data.\n",
        "Often, we can track covariates,\n",
        "like lighting features or subclass membership,\n",
        "that aren't always available in our labels."
      ]
    },
    {
      "cell_type": "markdown",
      "metadata": {
        "id": "TrQ_44TIe39m"
      },
      "source": [
        "To build fake handwriting,\n",
        "we'll combine two things:\n",
        "real handwritten letters and real text.\n",
        "\n",
        "We generate our fake text by drawing from the\n",
        "[Brown corpus](https://en.wikipedia.org/wiki/Brown_Corpus)\n",
        "provided by the [`n`atural `l`anguage `t`ool`k`it](https://www.nltk.org/) library.\n",
        "\n",
        "First, we download that corpus."
      ]
    },
    {
      "cell_type": "code",
      "execution_count": 36,
      "metadata": {
        "colab": {
          "base_uri": "https://localhost:8080/",
          "height": 87
        },
        "id": "gtSg7Y8Ydxpa",
        "outputId": "06e894a3-b143-4f2c-a808-259859c85595"
      },
      "outputs": [
        {
          "name": "stderr",
          "output_type": "stream",
          "text": [
            "[nltk_data] Downloading package brown to /content/fsdl-text-\n",
            "[nltk_data]     recognizer-2022-labs/data/downloaded/nltk...\n",
            "[nltk_data]   Unzipping corpora/brown.zip.\n"
          ]
        },
        {
          "data": {
            "application/vnd.google.colaboratory.intrinsic+json": {
              "type": "string"
            },
            "text/plain": [
              "'Generate text sentences using the Brown corpus.'"
            ]
          },
          "execution_count": 36,
          "metadata": {},
          "output_type": "execute_result"
        }
      ],
      "source": [
        "from text_recognizer.data.sentence_generator import SentenceGenerator\n",
        "\n",
        "sentence_generator = SentenceGenerator()\n",
        "\n",
        "SentenceGenerator.__doc__"
      ]
    },
    {
      "cell_type": "markdown",
      "metadata": {
        "id": "yal5eHk-aB4i"
      },
      "source": [
        "We can generate short snippets of text from the corpus with the `SentenceGenerator`:"
      ]
    },
    {
      "cell_type": "code",
      "execution_count": 37,
      "metadata": {
        "colab": {
          "base_uri": "https://localhost:8080/"
        },
        "id": "eRg_C1TYzwKX",
        "outputId": "b4bdfdf1-ffa8-47bc-d511-dc6ff84cb3db"
      },
      "outputs": [
        {
          "name": "stdout",
          "output_type": "stream",
          "text": [
            "phase\n",
            "Within\n",
            "either\n",
            "the\n"
          ]
        }
      ],
      "source": [
        "print(*[sentence_generator.generate(max_length=16) for _ in range(4)], sep=\"\\n\")"
      ]
    },
    {
      "cell_type": "markdown",
      "metadata": {
        "id": "JGsBuMICaXnM"
      },
      "source": [
        "We use another `DataModule` to pick out the needed handwritten characters from `EMNIST`\n",
        "and glue them together into images containing the generated text."
      ]
    },
    {
      "cell_type": "code",
      "execution_count": 38,
      "metadata": {
        "colab": {
          "base_uri": "https://localhost:8080/",
          "height": 35
        },
        "id": "YtsGfSu6dpZ9",
        "outputId": "3f2c1c14-0949-4e94-b9a6-8403b99b299a"
      },
      "outputs": [
        {
          "data": {
            "application/vnd.google.colaboratory.intrinsic+json": {
              "type": "string"
            },
            "text/plain": [
              "'EMNIST Lines dataset: synthetic handwriting lines dataset made from EMNIST characters.'"
            ]
          },
          "execution_count": 38,
          "metadata": {},
          "output_type": "execute_result"
        }
      ],
      "source": [
        "emnist_lines = text_recognizer.data.EMNISTLines()  # configure\n",
        "emnist_lines.__doc__"
      ]
    },
    {
      "cell_type": "markdown",
      "metadata": {
        "id": "dik_SyEdb0st"
      },
      "source": [
        "This can take several minutes when first run,\n",
        "but afterwards data is persisted to disk."
      ]
    },
    {
      "cell_type": "code",
      "execution_count": 39,
      "metadata": {
        "colab": {
          "base_uri": "https://localhost:8080/"
        },
        "id": "SofIYHOUtTFM",
        "outputId": "1b3ab87b-4837-4648-e7c1-d2300e6fbafd"
      },
      "outputs": [
        {
          "name": "stdout",
          "output_type": "stream",
          "text": [
            "EMNISTLinesDataset generating data for train...\n",
            "EMNISTLinesDataset generating data for val...\n",
            "EMNISTLinesDataset generating data for test...\n",
            "EMNISTLinesDataset loading data from HDF5...\n"
          ]
        },
        {
          "data": {
            "text/plain": [
              "EMNIST Lines Dataset\n",
              "Min overlap: 0\n",
              "Max overlap: 0.33\n",
              "Num classes: 83\n",
              "Dims: (1, 28, 896)\n",
              "Output dims: (32, 1)\n",
              "Train/val/test sizes: 10000, 2000, 2000\n",
              "Batch x stats: (torch.Size([128, 1, 28, 896]), torch.float32, 0.0, 0.07364349812269211, 0.23208004236221313, 1.0)\n",
              "Batch y stats: (torch.Size([128, 32]), torch.int64, 3, 66)"
            ]
          },
          "execution_count": 39,
          "metadata": {},
          "output_type": "execute_result"
        }
      ],
      "source": [
        "emnist_lines.prepare_data()  # download, save to disk\n",
        "emnist_lines.setup()  # create torch.utils.data.Datasets, do train/val split\n",
        "emnist_lines"
      ]
    },
    {
      "cell_type": "markdown",
      "metadata": {
        "id": "axESuV1SeoM6"
      },
      "source": [
        "Again, we're using the `LightningDataModule` interface\n",
        "to organize our data prep,\n",
        "so we can now fetch a batch and take a look at some data."
      ]
    },
    {
      "cell_type": "code",
      "execution_count": 40,
      "metadata": {
        "colab": {
          "base_uri": "https://localhost:8080/"
        },
        "id": "1J7f2I9ggBi-",
        "outputId": "8baccdc9-3b2f-48c1-fdae-179b8a97f738"
      },
      "outputs": [
        {
          "data": {
            "text/plain": [
              "(torch.Size([128, 1, 28, 896]), torch.Size([128, 32]))"
            ]
          },
          "execution_count": 40,
          "metadata": {},
          "output_type": "execute_result"
        }
      ],
      "source": [
        "line_xs, line_ys = next(iter(emnist_lines.val_dataloader()))\n",
        "line_xs.shape, line_ys.shape"
      ]
    },
    {
      "cell_type": "code",
      "execution_count": 41,
      "metadata": {
        "colab": {
          "base_uri": "https://localhost:8080/",
          "height": 62
        },
        "id": "B0yHgbW2gHgP",
        "outputId": "c21f2fdf-3406-4eac-c53b-3e93b881339e"
      },
      "outputs": [
        {
          "name": "stdout",
          "output_type": "stream",
          "text": [
            "E-v-e-r-y-t-h-i-n-g-<P>-<P>-<P>-<P>-<P>-<P>-<P>-<P>-<P>-<P>-<P>-<P>-<P>-<P>-<P>-<P>-<P>-<P>-<P>-<P>-<P>-<P>\n"
          ]
        },
        {
          "data": {
            "image/png": "[encoded data removed]",
            "text/plain": [
              "<PIL.PngImagePlugin.PngImageFile image mode=RGB size=896x28 at 0x7F7ADC2516D0>"
            ]
          },
          "execution_count": 41,
          "metadata": {},
          "output_type": "execute_result"
        }
      ],
      "source": [
        "def read_line_labels(labels):\n",
        "    return [emnist_lines.mapping[label] for label in labels]\n",
        "\n",
        "idx = random.randint(0, len(line_xs) - 1)\n",
        "\n",
        "print(\"-\".join(read_line_labels(line_ys[idx])))\n",
        "wandb.Image(line_xs[idx]).image"
      ]
    },
    {
      "cell_type": "markdown",
      "metadata": {
        "id": "xirEmNPNtTFM"
      },
      "source": [
        "The result looks\n",
        "[kind of like a ransom note](https://tvtropes.org/pmwiki/pmwiki.php/Main/CutAndPasteNote)\n",
        "and is not yet anywhere near realistic, even for single lines --\n",
        "letters don't overlap, the exact same handwritten letter is repeated\n",
        "if the character appears more than once in the snippet --\n",
        "but it's a start."
      ]
    },
    {
      "cell_type": "markdown",
      "metadata": {
        "id": "eRWbSzkotTFM"
      },
      "source": [
        "# Applying CNNs to handwritten text: `LineCNNSimple`"
      ]
    },
    {
      "cell_type": "markdown",
      "metadata": {
        "id": "pzwYBv82tTFM"
      },
      "source": [
        "The `LineCNNSimple` class builds on the `CNN` class and can be applied to this dataset."
      ]
    },
    {
      "cell_type": "code",
      "execution_count": 42,
      "metadata": {
        "colab": {
          "base_uri": "https://localhost:8080/"
        },
        "id": "ZqeImjd2lF7p",
        "outputId": "fcaff161-79bb-4300-df73-79901a32da22"
      },
      "outputs": [
        {
          "data": {
            "text/plain": [
              "LineCNNSimple(\n",
              "  (cnn): CNN(\n",
              "    (conv1): ConvBlock(\n",
              "      (conv): Conv2d(1, 64, kernel_size=(3, 3), stride=(1, 1), padding=(1, 1))\n",
              "      (relu): ReLU()\n",
              "    )\n",
              "    (conv2): ConvBlock(\n",
              "      (conv): Conv2d(64, 64, kernel_size=(3, 3), stride=(1, 1), padding=(1, 1))\n",
              "      (relu): ReLU()\n",
              "    )\n",
              "    (dropout): Dropout(p=0.25, inplace=False)\n",
              "    (max_pool): MaxPool2d(kernel_size=2, stride=2, padding=0, dilation=1, ceil_mode=False)\n",
              "    (fc1): Linear(in_features=12544, out_features=128, bias=True)\n",
              "    (fc2): Linear(in_features=128, out_features=83, bias=True)\n",
              "  )\n",
              ")"
            ]
          },
          "execution_count": 42,
          "metadata": {},
          "output_type": "execute_result"
        }
      ],
      "source": [
        "line_cnn = text_recognizer.models.LineCNNSimple(emnist_lines.config())\n",
        "line_cnn"
      ]
    },
    {
      "cell_type": "markdown",
      "metadata": {
        "id": "Hi6g0acoxJO4"
      },
      "source": [
        "The `nn.Module`s look much the same,\n",
        "but the way they are used is different,\n",
        "which we can see by examining the `.forward` method:"
      ]
    },
    {
      "cell_type": "code",
      "execution_count": 43,
      "metadata": {
        "id": "Qg3UJhibxHfC"
      },
      "outputs": [],
      "source": [
        "line_cnn.forward??"
      ]
    },
    {
      "cell_type": "markdown",
      "metadata": {
        "id": "LAW7EWVlxMhd"
      },
      "source": [
        "The `CNN`, which operates on square images,\n",
        "is applied to our wide image repeatedly,\n",
        "slid over by the `W`indow `S`ize each time.\n",
        "We effectively convolve the network with the input image.\n",
        "\n",
        "Like our synthetic data, it is crude\n",
        "but it's enough to get started."
      ]
    },
    {
      "cell_type": "code",
      "execution_count": 44,
      "metadata": {
        "colab": {
          "base_uri": "https://localhost:8080/",
          "height": 62
        },
        "id": "FU4J13yLisiC",
        "outputId": "298cfe63-1a81-4d18-d809-ec04b7c24e2b"
      },
      "outputs": [
        {
          "name": "stdout",
          "output_type": "stream",
          "text": [
            "K-H-H-N-K-K-N-K-K-H-H-H-H-H-N-H-H-q-N-q-N-N-N-N-H-H-H-H-N-K-q-H\n"
          ]
        },
        {
          "data": {
            "image/png": "[encoded data removed]",
            "text/plain": [
              "<PIL.PngImagePlugin.PngImageFile image mode=RGB size=896x28 at 0x7F7ACEF2BD50>"
            ]
          },
          "execution_count": 44,
          "metadata": {},
          "output_type": "execute_result"
        }
      ],
      "source": [
        "idx = random.randint(0, len(line_xs) - 1)\n",
        "\n",
        "outs, = line_cnn(line_xs[idx:idx+1])\n",
        "preds = torch.argmax(outs, 0)\n",
        "\n",
        "print(\"-\".join(read_line_labels(preds)))\n",
        "wandb.Image(line_xs[idx]).image"
      ]
    },
    {
      "cell_type": "markdown",
      "metadata": {
        "id": "OxHI4Gzndbxg"
      },
      "source": [
        "> <small> You may notice that this randomly-initialized\n",
        "network tends to predict some characters far more often than others,\n",
        "rather than predicting all characters with equal likelihood.\n",
        "This is a commonly-observed phenomenon in deep networks.\n",
        "It is connected to issues with\n",
        "[model calibration](https://arxiv.org/abs/1706.04599)\n",
        "and Bayesian uses of DNNs\n",
        "(see e.g. Figure 7 of\n",
        "[Wenzel et al. 2020](https://arxiv.org/abs/2002.02405).</small>"
      ]
    },
    {
      "cell_type": "markdown",
      "metadata": {
        "id": "NSonI9KcfJrB"
      },
      "source": [
        "Let's launch a training run with the default parameters.\n",
        "\n",
        "This cell should run in just a few minutes on typical hardware."
      ]
    },
    {
      "cell_type": "code",
      "execution_count": 45,
      "metadata": {
        "colab": {
          "base_uri": "https://localhost:8080/",
          "height": 604,
          "referenced_widgets": [
            "bac6b83bcd5f42c28758f398c32c50e1",
            "737a0ab75013429fa7776f84d9cb68a3",
            "7fc9036ffd5742d3ad688cdd7fdf50e3",
            "33c9f48e0744490c9e5d9ebc3de0cfde",
            "d882f8165760450fb36157461e955f3b",
            "5a381e562a44460f9f3a17bf543e8ac5",
            "ce6fa073c070413a85ed42626472b21e",
            "81640c1f4da6451da26fb074e0ed1dd9",
            "288288b7d115470a81a1a40b0b15a488",
            "708cc18a123847029908a772e87f1bf8",
            "bfa615d136d147928cbace4df12276b3",
            "4f938830770944b59b89af0f3497b807",
            "1e489ea0c16f413ea4a21982d3690a82",
            "991bc3e2ff8e44b5a5d9a0e0dd797583",
            "bbafa6278bec477594af86341f13a5ec",
            "7bd5bf65e0fb4b2e8030ec718b9c065a",
            "0fdceb2da9644ca7b97cf066c28a6ee7",
            "dc6ad3ac9269426bb3897d37f1a46416",
            "3af39e5895b5410bbdef4abab91fb4b4",
            "0e3a9df47b2d48e4a15fbe5a41136475",
            "70933051e37644b0b21ae95725ec775b",
            "9a59dca1a71246ab90fd1cee1c0e2492",
            "6b92162443ec4420b0ea88491f705d3b",
            "cdaa89a1eff24befa943a22f71681e4b",
            "882e3336875646bc9a93b988523f3ea5",
            "9807afe2d16245d288a1b314b612744f",
            "975a6be7c6514798bdffb45833005f3e",
            "5bf594a3677c46f59cc133e8879994a3",
            "a1c4741f1f3747ddb9614666aa4b8584",
            "6625df8c8af4473ab1a3d27aa8ca579d",
            "49684cb74cff4ed6896659ff7d315d36",
            "4c2e6c3086ea4476b0b779a25ee5b496",
            "2f20a984056649c9bf48ef8aa72b4300",
            "dd9b92c1ba84407bb95e792a321ba58c",
            "25aa79ce86d141538d9e4193ee659869",
            "5f54e38f6c044fafa03a36bc86cc863d",
            "90dfdb76657845189414dff4ea5c6677",
            "6b8faded66434251aa4f734d45dff05b",
            "b6efbdc5bca2498bb1b0b7a8ab09be95",
            "d12155593c5442509e940219805d2f5b",
            "a5265340ebf44f8d8188f6f2cfec3d76",
            "2b5560faf8b1408fb83ecc73428a7621",
            "1caf3e7be1cc47ca8f88362cf3da4736",
            "5466332d6e25448193d5831f6c5f86d8",
            "254ea87571e94a798d87abe03c7ff6fe",
            "28224b087da44098bfe60544943fd0ff",
            "2bea5c3cf51c47a69ea6c78abcef795f",
            "87872f800112482c8aec527612483e84",
            "7307fb100fec48548d158a92136c17e4",
            "9ac6824d96384cbba027eb38e2c67f40",
            "845c8360605941bcab60b198bdf3ac3a",
            "ad38175a80bf416eb340d9dd2e0afdb6",
            "d9b62014db174f5abf46c93861ecf10d",
            "07eb306c1c144ee094c03ce52bd57f40",
            "2900599657d24da08ebf71d7f696adf7"
          ]
        },
        "id": "rsbJdeRiwSVA",
        "outputId": "6d716e22-edad-4a70-bb3f-965764bbc207"
      },
      "outputs": [
        {
          "name": "stderr",
          "output_type": "stream",
          "text": [
            "INFO:pytorch_lightning.utilities.rank_zero:Trainer already configured with model summary callbacks: [<class 'pytorch_lightning.callbacks.model_summary.ModelSummary'>]. Skipping setting a default `ModelSummary` callback.\n",
            "INFO:pytorch_lightning.utilities.rank_zero:GPU available: True, used: True\n",
            "INFO:pytorch_lightning.utilities.rank_zero:TPU available: False, using: 0 TPU cores\n",
            "INFO:pytorch_lightning.utilities.rank_zero:IPU available: False, using: 0 IPUs\n",
            "INFO:pytorch_lightning.utilities.rank_zero:HPU available: False, using: 0 HPUs\n"
          ]
        },
        {
          "name": "stdout",
          "output_type": "stream",
          "text": [
            "EMNISTLinesDataset loading data from HDF5...\n"
          ]
        },
        {
          "name": "stderr",
          "output_type": "stream",
          "text": [
            "INFO:pytorch_lightning.accelerators.gpu:LOCAL_RANK: 0 - CUDA_VISIBLE_DEVICES: [0]\n",
            "INFO:pytorch_lightning.callbacks.model_summary:\n",
            "  | Name      | Type          | Params\n",
            "--------------------------------------------\n",
            "0 | model     | LineCNNSimple | 1.7 M \n",
            "1 | model.cnn | CNN           | 1.7 M \n",
            "2 | train_acc | Accuracy      | 0     \n",
            "3 | val_acc   | Accuracy      | 0     \n",
            "4 | test_acc  | Accuracy      | 0     \n",
            "--------------------------------------------\n",
            "1.7 M     Trainable params\n",
            "0         Non-trainable params\n",
            "1.7 M     Total params\n",
            "6.616     Total estimated model params size (MB)\n"
          ]
        },
        {
          "data": {
            "application/vnd.jupyter.widget-view+json": {
              "model_id": "bac6b83bcd5f42c28758f398c32c50e1",
              "version_major": 2,
              "version_minor": 0
            },
            "text/plain": [
              "Sanity Checking: 0it [00:00, ?it/s]"
            ]
          },
          "metadata": {},
          "output_type": "display_data"
        },
        {
          "data": {
            "application/vnd.jupyter.widget-view+json": {
              "model_id": "4f938830770944b59b89af0f3497b807",
              "version_major": 2,
              "version_minor": 0
            },
            "text/plain": [
              "Training: 0it [00:00, ?it/s]"
            ]
          },
          "metadata": {},
          "output_type": "display_data"
        },
        {
          "data": {
            "application/vnd.jupyter.widget-view+json": {
              "model_id": "6b92162443ec4420b0ea88491f705d3b",
              "version_major": 2,
              "version_minor": 0
            },
            "text/plain": [
              "Validation: 0it [00:00, ?it/s]"
            ]
          },
          "metadata": {},
          "output_type": "display_data"
        },
        {
          "data": {
            "application/vnd.jupyter.widget-view+json": {
              "model_id": "dd9b92c1ba84407bb95e792a321ba58c",
              "version_major": 2,
              "version_minor": 0
            },
            "text/plain": [
              "Validation: 0it [00:00, ?it/s]"
            ]
          },
          "metadata": {},
          "output_type": "display_data"
        },
        {
          "name": "stderr",
          "output_type": "stream",
          "text": [
            "INFO:pytorch_lightning.accelerators.gpu:LOCAL_RANK: 0 - CUDA_VISIBLE_DEVICES: [0]\n"
          ]
        },
        {
          "name": "stdout",
          "output_type": "stream",
          "text": [
            "EMNISTLinesDataset loading data from HDF5...\n"
          ]
        },
        {
          "data": {
            "application/vnd.jupyter.widget-view+json": {
              "model_id": "254ea87571e94a798d87abe03c7ff6fe",
              "version_major": 2,
              "version_minor": 0
            },
            "text/plain": [
              "Testing: 0it [00:00, ?it/s]"
            ]
          },
          "metadata": {},
          "output_type": "display_data"
        },
        {
          "name": "stderr",
          "output_type": "stream",
          "text": [
            "INFO:pytorch_lightning.utilities.rank_zero:Best model saved at: /content/fsdl-text-recognizer-2022-labs/lab02/training/logs/lightning_logs/version_2/epoch=0001-validation.loss=1.377.ckpt\n"
          ]
        },
        {
          "name": "stdout",
          "output_type": "stream",
          "text": [
            "────────────────────────────────────────────────────────────────────────────────────────────────────────────────────────\n",
            "       Test metric             DataLoader 0\n",
            "────────────────────────────────────────────────────────────────────────────────────────────────────────────────────────\n",
            "        test/acc            0.6740468740463257\n",
            "        test/loss           1.4315829277038574\n",
            "────────────────────────────────────────────────────────────────────────────────────────────────────────────────────────\n"
          ]
        }
      ],
      "source": [
        "%run training/run_experiment.py --model_class LineCNNSimple --data_class EMNISTLines \\\n",
        "  --batch_size 32 --gpus {gpus} --max_epochs 2"
      ]
    },
    {
      "cell_type": "markdown",
      "metadata": {
        "id": "y9e5nTplfoXG"
      },
      "source": [
        "You should see a test accuracy in the 65-70% range.\n",
        "\n",
        "That seems pretty good,\n",
        "especially for a simple model trained in a minute.\n",
        "\n",
        "Let's reload the model and run it on some examples."
      ]
    },
    {
      "cell_type": "code",
      "execution_count": 46,
      "metadata": {
        "colab": {
          "base_uri": "https://localhost:8080/"
        },
        "id": "0NuXazAvw9NA",
        "outputId": "6a246424-84e8-4129-c7c8-02ab7ccb8c52"
      },
      "outputs": [
        {
          "name": "stdout",
          "output_type": "stream",
          "text": [
            "training/logs/lightning_logs/version_2/epoch=0001-validation.loss=1.377.ckpt\n"
          ]
        }
      ],
      "source": [
        "# if you change around model/data args in the command above, add them here\n",
        "#  tip: define the arguments as variables, like we've done for gpus\n",
        "#       and then add those variables to this dict so you don't need to\n",
        "#       remember to update/copy+paste\n",
        "\n",
        "args = Namespace(**{\n",
        "    \"model_class\": \"LineCNNSimple\",\n",
        "    \"data_class\": \"EMNISTLines\"})\n",
        "\n",
        "\n",
        "_, line_cnn = training.util.setup_data_and_model_from_args(args)\n",
        "\n",
        "latest_ckpt, = ! {list_all_log_files} | {filter_to_ckpts} | {sort_version_descending} | {take_first}\n",
        "print(latest_ckpt)\n",
        "\n",
        "reloaded_lines_model = text_recognizer.lit_models.BaseLitModel.load_from_checkpoint(\n",
        "   latest_ckpt, args=args, model=line_cnn)"
      ]
    },
    {
      "cell_type": "code",
      "execution_count": 47,
      "metadata": {
        "colab": {
          "base_uri": "https://localhost:8080/",
          "height": 62
        },
        "id": "J8ziVROkxkGC",
        "outputId": "ecddc79a-4a9d-4703-d686-13729a717988"
      },
      "outputs": [
        {
          "name": "stdout",
          "output_type": "stream",
          "text": [
            "s-e- -m-a-e-l-s- - - -i-e-e-<P>-<P>-<P>-<P>-<P>-<P>-<P>-<P>-<P>-<P>-<P>-<P>-<P>-<P>-<P>-<P>-<P>-<P>\n"
          ]
        },
        {
          "data": {
            "image/png": "[encoded data removed]",
            "text/plain": [
              "<PIL.PngImagePlugin.PngImageFile image mode=RGB size=896x28 at 0x7F7ACEF2B3D0>"
            ]
          },
          "execution_count": 47,
          "metadata": {},
          "output_type": "execute_result"
        }
      ],
      "source": [
        "idx = random.randint(0, len(line_xs) - 1)\n",
        "\n",
        "outs, = reloaded_lines_model(line_xs[idx:idx+1])\n",
        "preds = torch.argmax(outs, 0)\n",
        "\n",
        "print(\"-\".join(read_line_labels(preds)))\n",
        "wandb.Image(line_xs[idx]).image"
      ]
    },
    {
      "cell_type": "markdown",
      "metadata": {
        "id": "N9bQCHtYgA0S"
      },
      "source": [
        "In general,\n",
        "we see predictions that have very low subjective quality:\n",
        "it seems like most of the letters are wrong\n",
        "and the model often prefers to predict the most common letters\n",
        "in the dataset, like `e`.\n",
        "\n",
        "Notice, however, that many of the\n",
        "characters in a given line are padding characters, `<P>`.\n",
        "\n",
        "A model that always predicts `<P>` can achieve around 50% accuracy:"
      ]
    },
    {
      "cell_type": "code",
      "execution_count": 48,
      "metadata": {
        "colab": {
          "base_uri": "https://localhost:8080/"
        },
        "id": "EE-T7zgDgo7-",
        "outputId": "e0d755fc-545a-413e-dff8-630657ce7410"
      },
      "outputs": [
        {
          "data": {
            "text/plain": [
              "tensor(0.5359)"
            ]
          },
          "execution_count": 48,
          "metadata": {},
          "output_type": "execute_result"
        }
      ],
      "source": [
        "padding_token = emnist_lines.emnist.inverse_mapping[\"<P>\"]\n",
        "torch.sum(line_ys == padding_token) / line_ys.numel()"
      ]
    },
    {
      "cell_type": "markdown",
      "metadata": {
        "id": "rGHWmOyVh5rV"
      },
      "source": [
        "There are ways to adjust your classification metrics to\n",
        "[handle this particular issue](https://developers.google.com/machine-learning/crash-course/classification/precision-and-recall).\n",
        "In general it's good to find a metric\n",
        "that has baseline performance at 0 and perfect performance at 1,\n",
        "so that numbers are clearly interpretable.\n",
        "\n",
        "But it's an important reminder to actually look\n",
        "at your model's behavior from time to time.\n",
        "Metrics are single numbers,\n",
        "so they by necessity throw away a ton of information\n",
        "about your model's behavior,\n",
        "some of which is deeply relevant."
      ]
    },
    {
      "cell_type": "markdown",
      "metadata": {
        "id": "6p--KWZ9YJWQ"
      },
      "source": [
        "# Exercises"
      ]
    },
    {
      "cell_type": "markdown",
      "metadata": {
        "id": "srQnoOK8YLDv"
      },
      "source": [
        "### 🌟 Research a `pl.Trainer` argument and try it out."
      ]
    },
    {
      "cell_type": "markdown",
      "metadata": {
        "id": "7j652MtkYR8n"
      },
      "source": [
        "The Lightning `Trainer` class is highly configurable\n",
        "and has accumulated a number of features as Lightning has matured.\n",
        "\n",
        "Check out the documentation for this class\n",
        "and pick an argument to try out with `training/run_experiment.py`.\n",
        "Look for edge cases in its behavior,\n",
        "especially when combined with other arguments."
      ]
    },
    {
      "cell_type": "code",
      "execution_count": 49,
      "metadata": {
        "colab": {
          "base_uri": "https://localhost:8080/"
        },
        "id": "8UWNicq_jS7k",
        "outputId": "dee0a12d-ca01-437a-e3c4-1de19cb5c528"
      },
      "outputs": [
        {
          "name": "stdout",
          "output_type": "stream",
          "text": [
            "pl.Trainer guide URL: https://pytorch-lightning.readthedocs.io/en/1.6.3/common/trainer.html\n",
            "pl.Trainer reference docs URL: https://pytorch-lightning.readthedocs.io/en/1.6.3/api/pytorch_lightning.trainer.trainer.Trainer.html\n"
          ]
        }
      ],
      "source": [
        "import pytorch_lightning as pl\n",
        "\n",
        "pl_version = pl.__version__\n",
        "\n",
        "print(\"pl.Trainer guide URL:\", f\"https://pytorch-lightning.readthedocs.io/en/{pl_version}/common/trainer.html\")\n",
        "print(\"pl.Trainer reference docs URL:\", f\"https://pytorch-lightning.readthedocs.io/en/{pl_version}/api/pytorch_lightning.trainer.trainer.Trainer.html\")\n",
        "\n",
        "pl.Trainer??"
      ]
    },
    {
      "cell_type": "code",
      "execution_count": 50,
      "metadata": {
        "colab": {
          "base_uri": "https://localhost:8080/"
        },
        "id": "14AOfjqqYOoT",
        "outputId": "b12e87c6-f9e4-418b-8e23-1235f7d928cc"
      },
      "outputs": [
        {
          "name": "stdout",
          "output_type": "stream",
          "text": [
            "usage: run_experiment.py [--logger [LOGGER]]\n",
            "                         [--checkpoint_callback [CHECKPOINT_CALLBACK]]\n",
            "                         [--enable_checkpointing [ENABLE_CHECKPOINTING]]\n",
            "                         [--default_root_dir DEFAULT_ROOT_DIR]\n",
            "                         [--gradient_clip_val GRADIENT_CLIP_VAL]\n",
            "                         [--gradient_clip_algorithm GRADIENT_CLIP_ALGORITHM]\n",
            "                         [--process_position PROCESS_POSITION]\n",
            "                         [--num_nodes NUM_NODES]\n",
            "                         [--num_processes NUM_PROCESSES] [--devices DEVICES]\n",
            "                         [--gpus GPUS] [--auto_select_gpus [AUTO_SELECT_GPUS]]\n",
            "                         [--tpu_cores TPU_CORES] [--ipus IPUS]\n",
            "                         [--log_gpu_memory LOG_GPU_MEMORY]\n",
            "                         [--progress_bar_refresh_rate PROGRESS_BAR_REFRESH_RATE]\n",
            "                         [--enable_progress_bar [ENABLE_PROGRESS_BAR]]\n",
            "                         [--overfit_batches OVERFIT_BATCHES]\n",
            "                         [--track_grad_norm TRACK_GRAD_NORM]\n",
            "                         [--check_val_every_n_epoch CHECK_VAL_EVERY_N_EPOCH]\n",
            "                         [--fast_dev_run [FAST_DEV_RUN]]\n",
            "                         [--accumulate_grad_batches ACCUMULATE_GRAD_BATCHES]\n",
            "                         [--max_epochs MAX_EPOCHS] [--min_epochs MIN_EPOCHS]\n",
            "                         [--max_steps MAX_STEPS] [--min_steps MIN_STEPS]\n",
            "                         [--max_time MAX_TIME]\n",
            "                         [--limit_train_batches LIMIT_TRAIN_BATCHES]\n",
            "                         [--limit_val_batches LIMIT_VAL_BATCHES]\n",
            "                         [--limit_test_batches LIMIT_TEST_BATCHES]\n",
            "                         [--limit_predict_batches LIMIT_PREDICT_BATCHES]\n",
            "                         [--val_check_interval VAL_CHECK_INTERVAL]\n",
            "                         [--flush_logs_every_n_steps FLUSH_LOGS_EVERY_N_STEPS]\n",
            "                         [--log_every_n_steps LOG_EVERY_N_STEPS]\n",
            "                         [--accelerator ACCELERATOR] [--strategy STRATEGY]\n",
            "                         [--sync_batchnorm [SYNC_BATCHNORM]]\n",
            "                         [--precision PRECISION]\n",
            "                         [--enable_model_summary [ENABLE_MODEL_SUMMARY]]\n",
            "                         [--weights_summary WEIGHTS_SUMMARY]\n",
            "                         [--weights_save_path WEIGHTS_SAVE_PATH]\n",
            "                         [--num_sanity_val_steps NUM_SANITY_VAL_STEPS]\n",
            "                         [--resume_from_checkpoint RESUME_FROM_CHECKPOINT]\n",
            "                         [--profiler PROFILER] [--benchmark [BENCHMARK]]\n",
            "                         [--deterministic [DETERMINISTIC]]\n",
            "                         [--reload_dataloaders_every_n_epochs RELOAD_DATALOADERS_EVERY_N_EPOCHS]\n",
            "                         [--auto_lr_find [AUTO_LR_FIND]]\n",
            "                         [--replace_sampler_ddp [REPLACE_SAMPLER_DDP]]\n",
            "                         [--detect_anomaly [DETECT_ANOMALY]]\n",
            "                         [--auto_scale_batch_size [AUTO_SCALE_BATCH_SIZE]]\n",
            "                         [--prepare_data_per_node [PREPARE_DATA_PER_NODE]]\n",
            "                         [--plugins PLUGINS] [--amp_backend AMP_BACKEND]\n",
            "                         [--amp_level AMP_LEVEL]\n",
            "                         [--move_metrics_to_cpu [MOVE_METRICS_TO_CPU]]\n",
            "                         [--multiple_trainloader_mode MULTIPLE_TRAINLOADER_MODE]\n",
            "                         [--stochastic_weight_avg [STOCHASTIC_WEIGHT_AVG]]\n",
            "                         [--terminate_on_nan [TERMINATE_ON_NAN]]\n",
            "                         [--data_class DATA_CLASS] [--model_class MODEL_CLASS]\n",
            "                         [--load_checkpoint LOAD_CHECKPOINT]\n",
            "                         [--stop_early STOP_EARLY] [--batch_size BATCH_SIZE]\n",
            "                         [--num_workers NUM_WORKERS] [--fc1 FC1] [--fc2 FC2]\n",
            "                         [--fc_dropout FC_DROPOUT] [--optimizer OPTIMIZER]\n",
            "                         [--lr LR] [--one_cycle_max_lr ONE_CYCLE_MAX_LR]\n",
            "                         [--one_cycle_total_steps ONE_CYCLE_TOTAL_STEPS]\n",
            "                         [--loss LOSS] [--help]\n",
            "\n",
            "optional arguments:\n",
            "  --data_class DATA_CLASS\n",
            "                        String identifier for the data class, relative to\n",
            "                        text_recognizer.data.\n",
            "  --model_class MODEL_CLASS\n",
            "                        String identifier for the model class, relative to\n",
            "                        text_recognizer.models.\n",
            "  --load_checkpoint LOAD_CHECKPOINT\n",
            "                        If passed, loads a model from the provided path.\n",
            "  --stop_early STOP_EARLY\n",
            "                        If non-zero, applies early stopping, with the provided\n",
            "                        value as the 'patience' argument. Default is 0.\n",
            "  --help, -h\n",
            "\n",
            "pl.Trainer:\n",
            "  --logger [LOGGER]     Logger (or iterable collection of loggers) for\n",
            "                        experiment tracking. A ``True`` value uses the default\n",
            "                        ``TensorBoardLogger``. ``False`` will disable logging.\n",
            "                        If multiple loggers are provided and the `save_dir`\n",
            "                        property of that logger is not set, local files\n",
            "                        (checkpoints, profiler traces, etc.) are saved in\n",
            "                        ``default_root_dir`` rather than in the ``log_dir`` of\n",
            "                        any of the individual loggers. Default: ``True``.\n",
            "  --checkpoint_callback [CHECKPOINT_CALLBACK]\n",
            "                        If ``True``, enable checkpointing. Default: ``None``.\n",
            "                        .. deprecated:: v1.5 ``checkpoint_callback`` has been\n",
            "                        deprecated in v1.5 and will be removed in v1.7. Please\n",
            "                        consider using ``enable_checkpointing`` instead.\n",
            "  --enable_checkpointing [ENABLE_CHECKPOINTING]\n",
            "                        If ``True``, enable checkpointing. It will configure a\n",
            "                        default ModelCheckpoint callback if there is no user-\n",
            "                        defined ModelCheckpoint in :paramref:`~pytorch_lightni\n",
            "                        ng.trainer.trainer.Trainer.callbacks`. Default:\n",
            "                        ``True``.\n",
            "  --default_root_dir DEFAULT_ROOT_DIR\n",
            "                        Default path for logs and weights when no\n",
            "                        logger/ckpt_callback passed. Default: ``os.getcwd()``.\n",
            "                        Can be remote file paths such as `s3://mybucket/path`\n",
            "                        or 'hdfs://path/'\n",
            "  --gradient_clip_val GRADIENT_CLIP_VAL\n",
            "                        The value at which to clip gradients. Passing\n",
            "                        ``gradient_clip_val=None`` disables gradient clipping.\n",
            "                        If using Automatic Mixed Precision (AMP), the\n",
            "                        gradients will be unscaled before. Default: ``None``.\n",
            "  --gradient_clip_algorithm GRADIENT_CLIP_ALGORITHM\n",
            "                        The gradient clipping algorithm to use. Pass\n",
            "                        ``gradient_clip_algorithm=\"value\"`` to clip by value,\n",
            "                        and ``gradient_clip_algorithm=\"norm\"`` to clip by\n",
            "                        norm. By default it will be set to ``\"norm\"``.\n",
            "  --process_position PROCESS_POSITION\n",
            "                        Orders the progress bar when running multiple models\n",
            "                        on same machine. .. deprecated:: v1.5\n",
            "                        ``process_position`` has been deprecated in v1.5 and\n",
            "                        will be removed in v1.7. Please pass :class:`~pytorch_\n",
            "                        lightning.callbacks.progress.TQDMProgressBar` with\n",
            "                        ``process_position`` directly to the Trainer's\n",
            "                        ``callbacks`` argument instead.\n",
            "  --num_nodes NUM_NODES\n",
            "                        Number of GPU nodes for distributed training. Default:\n",
            "                        ``1``.\n",
            "  --num_processes NUM_PROCESSES\n",
            "                        Number of processes for distributed training with\n",
            "                        ``accelerator=\"cpu\"``. Default: ``1``.\n",
            "  --devices DEVICES     Will be mapped to either `gpus`, `tpu_cores`,\n",
            "                        `num_processes` or `ipus`, based on the accelerator\n",
            "                        type.\n",
            "  --gpus GPUS           Number of GPUs to train on (int) or which GPUs to\n",
            "                        train on (list or str) applied per node Default:\n",
            "                        ``None``.\n",
            "  --auto_select_gpus [AUTO_SELECT_GPUS]\n",
            "                        If enabled and ``gpus`` or ``devices`` is an integer,\n",
            "                        pick available gpus automatically. This is especially\n",
            "                        useful when GPUs are configured to be in \"exclusive\n",
            "                        mode\", such that only one process at a time can access\n",
            "                        them. Default: ``False``.\n",
            "  --tpu_cores TPU_CORES\n",
            "                        How many TPU cores to train on (1 or 8) / Single TPU\n",
            "                        to train on (1) Default: ``None``.\n",
            "  --ipus IPUS           How many IPUs to train on. Default: ``None``.\n",
            "  --log_gpu_memory LOG_GPU_MEMORY\n",
            "                        None, 'min_max', 'all'. Might slow performance. ..\n",
            "                        deprecated:: v1.5 Deprecated in v1.5.0 and will be\n",
            "                        removed in v1.7.0 Please use the\n",
            "                        ``DeviceStatsMonitor`` callback directly instead.\n",
            "  --progress_bar_refresh_rate PROGRESS_BAR_REFRESH_RATE\n",
            "                        How often to refresh progress bar (in steps). Value\n",
            "                        ``0`` disables progress bar. Ignored when a custom\n",
            "                        progress bar is passed to\n",
            "                        :paramref:`~Trainer.callbacks`. Default: None, means a\n",
            "                        suitable value will be chosen based on the environment\n",
            "                        (terminal, Google COLAB, etc.). .. deprecated:: v1.5\n",
            "                        ``progress_bar_refresh_rate`` has been deprecated in\n",
            "                        v1.5 and will be removed in v1.7. Please pass :class:`\n",
            "                        ~pytorch_lightning.callbacks.progress.TQDMProgressBar`\n",
            "                        with ``refresh_rate`` directly to the Trainer's\n",
            "                        ``callbacks`` argument instead. To disable the\n",
            "                        progress bar, pass ``enable_progress_bar = False`` to\n",
            "                        the Trainer.\n",
            "  --enable_progress_bar [ENABLE_PROGRESS_BAR]\n",
            "                        Whether to enable to progress bar by default. Default:\n",
            "                        ``False``.\n",
            "  --overfit_batches OVERFIT_BATCHES\n",
            "                        Overfit a fraction of training data (float) or a set\n",
            "                        number of batches (int). Default: ``0.0``.\n",
            "  --track_grad_norm TRACK_GRAD_NORM\n",
            "                        -1 no tracking. Otherwise tracks that p-norm. May be\n",
            "                        set to 'inf' infinity-norm. If using Automatic Mixed\n",
            "                        Precision (AMP), the gradients will be unscaled before\n",
            "                        logging them. Default: ``-1``.\n",
            "  --check_val_every_n_epoch CHECK_VAL_EVERY_N_EPOCH\n",
            "                        Check val every n train epochs. Default: ``1``.\n",
            "  --fast_dev_run [FAST_DEV_RUN]\n",
            "                        Runs n if set to ``n`` (int) else 1 if set to ``True``\n",
            "                        batch(es) of train, val and test to find any bugs (ie:\n",
            "                        a sort of unit test). Default: ``False``.\n",
            "  --accumulate_grad_batches ACCUMULATE_GRAD_BATCHES\n",
            "                        Accumulates grads every k batches or as set up in the\n",
            "                        dict. Default: ``None``.\n",
            "  --max_epochs MAX_EPOCHS\n",
            "                        Stop training once this number of epochs is reached.\n",
            "                        Disabled by default (None). If both max_epochs and\n",
            "                        max_steps are not specified, defaults to ``max_epochs\n",
            "                        = 1000``. To enable infinite training, set\n",
            "                        ``max_epochs = -1``.\n",
            "  --min_epochs MIN_EPOCHS\n",
            "                        Force training for at least these many epochs.\n",
            "                        Disabled by default (None).\n",
            "  --max_steps MAX_STEPS\n",
            "                        Stop training after this number of steps. Disabled by\n",
            "                        default (-1). If ``max_steps = -1`` and ``max_epochs =\n",
            "                        None``, will default to ``max_epochs = 1000``. To\n",
            "                        enable infinite training, set ``max_epochs`` to\n",
            "                        ``-1``.\n",
            "  --min_steps MIN_STEPS\n",
            "                        Force training for at least these number of steps.\n",
            "                        Disabled by default (``None``).\n",
            "  --max_time MAX_TIME   Stop training after this amount of time has passed.\n",
            "                        Disabled by default (``None``). The time duration can\n",
            "                        be specified in the format DD:HH:MM:SS (days, hours,\n",
            "                        minutes seconds), as a :class:`datetime.timedelta`, or\n",
            "                        a dictionary with keys that will be passed to\n",
            "                        :class:`datetime.timedelta`.\n",
            "  --limit_train_batches LIMIT_TRAIN_BATCHES\n",
            "                        How much of training dataset to check (float =\n",
            "                        fraction, int = num_batches). Default: ``1.0``.\n",
            "  --limit_val_batches LIMIT_VAL_BATCHES\n",
            "                        How much of validation dataset to check (float =\n",
            "                        fraction, int = num_batches). Default: ``1.0``.\n",
            "  --limit_test_batches LIMIT_TEST_BATCHES\n",
            "                        How much of test dataset to check (float = fraction,\n",
            "                        int = num_batches). Default: ``1.0``.\n",
            "  --limit_predict_batches LIMIT_PREDICT_BATCHES\n",
            "                        How much of prediction dataset to check (float =\n",
            "                        fraction, int = num_batches). Default: ``1.0``.\n",
            "  --val_check_interval VAL_CHECK_INTERVAL\n",
            "                        How often to check the validation set. Pass a\n",
            "                        ``float`` in the range [0.0, 1.0] to check after a\n",
            "                        fraction of the training epoch. Pass an ``int`` to\n",
            "                        check after a fixed number of training batches.\n",
            "                        Default: ``1.0``.\n",
            "  --flush_logs_every_n_steps FLUSH_LOGS_EVERY_N_STEPS\n",
            "                        How often to flush logs to disk (defaults to every 100\n",
            "                        steps). .. deprecated:: v1.5\n",
            "                        ``flush_logs_every_n_steps`` has been deprecated in\n",
            "                        v1.5 and will be removed in v1.7. Please configure\n",
            "                        flushing directly in the logger instead.\n",
            "  --log_every_n_steps LOG_EVERY_N_STEPS\n",
            "                        How often to log within steps. Default: ``50``.\n",
            "  --accelerator ACCELERATOR\n",
            "                        Supports passing different accelerator types (\"cpu\",\n",
            "                        \"gpu\", \"tpu\", \"ipu\", \"hpu\", \"auto\") as well as custom\n",
            "                        accelerator instances. .. deprecated:: v1.5 Passing\n",
            "                        training strategies (e.g., 'ddp') to ``accelerator``\n",
            "                        has been deprecated in v1.5.0 and will be removed in\n",
            "                        v1.7.0. Please use the ``strategy`` argument instead.\n",
            "  --strategy STRATEGY   Supports different training strategies with aliases as\n",
            "                        well custom strategies. Default: ``None``.\n",
            "  --sync_batchnorm [SYNC_BATCHNORM]\n",
            "                        Synchronize batch norm layers between process\n",
            "                        groups/whole world. Default: ``False``.\n",
            "  --precision PRECISION\n",
            "                        Double precision (64), full precision (32), half\n",
            "                        precision (16) or bfloat16 precision (bf16). Can be\n",
            "                        used on CPU, GPU, TPUs, HPUs or IPUs. Default: ``32``.\n",
            "  --enable_model_summary [ENABLE_MODEL_SUMMARY]\n",
            "                        Whether to enable model summarization by default.\n",
            "                        Default: ``True``.\n",
            "  --weights_summary WEIGHTS_SUMMARY\n",
            "                        Prints a summary of the weights when training begins.\n",
            "                        .. deprecated:: v1.5 ``weights_summary`` has been\n",
            "                        deprecated in v1.5 and will be removed in v1.7. To\n",
            "                        disable the summary, pass ``enable_model_summary =\n",
            "                        False`` to the Trainer. To customize the summary, pass\n",
            "                        :class:`~pytorch_lightning.callbacks.model_summary.Mod\n",
            "                        elSummary` directly to the Trainer's ``callbacks``\n",
            "                        argument.\n",
            "  --weights_save_path WEIGHTS_SAVE_PATH\n",
            "                        Where to save weights if specified. Will override\n",
            "                        default_root_dir for checkpoints only. Use this if for\n",
            "                        whatever reason you need the checkpoints stored in a\n",
            "                        different place than the logs written in\n",
            "                        `default_root_dir`. Can be remote file paths such as\n",
            "                        `s3://mybucket/path` or 'hdfs://path/' Defaults to\n",
            "                        `default_root_dir`. .. deprecated:: v1.6\n",
            "                        ``weights_save_path`` has been deprecated in v1.6 and\n",
            "                        will be removed in v1.8. Please pass ``dirpath``\n",
            "                        directly to the :class:`~pytorch_lightning.callbacks.m\n",
            "                        odel_checkpoint.ModelCheckpoint` callback.\n",
            "  --num_sanity_val_steps NUM_SANITY_VAL_STEPS\n",
            "                        Sanity check runs n validation batches before starting\n",
            "                        the training routine. Set it to `-1` to run all\n",
            "                        batches in all validation dataloaders. Default: ``2``.\n",
            "  --resume_from_checkpoint RESUME_FROM_CHECKPOINT\n",
            "                        Path/URL of the checkpoint from which training is\n",
            "                        resumed. If there is no checkpoint file at the path,\n",
            "                        an exception is raised. If resuming from mid-epoch\n",
            "                        checkpoint, training will start from the beginning of\n",
            "                        the next epoch. .. deprecated:: v1.5\n",
            "                        ``resume_from_checkpoint`` is deprecated in v1.5 and\n",
            "                        will be removed in v2.0. Please pass the path to\n",
            "                        ``Trainer.fit(..., ckpt_path=...)`` instead.\n",
            "  --profiler PROFILER   To profile individual steps during training and assist\n",
            "                        in identifying bottlenecks. Default: ``None``.\n",
            "  --benchmark [BENCHMARK]\n",
            "                        Sets ``torch.backends.cudnn.benchmark``. Defaults to\n",
            "                        ``True`` if :paramref:`~pytorch_lightning.trainer.trai\n",
            "                        ner.Trainer.deterministic` is ``False``. Overwrite to\n",
            "                        manually set a different value. Default: ``None``.\n",
            "  --deterministic [DETERMINISTIC]\n",
            "                        If ``True``, sets whether PyTorch operations must use\n",
            "                        deterministic algorithms. Default: ``False``.\n",
            "  --reload_dataloaders_every_n_epochs RELOAD_DATALOADERS_EVERY_N_EPOCHS\n",
            "                        Set to a non-negative integer to reload dataloaders\n",
            "                        every n epochs. Default: ``0``.\n",
            "  --auto_lr_find [AUTO_LR_FIND]\n",
            "                        If set to True, will make trainer.tune() run a\n",
            "                        learning rate finder, trying to optimize initial\n",
            "                        learning for faster convergence. trainer.tune() method\n",
            "                        will set the suggested learning rate in self.lr or\n",
            "                        self.learning_rate in the LightningModule. To use a\n",
            "                        different key set a string instead of True with the\n",
            "                        key name. Default: ``False``.\n",
            "  --replace_sampler_ddp [REPLACE_SAMPLER_DDP]\n",
            "                        Explicitly enables or disables sampler replacement. If\n",
            "                        not specified this will toggled automatically when DDP\n",
            "                        is used. By default it will add ``shuffle=True`` for\n",
            "                        train sampler and ``shuffle=False`` for val/test\n",
            "                        sampler. If you want to customize it, you can set\n",
            "                        ``replace_sampler_ddp=False`` and add your own\n",
            "                        distributed sampler.\n",
            "  --detect_anomaly [DETECT_ANOMALY]\n",
            "                        Enable anomaly detection for the autograd engine.\n",
            "                        Default: ``False``.\n",
            "  --auto_scale_batch_size [AUTO_SCALE_BATCH_SIZE]\n",
            "                        If set to True, will `initially` run a batch size\n",
            "                        finder trying to find the largest batch size that fits\n",
            "                        into memory. The result will be stored in\n",
            "                        self.batch_size in the LightningModule. Additionally,\n",
            "                        can be set to either `power` that estimates the batch\n",
            "                        size through a power search or `binsearch` that\n",
            "                        estimates the batch size through a binary search.\n",
            "                        Default: ``False``.\n",
            "  --prepare_data_per_node [PREPARE_DATA_PER_NODE]\n",
            "                        If True, each LOCAL_RANK=0 will call prepare data.\n",
            "                        Otherwise only NODE_RANK=0, LOCAL_RANK=0 will prepare\n",
            "                        data .. deprecated:: v1.5 Deprecated in v1.5.0 and\n",
            "                        will be removed in v1.7.0 Please set\n",
            "                        ``prepare_data_per_node`` in ``LightningDataModule``\n",
            "                        and/or ``LightningModule`` directly instead.\n",
            "  --plugins PLUGINS     Plugins allow modification of core behavior like ddp\n",
            "                        and amp, and enable custom lightning plugins. Default:\n",
            "                        ``None``.\n",
            "  --amp_backend AMP_BACKEND\n",
            "                        The mixed precision backend to use (\"native\" or\n",
            "                        \"apex\"). Default: ``'native''``.\n",
            "  --amp_level AMP_LEVEL\n",
            "                        The optimization level to use (O1, O2, etc...). By\n",
            "                        default it will be set to \"O2\" if ``amp_backend`` is\n",
            "                        set to \"apex\".\n",
            "  --move_metrics_to_cpu [MOVE_METRICS_TO_CPU]\n",
            "                        Whether to force internal logged metrics to be moved\n",
            "                        to cpu. This can save some gpu memory, but can make\n",
            "                        training slower. Use with attention. Default:\n",
            "                        ``False``.\n",
            "  --multiple_trainloader_mode MULTIPLE_TRAINLOADER_MODE\n",
            "                        How to loop over the datasets when there are multiple\n",
            "                        train loaders. In 'max_size_cycle' mode, the trainer\n",
            "                        ends one epoch when the largest dataset is traversed,\n",
            "                        and smaller datasets reload when running out of their\n",
            "                        data. In 'min_size' mode, all the datasets reload when\n",
            "                        reaching the minimum length of datasets. Default:\n",
            "                        ``\"max_size_cycle\"``.\n",
            "  --stochastic_weight_avg [STOCHASTIC_WEIGHT_AVG]\n",
            "                        Whether to use `Stochastic Weight Averaging (SWA)\n",
            "                        <https://pytorch.org/blog/pytorch-1.6-now-includes-\n",
            "                        stochastic-weight-averaging/>`_. Default: ``False``.\n",
            "                        .. deprecated:: v1.5 ``stochastic_weight_avg`` has\n",
            "                        been deprecated in v1.5 and will be removed in v1.7.\n",
            "                        Please pass :class:`~pytorch_lightning.callbacks.stoch\n",
            "                        astic_weight_avg.StochasticWeightAveraging` directly\n",
            "                        to the Trainer's ``callbacks`` argument instead.\n",
            "  --terminate_on_nan [TERMINATE_ON_NAN]\n",
            "                        If set to True, will terminate training (by raising a\n",
            "                        `ValueError`) at the end of each training batch, if\n",
            "                        any of the parameters or the loss are NaN or +/-inf.\n",
            "                        .. deprecated:: v1.5 Trainer argument\n",
            "                        ``terminate_on_nan`` was deprecated in v1.5 and will\n",
            "                        be removed in 1.7. Please use ``detect_anomaly``\n",
            "                        instead.\n",
            "\n",
            "Data Args:\n",
            "  --batch_size BATCH_SIZE\n",
            "                        Number of examples to operate on per forward step.\n",
            "                        Default is 128.\n",
            "  --num_workers NUM_WORKERS\n",
            "                        Number of additional processes to load data. Default\n",
            "                        is 2.\n",
            "\n",
            "Model Args:\n",
            "  --fc1 FC1\n",
            "  --fc2 FC2\n",
            "  --fc_dropout FC_DROPOUT\n",
            "\n",
            "LitModel Args:\n",
            "  --optimizer OPTIMIZER\n",
            "                        optimizer class from torch.optim\n",
            "  --lr LR\n",
            "  --one_cycle_max_lr ONE_CYCLE_MAX_LR\n",
            "  --one_cycle_total_steps ONE_CYCLE_TOTAL_STEPS\n",
            "  --loss LOSS           loss function from torch.nn.functional\n"
          ]
        }
      ],
      "source": [
        "%run training/run_experiment.py --help"
      ]
    }
  ],
  "metadata": {
    "accelerator": "GPU",
    "colab": {
      "collapsed_sections": [],
      "name": "Copy of lab02b_cnn.ipynb",
      "provenance": [],
      "toc_visible": true
    },
    "gpuClass": "standard",
    "kernelspec": {
      "display_name": "Python 3.10.4 64-bit ('3.10.4')",
      "language": "python",
      "name": "python3"
    },
    "language_info": {
      "codemirror_mode": {
        "name": "ipython",
        "version": 3
      },
      "file_extension": ".py",
      "mimetype": "text/x-python",
      "name": "python",
      "nbconvert_exporter": "python",
      "pygments_lexer": "ipython3",
      "version": "3.10.4"
    },
    "vscode": {
      "interpreter": {
        "hash": "fafb0ca4ad3be8da48fc406686964102924ec62aabc29fc42b32f7316d182350"
      }
    },
    "widgets": {
      "application/vnd.jupyter.widget-state+json": {
        "0188363f0ef242139ba31fff7df86e96": {
          "model_module": "@jupyter-widgets/base",
          "model_module_version": "1.2.0",
          "model_name": "LayoutModel",
          "state": {
            "_model_module": "@jupyter-widgets/base",
            "_model_module_version": "1.2.0",
            "_model_name": "LayoutModel",
            "_view_count": null,
            "_view_module": "@jupyter-widgets/base",
            "_view_module_version": "1.2.0",
            "_view_name": "LayoutView",
            "align_content": null,
            "align_items": null,
            "align_self": null,
            "border": null,
            "bottom": null,
            "display": null,
            "flex": "2",
            "flex_flow": null,
            "grid_area": null,
            "grid_auto_columns": null,
            "grid_auto_flow": null,
            "grid_auto_rows": null,
            "grid_column": null,
            "grid_gap": null,
            "grid_row": null,
            "grid_template_areas": null,
            "grid_template_columns": null,
            "grid_template_rows": null,
            "height": null,
            "justify_content": null,
            "justify_items": null,
            "left": null,
            "margin": null,
            "max_height": null,
            "max_width": null,
            "min_height": null,
            "min_width": null,
            "object_fit": null,
            "object_position": null,
            "order": null,
            "overflow": null,
            "overflow_x": null,
            "overflow_y": null,
            "padding": null,
            "right": null,
            "top": null,
            "visibility": null,
            "width": null
          }
        },
        "03cd51f670d94f9bb95690c8cd94fd2d": {
          "model_module": "@jupyter-widgets/controls",
          "model_module_version": "1.5.0",
          "model_name": "FloatProgressModel",
          "state": {
            "_dom_classes": [],
            "_model_module": "@jupyter-widgets/controls",
            "_model_module_version": "1.5.0",
            "_model_name": "FloatProgressModel",
            "_view_count": null,
            "_view_module": "@jupyter-widgets/controls",
            "_view_module_version": "1.5.0",
            "_view_name": "ProgressView",
            "bar_style": "",
            "description": "",
            "description_tooltip": null,
            "layout": "IPY_MODEL_79cb52e4b02242eebe230f4c93cdc286",
            "max": 2,
            "min": 0,
            "orientation": "horizontal",
            "style": "IPY_MODEL_48053543e13b43408bb37da99de6e68e",
            "value": 2
          }
        },
        "07eb306c1c144ee094c03ce52bd57f40": {
          "model_module": "@jupyter-widgets/base",
          "model_module_version": "1.2.0",
          "model_name": "LayoutModel",
          "state": {
            "_model_module": "@jupyter-widgets/base",
            "_model_module_version": "1.2.0",
            "_model_name": "LayoutModel",
            "_view_count": null,
            "_view_module": "@jupyter-widgets/base",
            "_view_module_version": "1.2.0",
            "_view_name": "LayoutView",
            "align_content": null,
            "align_items": null,
            "align_self": null,
            "border": null,
            "bottom": null,
            "display": null,
            "flex": null,
            "flex_flow": null,
            "grid_area": null,
            "grid_auto_columns": null,
            "grid_auto_flow": null,
            "grid_auto_rows": null,
            "grid_column": null,
            "grid_gap": null,
            "grid_row": null,
            "grid_template_areas": null,
            "grid_template_columns": null,
            "grid_template_rows": null,
            "height": null,
            "justify_content": null,
            "justify_items": null,
            "left": null,
            "margin": null,
            "max_height": null,
            "max_width": null,
            "min_height": null,
            "min_width": null,
            "object_fit": null,
            "object_position": null,
            "order": null,
            "overflow": null,
            "overflow_x": null,
            "overflow_y": null,
            "padding": null,
            "right": null,
            "top": null,
            "visibility": null,
            "width": null
          }
        },
        "08462878efe84ef295b92ffec08be312": {
          "model_module": "@jupyter-widgets/controls",
          "model_module_version": "1.5.0",
          "model_name": "HTMLModel",
          "state": {
            "_dom_classes": [],
            "_model_module": "@jupyter-widgets/controls",
            "_model_module_version": "1.5.0",
            "_model_name": "HTMLModel",
            "_view_count": null,
            "_view_module": "@jupyter-widgets/controls",
            "_view_module_version": "1.5.0",
            "_view_name": "HTMLView",
            "description": "",
            "description_tooltip": null,
            "layout": "IPY_MODEL_6715a04e64be4711a1507c8bf21fe821",
            "placeholder": "​",
            "style": "IPY_MODEL_55c3e7aef384420aadcc228750ae1838",
            "value": " 509/509 [00:05&lt;00:00, 96.17it/s]"
          }
        },
        "0e3a9df47b2d48e4a15fbe5a41136475": {
          "model_module": "@jupyter-widgets/controls",
          "model_module_version": "1.5.0",
          "model_name": "ProgressStyleModel",
          "state": {
            "_model_module": "@jupyter-widgets/controls",
            "_model_module_version": "1.5.0",
            "_model_name": "ProgressStyleModel",
            "_view_count": null,
            "_view_module": "@jupyter-widgets/base",
            "_view_module_version": "1.2.0",
            "_view_name": "StyleView",
            "bar_color": null,
            "description_width": ""
          }
        },
        "0fdceb2da9644ca7b97cf066c28a6ee7": {
          "model_module": "@jupyter-widgets/base",
          "model_module_version": "1.2.0",
          "model_name": "LayoutModel",
          "state": {
            "_model_module": "@jupyter-widgets/base",
            "_model_module_version": "1.2.0",
            "_model_name": "LayoutModel",
            "_view_count": null,
            "_view_module": "@jupyter-widgets/base",
            "_view_module_version": "1.2.0",
            "_view_name": "LayoutView",
            "align_content": null,
            "align_items": null,
            "align_self": null,
            "border": null,
            "bottom": null,
            "display": null,
            "flex": null,
            "flex_flow": null,
            "grid_area": null,
            "grid_auto_columns": null,
            "grid_auto_flow": null,
            "grid_auto_rows": null,
            "grid_column": null,
            "grid_gap": null,
            "grid_row": null,
            "grid_template_areas": null,
            "grid_template_columns": null,
            "grid_template_rows": null,
            "height": null,
            "justify_content": null,
            "justify_items": null,
            "left": null,
            "margin": null,
            "max_height": null,
            "max_width": null,
            "min_height": null,
            "min_width": null,
            "object_fit": null,
            "object_position": null,
            "order": null,
            "overflow": null,
            "overflow_x": null,
            "overflow_y": null,
            "padding": null,
            "right": null,
            "top": null,
            "visibility": null,
            "width": null
          }
        },
        "1648626da92845daad5fecb1ed969210": {
          "model_module": "@jupyter-widgets/base",
          "model_module_version": "1.2.0",
          "model_name": "LayoutModel",
          "state": {
            "_model_module": "@jupyter-widgets/base",
            "_model_module_version": "1.2.0",
            "_model_name": "LayoutModel",
            "_view_count": null,
            "_view_module": "@jupyter-widgets/base",
            "_view_module_version": "1.2.0",
            "_view_name": "LayoutView",
            "align_content": null,
            "align_items": null,
            "align_self": null,
            "border": null,
            "bottom": null,
            "display": null,
            "flex": null,
            "flex_flow": null,
            "grid_area": null,
            "grid_auto_columns": null,
            "grid_auto_flow": null,
            "grid_auto_rows": null,
            "grid_column": null,
            "grid_gap": null,
            "grid_row": null,
            "grid_template_areas": null,
            "grid_template_columns": null,
            "grid_template_rows": null,
            "height": null,
            "justify_content": null,
            "justify_items": null,
            "left": null,
            "margin": null,
            "max_height": null,
            "max_width": null,
            "min_height": null,
            "min_width": null,
            "object_fit": null,
            "object_position": null,
            "order": null,
            "overflow": null,
            "overflow_x": null,
            "overflow_y": null,
            "padding": null,
            "right": null,
            "top": null,
            "visibility": null,
            "width": null
          }
        },
        "179a2c765c0f4f9e82ba68ababb5dfed": {
          "model_module": "@jupyter-widgets/controls",
          "model_module_version": "1.5.0",
          "model_name": "DescriptionStyleModel",
          "state": {
            "_model_module": "@jupyter-widgets/controls",
            "_model_module_version": "1.5.0",
            "_model_name": "DescriptionStyleModel",
            "_view_count": null,
            "_view_module": "@jupyter-widgets/base",
            "_view_module_version": "1.2.0",
            "_view_name": "StyleView",
            "description_width": ""
          }
        },
        "17d3b2a4370245108c0b8e691dc93c8f": {
          "model_module": "@jupyter-widgets/base",
          "model_module_version": "1.2.0",
          "model_name": "LayoutModel",
          "state": {
            "_model_module": "@jupyter-widgets/base",
            "_model_module_version": "1.2.0",
            "_model_name": "LayoutModel",
            "_view_count": null,
            "_view_module": "@jupyter-widgets/base",
            "_view_module_version": "1.2.0",
            "_view_name": "LayoutView",
            "align_content": null,
            "align_items": null,
            "align_self": null,
            "border": null,
            "bottom": null,
            "display": null,
            "flex": null,
            "flex_flow": null,
            "grid_area": null,
            "grid_auto_columns": null,
            "grid_auto_flow": null,
            "grid_auto_rows": null,
            "grid_column": null,
            "grid_gap": null,
            "grid_row": null,
            "grid_template_areas": null,
            "grid_template_columns": null,
            "grid_template_rows": null,
            "height": null,
            "justify_content": null,
            "justify_items": null,
            "left": null,
            "margin": null,
            "max_height": null,
            "max_width": null,
            "min_height": null,
            "min_width": null,
            "object_fit": null,
            "object_position": null,
            "order": null,
            "overflow": null,
            "overflow_x": null,
            "overflow_y": null,
            "padding": null,
            "right": null,
            "top": null,
            "visibility": null,
            "width": null
          }
        },
        "18bbdc807fde4818be28a069d9475c0c": {
          "model_module": "@jupyter-widgets/base",
          "model_module_version": "1.2.0",
          "model_name": "LayoutModel",
          "state": {
            "_model_module": "@jupyter-widgets/base",
            "_model_module_version": "1.2.0",
            "_model_name": "LayoutModel",
            "_view_count": null,
            "_view_module": "@jupyter-widgets/base",
            "_view_module_version": "1.2.0",
            "_view_name": "LayoutView",
            "align_content": null,
            "align_items": null,
            "align_self": null,
            "border": null,
            "bottom": null,
            "display": "inline-flex",
            "flex": null,
            "flex_flow": "row wrap",
            "grid_area": null,
            "grid_auto_columns": null,
            "grid_auto_flow": null,
            "grid_auto_rows": null,
            "grid_column": null,
            "grid_gap": null,
            "grid_row": null,
            "grid_template_areas": null,
            "grid_template_columns": null,
            "grid_template_rows": null,
            "height": null,
            "justify_content": null,
            "justify_items": null,
            "left": null,
            "margin": null,
            "max_height": null,
            "max_width": null,
            "min_height": null,
            "min_width": null,
            "object_fit": null,
            "object_position": null,
            "order": null,
            "overflow": null,
            "overflow_x": null,
            "overflow_y": null,
            "padding": null,
            "right": null,
            "top": null,
            "visibility": null,
            "width": "100%"
          }
        },
        "1bf07de79c614ea7afea21406f2ea854": {
          "model_module": "@jupyter-widgets/controls",
          "model_module_version": "1.5.0",
          "model_name": "HTMLModel",
          "state": {
            "_dom_classes": [],
            "_model_module": "@jupyter-widgets/controls",
            "_model_module_version": "1.5.0",
            "_model_name": "HTMLModel",
            "_view_count": null,
            "_view_module": "@jupyter-widgets/controls",
            "_view_module_version": "1.5.0",
            "_view_name": "HTMLView",
            "description": "",
            "description_tooltip": null,
            "layout": "IPY_MODEL_612d27f3350745778d8d8cc1802ed427",
            "placeholder": "​",
            "style": "IPY_MODEL_9f97291ec2174e6cb95cecd0a06a0ae2",
            "value": "Validation DataLoader 0: 100%"
          }
        },
        "1caf3e7be1cc47ca8f88362cf3da4736": {
          "model_module": "@jupyter-widgets/base",
          "model_module_version": "1.2.0",
          "model_name": "LayoutModel",
          "state": {
            "_model_module": "@jupyter-widgets/base",
            "_model_module_version": "1.2.0",
            "_model_name": "LayoutModel",
            "_view_count": null,
            "_view_module": "@jupyter-widgets/base",
            "_view_module_version": "1.2.0",
            "_view_name": "LayoutView",
            "align_content": null,
            "align_items": null,
            "align_self": null,
            "border": null,
            "bottom": null,
            "display": null,
            "flex": null,
            "flex_flow": null,
            "grid_area": null,
            "grid_auto_columns": null,
            "grid_auto_flow": null,
            "grid_auto_rows": null,
            "grid_column": null,
            "grid_gap": null,
            "grid_row": null,
            "grid_template_areas": null,
            "grid_template_columns": null,
            "grid_template_rows": null,
            "height": null,
            "justify_content": null,
            "justify_items": null,
            "left": null,
            "margin": null,
            "max_height": null,
            "max_width": null,
            "min_height": null,
            "min_width": null,
            "object_fit": null,
            "object_position": null,
            "order": null,
            "overflow": null,
            "overflow_x": null,
            "overflow_y": null,
            "padding": null,
            "right": null,
            "top": null,
            "visibility": null,
            "width": null
          }
        },
        "1e489ea0c16f413ea4a21982d3690a82": {
          "model_module": "@jupyter-widgets/controls",
          "model_module_version": "1.5.0",
          "model_name": "HTMLModel",
          "state": {
            "_dom_classes": [],
            "_model_module": "@jupyter-widgets/controls",
            "_model_module_version": "1.5.0",
            "_model_name": "HTMLModel",
            "_view_count": null,
            "_view_module": "@jupyter-widgets/controls",
            "_view_module_version": "1.5.0",
            "_view_name": "HTMLView",
            "description": "",
            "description_tooltip": null,
            "layout": "IPY_MODEL_0fdceb2da9644ca7b97cf066c28a6ee7",
            "placeholder": "​",
            "style": "IPY_MODEL_dc6ad3ac9269426bb3897d37f1a46416",
            "value": "Epoch 1: 100%"
          }
        },
        "254ea87571e94a798d87abe03c7ff6fe": {
          "model_module": "@jupyter-widgets/controls",
          "model_module_version": "1.5.0",
          "model_name": "HBoxModel",
          "state": {
            "_dom_classes": [],
            "_model_module": "@jupyter-widgets/controls",
            "_model_module_version": "1.5.0",
            "_model_name": "HBoxModel",
            "_view_count": null,
            "_view_module": "@jupyter-widgets/controls",
            "_view_module_version": "1.5.0",
            "_view_name": "HBoxView",
            "box_style": "",
            "children": [
              "IPY_MODEL_28224b087da44098bfe60544943fd0ff",
              "IPY_MODEL_2bea5c3cf51c47a69ea6c78abcef795f",
              "IPY_MODEL_87872f800112482c8aec527612483e84"
            ],
            "layout": "IPY_MODEL_7307fb100fec48548d158a92136c17e4"
          }
        },
        "25aa79ce86d141538d9e4193ee659869": {
          "model_module": "@jupyter-widgets/controls",
          "model_module_version": "1.5.0",
          "model_name": "HTMLModel",
          "state": {
            "_dom_classes": [],
            "_model_module": "@jupyter-widgets/controls",
            "_model_module_version": "1.5.0",
            "_model_name": "HTMLModel",
            "_view_count": null,
            "_view_module": "@jupyter-widgets/controls",
            "_view_module_version": "1.5.0",
            "_view_name": "HTMLView",
            "description": "",
            "description_tooltip": null,
            "layout": "IPY_MODEL_b6efbdc5bca2498bb1b0b7a8ab09be95",
            "placeholder": "​",
            "style": "IPY_MODEL_d12155593c5442509e940219805d2f5b",
            "value": "Validation DataLoader 0: 100%"
          }
        },
        "28224b087da44098bfe60544943fd0ff": {
          "model_module": "@jupyter-widgets/controls",
          "model_module_version": "1.5.0",
          "model_name": "HTMLModel",
          "state": {
            "_dom_classes": [],
            "_model_module": "@jupyter-widgets/controls",
            "_model_module_version": "1.5.0",
            "_model_name": "HTMLModel",
            "_view_count": null,
            "_view_module": "@jupyter-widgets/controls",
            "_view_module_version": "1.5.0",
            "_view_name": "HTMLView",
            "description": "",
            "description_tooltip": null,
            "layout": "IPY_MODEL_9ac6824d96384cbba027eb38e2c67f40",
            "placeholder": "​",
            "style": "IPY_MODEL_845c8360605941bcab60b198bdf3ac3a",
            "value": "Testing DataLoader 0: 100%"
          }
        },
        "288288b7d115470a81a1a40b0b15a488": {
          "model_module": "@jupyter-widgets/controls",
          "model_module_version": "1.5.0",
          "model_name": "ProgressStyleModel",
          "state": {
            "_model_module": "@jupyter-widgets/controls",
            "_model_module_version": "1.5.0",
            "_model_name": "ProgressStyleModel",
            "_view_count": null,
            "_view_module": "@jupyter-widgets/base",
            "_view_module_version": "1.2.0",
            "_view_name": "StyleView",
            "bar_color": null,
            "description_width": ""
          }
        },
        "2900599657d24da08ebf71d7f696adf7": {
          "model_module": "@jupyter-widgets/controls",
          "model_module_version": "1.5.0",
          "model_name": "DescriptionStyleModel",
          "state": {
            "_model_module": "@jupyter-widgets/controls",
            "_model_module_version": "1.5.0",
            "_model_name": "DescriptionStyleModel",
            "_view_count": null,
            "_view_module": "@jupyter-widgets/base",
            "_view_module_version": "1.2.0",
            "_view_name": "StyleView",
            "description_width": ""
          }
        },
        "292630b9e62b45ecb2da4e4d4c3521f5": {
          "model_module": "@jupyter-widgets/controls",
          "model_module_version": "1.5.0",
          "model_name": "HBoxModel",
          "state": {
            "_dom_classes": [],
            "_model_module": "@jupyter-widgets/controls",
            "_model_module_version": "1.5.0",
            "_model_name": "HBoxModel",
            "_view_count": null,
            "_view_module": "@jupyter-widgets/controls",
            "_view_module_version": "1.5.0",
            "_view_name": "HBoxView",
            "box_style": "",
            "children": [
              "IPY_MODEL_694ec72093994b1a9207831f1f058750",
              "IPY_MODEL_84371c3851ac4e7eb6ec9cab6a337ab7",
              "IPY_MODEL_ca4e2c58b12e4f4a981e4e7b5224080f"
            ],
            "layout": "IPY_MODEL_5699955eb31f4d3e989a51a5463d20cc"
          }
        },
        "2ad8a9d7e00f4369967f0848ee0cdbb1": {
          "model_module": "@jupyter-widgets/base",
          "model_module_version": "1.2.0",
          "model_name": "LayoutModel",
          "state": {
            "_model_module": "@jupyter-widgets/base",
            "_model_module_version": "1.2.0",
            "_model_name": "LayoutModel",
            "_view_count": null,
            "_view_module": "@jupyter-widgets/base",
            "_view_module_version": "1.2.0",
            "_view_name": "LayoutView",
            "align_content": null,
            "align_items": null,
            "align_self": null,
            "border": null,
            "bottom": null,
            "display": "inline-flex",
            "flex": null,
            "flex_flow": "row wrap",
            "grid_area": null,
            "grid_auto_columns": null,
            "grid_auto_flow": null,
            "grid_auto_rows": null,
            "grid_column": null,
            "grid_gap": null,
            "grid_row": null,
            "grid_template_areas": null,
            "grid_template_columns": null,
            "grid_template_rows": null,
            "height": null,
            "justify_content": null,
            "justify_items": null,
            "left": null,
            "margin": null,
            "max_height": null,
            "max_width": null,
            "min_height": null,
            "min_width": null,
            "object_fit": null,
            "object_position": null,
            "order": null,
            "overflow": null,
            "overflow_x": null,
            "overflow_y": null,
            "padding": null,
            "right": null,
            "top": null,
            "visibility": null,
            "width": "100%"
          }
        },
        "2b5560faf8b1408fb83ecc73428a7621": {
          "model_module": "@jupyter-widgets/controls",
          "model_module_version": "1.5.0",
          "model_name": "ProgressStyleModel",
          "state": {
            "_model_module": "@jupyter-widgets/controls",
            "_model_module_version": "1.5.0",
            "_model_name": "ProgressStyleModel",
            "_view_count": null,
            "_view_module": "@jupyter-widgets/base",
            "_view_module_version": "1.2.0",
            "_view_name": "StyleView",
            "bar_color": null,
            "description_width": ""
          }
        },
        "2bea5c3cf51c47a69ea6c78abcef795f": {
          "model_module": "@jupyter-widgets/controls",
          "model_module_version": "1.5.0",
          "model_name": "FloatProgressModel",
          "state": {
            "_dom_classes": [],
            "_model_module": "@jupyter-widgets/controls",
            "_model_module_version": "1.5.0",
            "_model_name": "FloatProgressModel",
            "_view_count": null,
            "_view_module": "@jupyter-widgets/controls",
            "_view_module_version": "1.5.0",
            "_view_name": "ProgressView",
            "bar_style": "success",
            "description": "",
            "description_tooltip": null,
            "layout": "IPY_MODEL_ad38175a80bf416eb340d9dd2e0afdb6",
            "max": 63,
            "min": 0,
            "orientation": "horizontal",
            "style": "IPY_MODEL_d9b62014db174f5abf46c93861ecf10d",
            "value": 63
          }
        },
        "2f20a984056649c9bf48ef8aa72b4300": {
          "model_module": "@jupyter-widgets/controls",
          "model_module_version": "1.5.0",
          "model_name": "DescriptionStyleModel",
          "state": {
            "_model_module": "@jupyter-widgets/controls",
            "_model_module_version": "1.5.0",
            "_model_name": "DescriptionStyleModel",
            "_view_count": null,
            "_view_module": "@jupyter-widgets/base",
            "_view_module_version": "1.2.0",
            "_view_name": "StyleView",
            "description_width": ""
          }
        },
        "2fbf269cd10945748c7b8014eef1bc22": {
          "model_module": "@jupyter-widgets/controls",
          "model_module_version": "1.5.0",
          "model_name": "HTMLModel",
          "state": {
            "_dom_classes": [],
            "_model_module": "@jupyter-widgets/controls",
            "_model_module_version": "1.5.0",
            "_model_name": "HTMLModel",
            "_view_count": null,
            "_view_module": "@jupyter-widgets/controls",
            "_view_module_version": "1.5.0",
            "_view_name": "HTMLView",
            "description": "",
            "description_tooltip": null,
            "layout": "IPY_MODEL_7dcc0218e11e4fd5926d2c0c6b6a3932",
            "placeholder": "​",
            "style": "IPY_MODEL_aea54c48c11b461bb549fdea69ccd003",
            "value": " 844/844 [00:07&lt;00:00, 117.11it/s]"
          }
        },
        "30143367b5e84252a0d60c7809c99586": {
          "model_module": "@jupyter-widgets/base",
          "model_module_version": "1.2.0",
          "model_name": "LayoutModel",
          "state": {
            "_model_module": "@jupyter-widgets/base",
            "_model_module_version": "1.2.0",
            "_model_name": "LayoutModel",
            "_view_count": null,
            "_view_module": "@jupyter-widgets/base",
            "_view_module_version": "1.2.0",
            "_view_name": "LayoutView",
            "align_content": null,
            "align_items": null,
            "align_self": null,
            "border": null,
            "bottom": null,
            "display": null,
            "flex": null,
            "flex_flow": null,
            "grid_area": null,
            "grid_auto_columns": null,
            "grid_auto_flow": null,
            "grid_auto_rows": null,
            "grid_column": null,
            "grid_gap": null,
            "grid_row": null,
            "grid_template_areas": null,
            "grid_template_columns": null,
            "grid_template_rows": null,
            "height": null,
            "justify_content": null,
            "justify_items": null,
            "left": null,
            "margin": null,
            "max_height": null,
            "max_width": null,
            "min_height": null,
            "min_width": null,
            "object_fit": null,
            "object_position": null,
            "order": null,
            "overflow": null,
            "overflow_x": null,
            "overflow_y": null,
            "padding": null,
            "right": null,
            "top": null,
            "visibility": null,
            "width": null
          }
        },
        "3301b7d40b59472ea25497f11638ed4f": {
          "model_module": "@jupyter-widgets/controls",
          "model_module_version": "1.5.0",
          "model_name": "DescriptionStyleModel",
          "state": {
            "_model_module": "@jupyter-widgets/controls",
            "_model_module_version": "1.5.0",
            "_model_name": "DescriptionStyleModel",
            "_view_count": null,
            "_view_module": "@jupyter-widgets/base",
            "_view_module_version": "1.2.0",
            "_view_name": "StyleView",
            "description_width": ""
          }
        },
        "33c9f48e0744490c9e5d9ebc3de0cfde": {
          "model_module": "@jupyter-widgets/controls",
          "model_module_version": "1.5.0",
          "model_name": "HTMLModel",
          "state": {
            "_dom_classes": [],
            "_model_module": "@jupyter-widgets/controls",
            "_model_module_version": "1.5.0",
            "_model_name": "HTMLModel",
            "_view_count": null,
            "_view_module": "@jupyter-widgets/controls",
            "_view_module_version": "1.5.0",
            "_view_name": "HTMLView",
            "description": "",
            "description_tooltip": null,
            "layout": "IPY_MODEL_708cc18a123847029908a772e87f1bf8",
            "placeholder": "​",
            "style": "IPY_MODEL_bfa615d136d147928cbace4df12276b3",
            "value": " 2/2 [00:00&lt;00:00, 16.07it/s]"
          }
        },
        "39d955055a364505ace50aec09c25860": {
          "model_module": "@jupyter-widgets/base",
          "model_module_version": "1.2.0",
          "model_name": "LayoutModel",
          "state": {
            "_model_module": "@jupyter-widgets/base",
            "_model_module_version": "1.2.0",
            "_model_name": "LayoutModel",
            "_view_count": null,
            "_view_module": "@jupyter-widgets/base",
            "_view_module_version": "1.2.0",
            "_view_name": "LayoutView",
            "align_content": null,
            "align_items": null,
            "align_self": null,
            "border": null,
            "bottom": null,
            "display": null,
            "flex": "2",
            "flex_flow": null,
            "grid_area": null,
            "grid_auto_columns": null,
            "grid_auto_flow": null,
            "grid_auto_rows": null,
            "grid_column": null,
            "grid_gap": null,
            "grid_row": null,
            "grid_template_areas": null,
            "grid_template_columns": null,
            "grid_template_rows": null,
            "height": null,
            "justify_content": null,
            "justify_items": null,
            "left": null,
            "margin": null,
            "max_height": null,
            "max_width": null,
            "min_height": null,
            "min_width": null,
            "object_fit": null,
            "object_position": null,
            "order": null,
            "overflow": null,
            "overflow_x": null,
            "overflow_y": null,
            "padding": null,
            "right": null,
            "top": null,
            "visibility": null,
            "width": null
          }
        },
        "3af39e5895b5410bbdef4abab91fb4b4": {
          "model_module": "@jupyter-widgets/base",
          "model_module_version": "1.2.0",
          "model_name": "LayoutModel",
          "state": {
            "_model_module": "@jupyter-widgets/base",
            "_model_module_version": "1.2.0",
            "_model_name": "LayoutModel",
            "_view_count": null,
            "_view_module": "@jupyter-widgets/base",
            "_view_module_version": "1.2.0",
            "_view_name": "LayoutView",
            "align_content": null,
            "align_items": null,
            "align_self": null,
            "border": null,
            "bottom": null,
            "display": null,
            "flex": "2",
            "flex_flow": null,
            "grid_area": null,
            "grid_auto_columns": null,
            "grid_auto_flow": null,
            "grid_auto_rows": null,
            "grid_column": null,
            "grid_gap": null,
            "grid_row": null,
            "grid_template_areas": null,
            "grid_template_columns": null,
            "grid_template_rows": null,
            "height": null,
            "justify_content": null,
            "justify_items": null,
            "left": null,
            "margin": null,
            "max_height": null,
            "max_width": null,
            "min_height": null,
            "min_width": null,
            "object_fit": null,
            "object_position": null,
            "order": null,
            "overflow": null,
            "overflow_x": null,
            "overflow_y": null,
            "padding": null,
            "right": null,
            "top": null,
            "visibility": null,
            "width": null
          }
        },
        "3b94619934434844b4072a172aee53a8": {
          "model_module": "@jupyter-widgets/controls",
          "model_module_version": "1.5.0",
          "model_name": "DescriptionStyleModel",
          "state": {
            "_model_module": "@jupyter-widgets/controls",
            "_model_module_version": "1.5.0",
            "_model_name": "DescriptionStyleModel",
            "_view_count": null,
            "_view_module": "@jupyter-widgets/base",
            "_view_module_version": "1.2.0",
            "_view_name": "StyleView",
            "description_width": ""
          }
        },
        "4306cb5f90ba45689f6e9b867fb2d296": {
          "model_module": "@jupyter-widgets/base",
          "model_module_version": "1.2.0",
          "model_name": "LayoutModel",
          "state": {
            "_model_module": "@jupyter-widgets/base",
            "_model_module_version": "1.2.0",
            "_model_name": "LayoutModel",
            "_view_count": null,
            "_view_module": "@jupyter-widgets/base",
            "_view_module_version": "1.2.0",
            "_view_name": "LayoutView",
            "align_content": null,
            "align_items": null,
            "align_self": null,
            "border": null,
            "bottom": null,
            "display": "inline-flex",
            "flex": null,
            "flex_flow": "row wrap",
            "grid_area": null,
            "grid_auto_columns": null,
            "grid_auto_flow": null,
            "grid_auto_rows": null,
            "grid_column": null,
            "grid_gap": null,
            "grid_row": null,
            "grid_template_areas": null,
            "grid_template_columns": null,
            "grid_template_rows": null,
            "height": null,
            "justify_content": null,
            "justify_items": null,
            "left": null,
            "margin": null,
            "max_height": null,
            "max_width": null,
            "min_height": null,
            "min_width": null,
            "object_fit": null,
            "object_position": null,
            "order": null,
            "overflow": null,
            "overflow_x": null,
            "overflow_y": null,
            "padding": null,
            "right": null,
            "top": null,
            "visibility": null,
            "width": "100%"
          }
        },
        "4576b4d09bac43bf9b69305f4f0e0ce7": {
          "model_module": "@jupyter-widgets/controls",
          "model_module_version": "1.5.0",
          "model_name": "ProgressStyleModel",
          "state": {
            "_model_module": "@jupyter-widgets/controls",
            "_model_module_version": "1.5.0",
            "_model_name": "ProgressStyleModel",
            "_view_count": null,
            "_view_module": "@jupyter-widgets/base",
            "_view_module_version": "1.2.0",
            "_view_name": "StyleView",
            "bar_color": null,
            "description_width": ""
          }
        },
        "459c7d8b1b47486fad6413989b22456b": {
          "model_module": "@jupyter-widgets/base",
          "model_module_version": "1.2.0",
          "model_name": "LayoutModel",
          "state": {
            "_model_module": "@jupyter-widgets/base",
            "_model_module_version": "1.2.0",
            "_model_name": "LayoutModel",
            "_view_count": null,
            "_view_module": "@jupyter-widgets/base",
            "_view_module_version": "1.2.0",
            "_view_name": "LayoutView",
            "align_content": null,
            "align_items": null,
            "align_self": null,
            "border": null,
            "bottom": null,
            "display": null,
            "flex": null,
            "flex_flow": null,
            "grid_area": null,
            "grid_auto_columns": null,
            "grid_auto_flow": null,
            "grid_auto_rows": null,
            "grid_column": null,
            "grid_gap": null,
            "grid_row": null,
            "grid_template_areas": null,
            "grid_template_columns": null,
            "grid_template_rows": null,
            "height": null,
            "justify_content": null,
            "justify_items": null,
            "left": null,
            "margin": null,
            "max_height": null,
            "max_width": null,
            "min_height": null,
            "min_width": null,
            "object_fit": null,
            "object_position": null,
            "order": null,
            "overflow": null,
            "overflow_x": null,
            "overflow_y": null,
            "padding": null,
            "right": null,
            "top": null,
            "visibility": null,
            "width": null
          }
        },
        "48053543e13b43408bb37da99de6e68e": {
          "model_module": "@jupyter-widgets/controls",
          "model_module_version": "1.5.0",
          "model_name": "ProgressStyleModel",
          "state": {
            "_model_module": "@jupyter-widgets/controls",
            "_model_module_version": "1.5.0",
            "_model_name": "ProgressStyleModel",
            "_view_count": null,
            "_view_module": "@jupyter-widgets/base",
            "_view_module_version": "1.2.0",
            "_view_name": "StyleView",
            "bar_color": null,
            "description_width": ""
          }
        },
        "49684cb74cff4ed6896659ff7d315d36": {
          "model_module": "@jupyter-widgets/controls",
          "model_module_version": "1.5.0",
          "model_name": "ProgressStyleModel",
          "state": {
            "_model_module": "@jupyter-widgets/controls",
            "_model_module_version": "1.5.0",
            "_model_name": "ProgressStyleModel",
            "_view_count": null,
            "_view_module": "@jupyter-widgets/base",
            "_view_module_version": "1.2.0",
            "_view_name": "StyleView",
            "bar_color": null,
            "description_width": ""
          }
        },
        "4c2e6c3086ea4476b0b779a25ee5b496": {
          "model_module": "@jupyter-widgets/base",
          "model_module_version": "1.2.0",
          "model_name": "LayoutModel",
          "state": {
            "_model_module": "@jupyter-widgets/base",
            "_model_module_version": "1.2.0",
            "_model_name": "LayoutModel",
            "_view_count": null,
            "_view_module": "@jupyter-widgets/base",
            "_view_module_version": "1.2.0",
            "_view_name": "LayoutView",
            "align_content": null,
            "align_items": null,
            "align_self": null,
            "border": null,
            "bottom": null,
            "display": null,
            "flex": null,
            "flex_flow": null,
            "grid_area": null,
            "grid_auto_columns": null,
            "grid_auto_flow": null,
            "grid_auto_rows": null,
            "grid_column": null,
            "grid_gap": null,
            "grid_row": null,
            "grid_template_areas": null,
            "grid_template_columns": null,
            "grid_template_rows": null,
            "height": null,
            "justify_content": null,
            "justify_items": null,
            "left": null,
            "margin": null,
            "max_height": null,
            "max_width": null,
            "min_height": null,
            "min_width": null,
            "object_fit": null,
            "object_position": null,
            "order": null,
            "overflow": null,
            "overflow_x": null,
            "overflow_y": null,
            "padding": null,
            "right": null,
            "top": null,
            "visibility": null,
            "width": null
          }
        },
        "4d99ba34ea244723b52a6928eb144283": {
          "model_module": "@jupyter-widgets/controls",
          "model_module_version": "1.5.0",
          "model_name": "HTMLModel",
          "state": {
            "_dom_classes": [],
            "_model_module": "@jupyter-widgets/controls",
            "_model_module_version": "1.5.0",
            "_model_name": "HTMLModel",
            "_view_count": null,
            "_view_module": "@jupyter-widgets/controls",
            "_view_module_version": "1.5.0",
            "_view_name": "HTMLView",
            "description": "",
            "description_tooltip": null,
            "layout": "IPY_MODEL_75b41bc9cc0f49c8be5bb477652bead3",
            "placeholder": "​",
            "style": "IPY_MODEL_e4aac145575b4b1caf171712c034883d",
            "value": " 2/2 [00:00&lt;00:00, 29.55it/s]"
          }
        },
        "4de4d7a0a5bb4bfca406ddc4aac59ffd": {
          "model_module": "@jupyter-widgets/controls",
          "model_module_version": "1.5.0",
          "model_name": "DescriptionStyleModel",
          "state": {
            "_model_module": "@jupyter-widgets/controls",
            "_model_module_version": "1.5.0",
            "_model_name": "DescriptionStyleModel",
            "_view_count": null,
            "_view_module": "@jupyter-widgets/base",
            "_view_module_version": "1.2.0",
            "_view_name": "StyleView",
            "description_width": ""
          }
        },
        "4e6716aa6c674bdcbf9cdf5981612189": {
          "model_module": "@jupyter-widgets/base",
          "model_module_version": "1.2.0",
          "model_name": "LayoutModel",
          "state": {
            "_model_module": "@jupyter-widgets/base",
            "_model_module_version": "1.2.0",
            "_model_name": "LayoutModel",
            "_view_count": null,
            "_view_module": "@jupyter-widgets/base",
            "_view_module_version": "1.2.0",
            "_view_name": "LayoutView",
            "align_content": null,
            "align_items": null,
            "align_self": null,
            "border": null,
            "bottom": null,
            "display": null,
            "flex": null,
            "flex_flow": null,
            "grid_area": null,
            "grid_auto_columns": null,
            "grid_auto_flow": null,
            "grid_auto_rows": null,
            "grid_column": null,
            "grid_gap": null,
            "grid_row": null,
            "grid_template_areas": null,
            "grid_template_columns": null,
            "grid_template_rows": null,
            "height": null,
            "justify_content": null,
            "justify_items": null,
            "left": null,
            "margin": null,
            "max_height": null,
            "max_width": null,
            "min_height": null,
            "min_width": null,
            "object_fit": null,
            "object_position": null,
            "order": null,
            "overflow": null,
            "overflow_x": null,
            "overflow_y": null,
            "padding": null,
            "right": null,
            "top": null,
            "visibility": null,
            "width": null
          }
        },
        "4f2051fd00284f38a995c39a8e3e9f6b": {
          "model_module": "@jupyter-widgets/controls",
          "model_module_version": "1.5.0",
          "model_name": "HBoxModel",
          "state": {
            "_dom_classes": [],
            "_model_module": "@jupyter-widgets/controls",
            "_model_module_version": "1.5.0",
            "_model_name": "HBoxModel",
            "_view_count": null,
            "_view_module": "@jupyter-widgets/controls",
            "_view_module_version": "1.5.0",
            "_view_name": "HBoxView",
            "box_style": "",
            "children": [
              "IPY_MODEL_8d0c0379620b43bfa8224f26f36a21d1",
              "IPY_MODEL_e8dfd5566f7a4125b3c38fb85138f1ca",
              "IPY_MODEL_2fbf269cd10945748c7b8014eef1bc22"
            ],
            "layout": "IPY_MODEL_18bbdc807fde4818be28a069d9475c0c"
          }
        },
        "4f938830770944b59b89af0f3497b807": {
          "model_module": "@jupyter-widgets/controls",
          "model_module_version": "1.5.0",
          "model_name": "HBoxModel",
          "state": {
            "_dom_classes": [],
            "_model_module": "@jupyter-widgets/controls",
            "_model_module_version": "1.5.0",
            "_model_name": "HBoxModel",
            "_view_count": null,
            "_view_module": "@jupyter-widgets/controls",
            "_view_module_version": "1.5.0",
            "_view_name": "HBoxView",
            "box_style": "",
            "children": [
              "IPY_MODEL_1e489ea0c16f413ea4a21982d3690a82",
              "IPY_MODEL_991bc3e2ff8e44b5a5d9a0e0dd797583",
              "IPY_MODEL_bbafa6278bec477594af86341f13a5ec"
            ],
            "layout": "IPY_MODEL_7bd5bf65e0fb4b2e8030ec718b9c065a"
          }
        },
        "5466332d6e25448193d5831f6c5f86d8": {
          "model_module": "@jupyter-widgets/controls",
          "model_module_version": "1.5.0",
          "model_name": "DescriptionStyleModel",
          "state": {
            "_model_module": "@jupyter-widgets/controls",
            "_model_module_version": "1.5.0",
            "_model_name": "DescriptionStyleModel",
            "_view_count": null,
            "_view_module": "@jupyter-widgets/base",
            "_view_module_version": "1.2.0",
            "_view_name": "StyleView",
            "description_width": ""
          }
        },
        "55c3e7aef384420aadcc228750ae1838": {
          "model_module": "@jupyter-widgets/controls",
          "model_module_version": "1.5.0",
          "model_name": "DescriptionStyleModel",
          "state": {
            "_model_module": "@jupyter-widgets/controls",
            "_model_module_version": "1.5.0",
            "_model_name": "DescriptionStyleModel",
            "_view_count": null,
            "_view_module": "@jupyter-widgets/base",
            "_view_module_version": "1.2.0",
            "_view_name": "StyleView",
            "description_width": ""
          }
        },
        "5699955eb31f4d3e989a51a5463d20cc": {
          "model_module": "@jupyter-widgets/base",
          "model_module_version": "1.2.0",
          "model_name": "LayoutModel",
          "state": {
            "_model_module": "@jupyter-widgets/base",
            "_model_module_version": "1.2.0",
            "_model_name": "LayoutModel",
            "_view_count": null,
            "_view_module": "@jupyter-widgets/base",
            "_view_module_version": "1.2.0",
            "_view_name": "LayoutView",
            "align_content": null,
            "align_items": null,
            "align_self": null,
            "border": null,
            "bottom": null,
            "display": "inline-flex",
            "flex": null,
            "flex_flow": "row wrap",
            "grid_area": null,
            "grid_auto_columns": null,
            "grid_auto_flow": null,
            "grid_auto_rows": null,
            "grid_column": null,
            "grid_gap": null,
            "grid_row": null,
            "grid_template_areas": null,
            "grid_template_columns": null,
            "grid_template_rows": null,
            "height": null,
            "justify_content": null,
            "justify_items": null,
            "left": null,
            "margin": null,
            "max_height": null,
            "max_width": null,
            "min_height": null,
            "min_width": null,
            "object_fit": null,
            "object_position": null,
            "order": null,
            "overflow": null,
            "overflow_x": null,
            "overflow_y": null,
            "padding": null,
            "right": null,
            "top": null,
            "visibility": null,
            "width": "100%"
          }
        },
        "5a381e562a44460f9f3a17bf543e8ac5": {
          "model_module": "@jupyter-widgets/base",
          "model_module_version": "1.2.0",
          "model_name": "LayoutModel",
          "state": {
            "_model_module": "@jupyter-widgets/base",
            "_model_module_version": "1.2.0",
            "_model_name": "LayoutModel",
            "_view_count": null,
            "_view_module": "@jupyter-widgets/base",
            "_view_module_version": "1.2.0",
            "_view_name": "LayoutView",
            "align_content": null,
            "align_items": null,
            "align_self": null,
            "border": null,
            "bottom": null,
            "display": null,
            "flex": null,
            "flex_flow": null,
            "grid_area": null,
            "grid_auto_columns": null,
            "grid_auto_flow": null,
            "grid_auto_rows": null,
            "grid_column": null,
            "grid_gap": null,
            "grid_row": null,
            "grid_template_areas": null,
            "grid_template_columns": null,
            "grid_template_rows": null,
            "height": null,
            "justify_content": null,
            "justify_items": null,
            "left": null,
            "margin": null,
            "max_height": null,
            "max_width": null,
            "min_height": null,
            "min_width": null,
            "object_fit": null,
            "object_position": null,
            "order": null,
            "overflow": null,
            "overflow_x": null,
            "overflow_y": null,
            "padding": null,
            "right": null,
            "top": null,
            "visibility": null,
            "width": null
          }
        },
        "5bf594a3677c46f59cc133e8879994a3": {
          "model_module": "@jupyter-widgets/base",
          "model_module_version": "1.2.0",
          "model_name": "LayoutModel",
          "state": {
            "_model_module": "@jupyter-widgets/base",
            "_model_module_version": "1.2.0",
            "_model_name": "LayoutModel",
            "_view_count": null,
            "_view_module": "@jupyter-widgets/base",
            "_view_module_version": "1.2.0",
            "_view_name": "LayoutView",
            "align_content": null,
            "align_items": null,
            "align_self": null,
            "border": null,
            "bottom": null,
            "display": null,
            "flex": null,
            "flex_flow": null,
            "grid_area": null,
            "grid_auto_columns": null,
            "grid_auto_flow": null,
            "grid_auto_rows": null,
            "grid_column": null,
            "grid_gap": null,
            "grid_row": null,
            "grid_template_areas": null,
            "grid_template_columns": null,
            "grid_template_rows": null,
            "height": null,
            "justify_content": null,
            "justify_items": null,
            "left": null,
            "margin": null,
            "max_height": null,
            "max_width": null,
            "min_height": null,
            "min_width": null,
            "object_fit": null,
            "object_position": null,
            "order": null,
            "overflow": null,
            "overflow_x": null,
            "overflow_y": null,
            "padding": null,
            "right": null,
            "top": null,
            "visibility": null,
            "width": null
          }
        },
        "5d4b339c783e44d48d54409d26dcf01b": {
          "model_module": "@jupyter-widgets/controls",
          "model_module_version": "1.5.0",
          "model_name": "FloatProgressModel",
          "state": {
            "_dom_classes": [],
            "_model_module": "@jupyter-widgets/controls",
            "_model_module_version": "1.5.0",
            "_model_name": "FloatProgressModel",
            "_view_count": null,
            "_view_module": "@jupyter-widgets/controls",
            "_view_module_version": "1.5.0",
            "_view_name": "ProgressView",
            "bar_style": "success",
            "description": "",
            "description_tooltip": null,
            "layout": "IPY_MODEL_ff1b1870f8df43f5a28e811d6d98306c",
            "max": 5083,
            "min": 0,
            "orientation": "horizontal",
            "style": "IPY_MODEL_6d440bb233eb4fb996561a7c9565cdcc",
            "value": 5083
          }
        },
        "5f54e38f6c044fafa03a36bc86cc863d": {
          "model_module": "@jupyter-widgets/controls",
          "model_module_version": "1.5.0",
          "model_name": "FloatProgressModel",
          "state": {
            "_dom_classes": [],
            "_model_module": "@jupyter-widgets/controls",
            "_model_module_version": "1.5.0",
            "_model_name": "FloatProgressModel",
            "_view_count": null,
            "_view_module": "@jupyter-widgets/controls",
            "_view_module_version": "1.5.0",
            "_view_name": "ProgressView",
            "bar_style": "",
            "description": "",
            "description_tooltip": null,
            "layout": "IPY_MODEL_a5265340ebf44f8d8188f6f2cfec3d76",
            "max": 63,
            "min": 0,
            "orientation": "horizontal",
            "style": "IPY_MODEL_2b5560faf8b1408fb83ecc73428a7621",
            "value": 63
          }
        },
        "612d27f3350745778d8d8cc1802ed427": {
          "model_module": "@jupyter-widgets/base",
          "model_module_version": "1.2.0",
          "model_name": "LayoutModel",
          "state": {
            "_model_module": "@jupyter-widgets/base",
            "_model_module_version": "1.2.0",
            "_model_name": "LayoutModel",
            "_view_count": null,
            "_view_module": "@jupyter-widgets/base",
            "_view_module_version": "1.2.0",
            "_view_name": "LayoutView",
            "align_content": null,
            "align_items": null,
            "align_self": null,
            "border": null,
            "bottom": null,
            "display": null,
            "flex": null,
            "flex_flow": null,
            "grid_area": null,
            "grid_auto_columns": null,
            "grid_auto_flow": null,
            "grid_auto_rows": null,
            "grid_column": null,
            "grid_gap": null,
            "grid_row": null,
            "grid_template_areas": null,
            "grid_template_columns": null,
            "grid_template_rows": null,
            "height": null,
            "justify_content": null,
            "justify_items": null,
            "left": null,
            "margin": null,
            "max_height": null,
            "max_width": null,
            "min_height": null,
            "min_width": null,
            "object_fit": null,
            "object_position": null,
            "order": null,
            "overflow": null,
            "overflow_x": null,
            "overflow_y": null,
            "padding": null,
            "right": null,
            "top": null,
            "visibility": null,
            "width": null
          }
        },
        "630cce1c05744c47af3046cec9b13424": {
          "model_module": "@jupyter-widgets/base",
          "model_module_version": "1.2.0",
          "model_name": "LayoutModel",
          "state": {
            "_model_module": "@jupyter-widgets/base",
            "_model_module_version": "1.2.0",
            "_model_name": "LayoutModel",
            "_view_count": null,
            "_view_module": "@jupyter-widgets/base",
            "_view_module_version": "1.2.0",
            "_view_name": "LayoutView",
            "align_content": null,
            "align_items": null,
            "align_self": null,
            "border": null,
            "bottom": null,
            "display": "inline-flex",
            "flex": null,
            "flex_flow": "row wrap",
            "grid_area": null,
            "grid_auto_columns": null,
            "grid_auto_flow": null,
            "grid_auto_rows": null,
            "grid_column": null,
            "grid_gap": null,
            "grid_row": null,
            "grid_template_areas": null,
            "grid_template_columns": null,
            "grid_template_rows": null,
            "height": null,
            "justify_content": null,
            "justify_items": null,
            "left": null,
            "margin": null,
            "max_height": null,
            "max_width": null,
            "min_height": null,
            "min_width": null,
            "object_fit": null,
            "object_position": null,
            "order": null,
            "overflow": null,
            "overflow_x": null,
            "overflow_y": null,
            "padding": null,
            "right": null,
            "top": null,
            "visibility": null,
            "width": "100%"
          }
        },
        "6625df8c8af4473ab1a3d27aa8ca579d": {
          "model_module": "@jupyter-widgets/base",
          "model_module_version": "1.2.0",
          "model_name": "LayoutModel",
          "state": {
            "_model_module": "@jupyter-widgets/base",
            "_model_module_version": "1.2.0",
            "_model_name": "LayoutModel",
            "_view_count": null,
            "_view_module": "@jupyter-widgets/base",
            "_view_module_version": "1.2.0",
            "_view_name": "LayoutView",
            "align_content": null,
            "align_items": null,
            "align_self": null,
            "border": null,
            "bottom": null,
            "display": null,
            "flex": "2",
            "flex_flow": null,
            "grid_area": null,
            "grid_auto_columns": null,
            "grid_auto_flow": null,
            "grid_auto_rows": null,
            "grid_column": null,
            "grid_gap": null,
            "grid_row": null,
            "grid_template_areas": null,
            "grid_template_columns": null,
            "grid_template_rows": null,
            "height": null,
            "justify_content": null,
            "justify_items": null,
            "left": null,
            "margin": null,
            "max_height": null,
            "max_width": null,
            "min_height": null,
            "min_width": null,
            "object_fit": null,
            "object_position": null,
            "order": null,
            "overflow": null,
            "overflow_x": null,
            "overflow_y": null,
            "padding": null,
            "right": null,
            "top": null,
            "visibility": null,
            "width": null
          }
        },
        "6715a04e64be4711a1507c8bf21fe821": {
          "model_module": "@jupyter-widgets/base",
          "model_module_version": "1.2.0",
          "model_name": "LayoutModel",
          "state": {
            "_model_module": "@jupyter-widgets/base",
            "_model_module_version": "1.2.0",
            "_model_name": "LayoutModel",
            "_view_count": null,
            "_view_module": "@jupyter-widgets/base",
            "_view_module_version": "1.2.0",
            "_view_name": "LayoutView",
            "align_content": null,
            "align_items": null,
            "align_self": null,
            "border": null,
            "bottom": null,
            "display": null,
            "flex": null,
            "flex_flow": null,
            "grid_area": null,
            "grid_auto_columns": null,
            "grid_auto_flow": null,
            "grid_auto_rows": null,
            "grid_column": null,
            "grid_gap": null,
            "grid_row": null,
            "grid_template_areas": null,
            "grid_template_columns": null,
            "grid_template_rows": null,
            "height": null,
            "justify_content": null,
            "justify_items": null,
            "left": null,
            "margin": null,
            "max_height": null,
            "max_width": null,
            "min_height": null,
            "min_width": null,
            "object_fit": null,
            "object_position": null,
            "order": null,
            "overflow": null,
            "overflow_x": null,
            "overflow_y": null,
            "padding": null,
            "right": null,
            "top": null,
            "visibility": null,
            "width": null
          }
        },
        "694ec72093994b1a9207831f1f058750": {
          "model_module": "@jupyter-widgets/controls",
          "model_module_version": "1.5.0",
          "model_name": "HTMLModel",
          "state": {
            "_dom_classes": [],
            "_model_module": "@jupyter-widgets/controls",
            "_model_module_version": "1.5.0",
            "_model_name": "HTMLModel",
            "_view_count": null,
            "_view_module": "@jupyter-widgets/controls",
            "_view_module_version": "1.5.0",
            "_view_name": "HTMLView",
            "description": "",
            "description_tooltip": null,
            "layout": "IPY_MODEL_30143367b5e84252a0d60c7809c99586",
            "placeholder": "​",
            "style": "IPY_MODEL_8c70715b60ef4a669344450188b6557b",
            "value": "Epoch 0: 100%"
          }
        },
        "6b8faded66434251aa4f734d45dff05b": {
          "model_module": "@jupyter-widgets/base",
          "model_module_version": "1.2.0",
          "model_name": "LayoutModel",
          "state": {
            "_model_module": "@jupyter-widgets/base",
            "_model_module_version": "1.2.0",
            "_model_name": "LayoutModel",
            "_view_count": null,
            "_view_module": "@jupyter-widgets/base",
            "_view_module_version": "1.2.0",
            "_view_name": "LayoutView",
            "align_content": null,
            "align_items": null,
            "align_self": null,
            "border": null,
            "bottom": null,
            "display": "inline-flex",
            "flex": null,
            "flex_flow": "row wrap",
            "grid_area": null,
            "grid_auto_columns": null,
            "grid_auto_flow": null,
            "grid_auto_rows": null,
            "grid_column": null,
            "grid_gap": null,
            "grid_row": null,
            "grid_template_areas": null,
            "grid_template_columns": null,
            "grid_template_rows": null,
            "height": null,
            "justify_content": null,
            "justify_items": null,
            "left": null,
            "margin": null,
            "max_height": null,
            "max_width": null,
            "min_height": null,
            "min_width": null,
            "object_fit": null,
            "object_position": null,
            "order": null,
            "overflow": null,
            "overflow_x": null,
            "overflow_y": null,
            "padding": null,
            "right": null,
            "top": null,
            "visibility": null,
            "width": "100%"
          }
        },
        "6b92162443ec4420b0ea88491f705d3b": {
          "model_module": "@jupyter-widgets/controls",
          "model_module_version": "1.5.0",
          "model_name": "HBoxModel",
          "state": {
            "_dom_classes": [],
            "_model_module": "@jupyter-widgets/controls",
            "_model_module_version": "1.5.0",
            "_model_name": "HBoxModel",
            "_view_count": null,
            "_view_module": "@jupyter-widgets/controls",
            "_view_module_version": "1.5.0",
            "_view_name": "HBoxView",
            "box_style": "",
            "children": [
              "IPY_MODEL_cdaa89a1eff24befa943a22f71681e4b",
              "IPY_MODEL_882e3336875646bc9a93b988523f3ea5",
              "IPY_MODEL_9807afe2d16245d288a1b314b612744f"
            ],
            "layout": "IPY_MODEL_975a6be7c6514798bdffb45833005f3e"
          }
        },
        "6ce119c357ca4144b7500aa8a97762a2": {
          "model_module": "@jupyter-widgets/controls",
          "model_module_version": "1.5.0",
          "model_name": "HTMLModel",
          "state": {
            "_dom_classes": [],
            "_model_module": "@jupyter-widgets/controls",
            "_model_module_version": "1.5.0",
            "_model_name": "HTMLModel",
            "_view_count": null,
            "_view_module": "@jupyter-widgets/controls",
            "_view_module_version": "1.5.0",
            "_view_name": "HTMLView",
            "description": "",
            "description_tooltip": null,
            "layout": "IPY_MODEL_8f6175525f09496db91fda47b17fd553",
            "placeholder": "​",
            "style": "IPY_MODEL_b18d76a09c0b450096d3ce27dca766d1",
            "value": "Testing DataLoader 0: 100%"
          }
        },
        "6d440bb233eb4fb996561a7c9565cdcc": {
          "model_module": "@jupyter-widgets/controls",
          "model_module_version": "1.5.0",
          "model_name": "ProgressStyleModel",
          "state": {
            "_model_module": "@jupyter-widgets/controls",
            "_model_module_version": "1.5.0",
            "_model_name": "ProgressStyleModel",
            "_view_count": null,
            "_view_module": "@jupyter-widgets/base",
            "_view_module_version": "1.2.0",
            "_view_name": "StyleView",
            "bar_color": null,
            "description_width": ""
          }
        },
        "6fdac55b82d64fa3bea645324cbe2dfb": {
          "model_module": "@jupyter-widgets/base",
          "model_module_version": "1.2.0",
          "model_name": "LayoutModel",
          "state": {
            "_model_module": "@jupyter-widgets/base",
            "_model_module_version": "1.2.0",
            "_model_name": "LayoutModel",
            "_view_count": null,
            "_view_module": "@jupyter-widgets/base",
            "_view_module_version": "1.2.0",
            "_view_name": "LayoutView",
            "align_content": null,
            "align_items": null,
            "align_self": null,
            "border": null,
            "bottom": null,
            "display": "inline-flex",
            "flex": null,
            "flex_flow": "row wrap",
            "grid_area": null,
            "grid_auto_columns": null,
            "grid_auto_flow": null,
            "grid_auto_rows": null,
            "grid_column": null,
            "grid_gap": null,
            "grid_row": null,
            "grid_template_areas": null,
            "grid_template_columns": null,
            "grid_template_rows": null,
            "height": null,
            "justify_content": null,
            "justify_items": null,
            "left": null,
            "margin": null,
            "max_height": null,
            "max_width": null,
            "min_height": null,
            "min_width": null,
            "object_fit": null,
            "object_position": null,
            "order": null,
            "overflow": null,
            "overflow_x": null,
            "overflow_y": null,
            "padding": null,
            "right": null,
            "top": null,
            "visibility": null,
            "width": "100%"
          }
        },
        "708cc18a123847029908a772e87f1bf8": {
          "model_module": "@jupyter-widgets/base",
          "model_module_version": "1.2.0",
          "model_name": "LayoutModel",
          "state": {
            "_model_module": "@jupyter-widgets/base",
            "_model_module_version": "1.2.0",
            "_model_name": "LayoutModel",
            "_view_count": null,
            "_view_module": "@jupyter-widgets/base",
            "_view_module_version": "1.2.0",
            "_view_name": "LayoutView",
            "align_content": null,
            "align_items": null,
            "align_self": null,
            "border": null,
            "bottom": null,
            "display": null,
            "flex": null,
            "flex_flow": null,
            "grid_area": null,
            "grid_auto_columns": null,
            "grid_auto_flow": null,
            "grid_auto_rows": null,
            "grid_column": null,
            "grid_gap": null,
            "grid_row": null,
            "grid_template_areas": null,
            "grid_template_columns": null,
            "grid_template_rows": null,
            "height": null,
            "justify_content": null,
            "justify_items": null,
            "left": null,
            "margin": null,
            "max_height": null,
            "max_width": null,
            "min_height": null,
            "min_width": null,
            "object_fit": null,
            "object_position": null,
            "order": null,
            "overflow": null,
            "overflow_x": null,
            "overflow_y": null,
            "padding": null,
            "right": null,
            "top": null,
            "visibility": null,
            "width": null
          }
        },
        "70933051e37644b0b21ae95725ec775b": {
          "model_module": "@jupyter-widgets/base",
          "model_module_version": "1.2.0",
          "model_name": "LayoutModel",
          "state": {
            "_model_module": "@jupyter-widgets/base",
            "_model_module_version": "1.2.0",
            "_model_name": "LayoutModel",
            "_view_count": null,
            "_view_module": "@jupyter-widgets/base",
            "_view_module_version": "1.2.0",
            "_view_name": "LayoutView",
            "align_content": null,
            "align_items": null,
            "align_self": null,
            "border": null,
            "bottom": null,
            "display": null,
            "flex": null,
            "flex_flow": null,
            "grid_area": null,
            "grid_auto_columns": null,
            "grid_auto_flow": null,
            "grid_auto_rows": null,
            "grid_column": null,
            "grid_gap": null,
            "grid_row": null,
            "grid_template_areas": null,
            "grid_template_columns": null,
            "grid_template_rows": null,
            "height": null,
            "justify_content": null,
            "justify_items": null,
            "left": null,
            "margin": null,
            "max_height": null,
            "max_width": null,
            "min_height": null,
            "min_width": null,
            "object_fit": null,
            "object_position": null,
            "order": null,
            "overflow": null,
            "overflow_x": null,
            "overflow_y": null,
            "padding": null,
            "right": null,
            "top": null,
            "visibility": null,
            "width": null
          }
        },
        "7307fb100fec48548d158a92136c17e4": {
          "model_module": "@jupyter-widgets/base",
          "model_module_version": "1.2.0",
          "model_name": "LayoutModel",
          "state": {
            "_model_module": "@jupyter-widgets/base",
            "_model_module_version": "1.2.0",
            "_model_name": "LayoutModel",
            "_view_count": null,
            "_view_module": "@jupyter-widgets/base",
            "_view_module_version": "1.2.0",
            "_view_name": "LayoutView",
            "align_content": null,
            "align_items": null,
            "align_self": null,
            "border": null,
            "bottom": null,
            "display": "inline-flex",
            "flex": null,
            "flex_flow": "row wrap",
            "grid_area": null,
            "grid_auto_columns": null,
            "grid_auto_flow": null,
            "grid_auto_rows": null,
            "grid_column": null,
            "grid_gap": null,
            "grid_row": null,
            "grid_template_areas": null,
            "grid_template_columns": null,
            "grid_template_rows": null,
            "height": null,
            "justify_content": null,
            "justify_items": null,
            "left": null,
            "margin": null,
            "max_height": null,
            "max_width": null,
            "min_height": null,
            "min_width": null,
            "object_fit": null,
            "object_position": null,
            "order": null,
            "overflow": null,
            "overflow_x": null,
            "overflow_y": null,
            "padding": null,
            "right": null,
            "top": null,
            "visibility": null,
            "width": "100%"
          }
        },
        "737a0ab75013429fa7776f84d9cb68a3": {
          "model_module": "@jupyter-widgets/controls",
          "model_module_version": "1.5.0",
          "model_name": "HTMLModel",
          "state": {
            "_dom_classes": [],
            "_model_module": "@jupyter-widgets/controls",
            "_model_module_version": "1.5.0",
            "_model_name": "HTMLModel",
            "_view_count": null,
            "_view_module": "@jupyter-widgets/controls",
            "_view_module_version": "1.5.0",
            "_view_name": "HTMLView",
            "description": "",
            "description_tooltip": null,
            "layout": "IPY_MODEL_5a381e562a44460f9f3a17bf543e8ac5",
            "placeholder": "​",
            "style": "IPY_MODEL_ce6fa073c070413a85ed42626472b21e",
            "value": "Sanity Checking DataLoader 0: 100%"
          }
        },
        "7451a9eda1cc4adeaa361b8839117bdf": {
          "model_module": "@jupyter-widgets/controls",
          "model_module_version": "1.5.0",
          "model_name": "ProgressStyleModel",
          "state": {
            "_model_module": "@jupyter-widgets/controls",
            "_model_module_version": "1.5.0",
            "_model_name": "ProgressStyleModel",
            "_view_count": null,
            "_view_module": "@jupyter-widgets/base",
            "_view_module_version": "1.2.0",
            "_view_name": "StyleView",
            "bar_color": null,
            "description_width": ""
          }
        },
        "75b41bc9cc0f49c8be5bb477652bead3": {
          "model_module": "@jupyter-widgets/base",
          "model_module_version": "1.2.0",
          "model_name": "LayoutModel",
          "state": {
            "_model_module": "@jupyter-widgets/base",
            "_model_module_version": "1.2.0",
            "_model_name": "LayoutModel",
            "_view_count": null,
            "_view_module": "@jupyter-widgets/base",
            "_view_module_version": "1.2.0",
            "_view_name": "LayoutView",
            "align_content": null,
            "align_items": null,
            "align_self": null,
            "border": null,
            "bottom": null,
            "display": null,
            "flex": null,
            "flex_flow": null,
            "grid_area": null,
            "grid_auto_columns": null,
            "grid_auto_flow": null,
            "grid_auto_rows": null,
            "grid_column": null,
            "grid_gap": null,
            "grid_row": null,
            "grid_template_areas": null,
            "grid_template_columns": null,
            "grid_template_rows": null,
            "height": null,
            "justify_content": null,
            "justify_items": null,
            "left": null,
            "margin": null,
            "max_height": null,
            "max_width": null,
            "min_height": null,
            "min_width": null,
            "object_fit": null,
            "object_position": null,
            "order": null,
            "overflow": null,
            "overflow_x": null,
            "overflow_y": null,
            "padding": null,
            "right": null,
            "top": null,
            "visibility": null,
            "width": null
          }
        },
        "77a61ad63a454685a6e9ae5da394d31a": {
          "model_module": "@jupyter-widgets/base",
          "model_module_version": "1.2.0",
          "model_name": "LayoutModel",
          "state": {
            "_model_module": "@jupyter-widgets/base",
            "_model_module_version": "1.2.0",
            "_model_name": "LayoutModel",
            "_view_count": null,
            "_view_module": "@jupyter-widgets/base",
            "_view_module_version": "1.2.0",
            "_view_name": "LayoutView",
            "align_content": null,
            "align_items": null,
            "align_self": null,
            "border": null,
            "bottom": null,
            "display": null,
            "flex": null,
            "flex_flow": null,
            "grid_area": null,
            "grid_auto_columns": null,
            "grid_auto_flow": null,
            "grid_auto_rows": null,
            "grid_column": null,
            "grid_gap": null,
            "grid_row": null,
            "grid_template_areas": null,
            "grid_template_columns": null,
            "grid_template_rows": null,
            "height": null,
            "justify_content": null,
            "justify_items": null,
            "left": null,
            "margin": null,
            "max_height": null,
            "max_width": null,
            "min_height": null,
            "min_width": null,
            "object_fit": null,
            "object_position": null,
            "order": null,
            "overflow": null,
            "overflow_x": null,
            "overflow_y": null,
            "padding": null,
            "right": null,
            "top": null,
            "visibility": null,
            "width": null
          }
        },
        "794ea6899aaf4dc4869f85b01f068cf7": {
          "model_module": "@jupyter-widgets/controls",
          "model_module_version": "1.5.0",
          "model_name": "FloatProgressModel",
          "state": {
            "_dom_classes": [],
            "_model_module": "@jupyter-widgets/controls",
            "_model_module_version": "1.5.0",
            "_model_name": "FloatProgressModel",
            "_view_count": null,
            "_view_module": "@jupyter-widgets/controls",
            "_view_module_version": "1.5.0",
            "_view_name": "ProgressView",
            "bar_style": "",
            "description": "",
            "description_tooltip": null,
            "layout": "IPY_MODEL_c7af2a171bf341feb12a566cf4a855c7",
            "max": 2,
            "min": 0,
            "orientation": "horizontal",
            "style": "IPY_MODEL_4576b4d09bac43bf9b69305f4f0e0ce7",
            "value": 2
          }
        },
        "79cb52e4b02242eebe230f4c93cdc286": {
          "model_module": "@jupyter-widgets/base",
          "model_module_version": "1.2.0",
          "model_name": "LayoutModel",
          "state": {
            "_model_module": "@jupyter-widgets/base",
            "_model_module_version": "1.2.0",
            "_model_name": "LayoutModel",
            "_view_count": null,
            "_view_module": "@jupyter-widgets/base",
            "_view_module_version": "1.2.0",
            "_view_name": "LayoutView",
            "align_content": null,
            "align_items": null,
            "align_self": null,
            "border": null,
            "bottom": null,
            "display": null,
            "flex": "2",
            "flex_flow": null,
            "grid_area": null,
            "grid_auto_columns": null,
            "grid_auto_flow": null,
            "grid_auto_rows": null,
            "grid_column": null,
            "grid_gap": null,
            "grid_row": null,
            "grid_template_areas": null,
            "grid_template_columns": null,
            "grid_template_rows": null,
            "height": null,
            "justify_content": null,
            "justify_items": null,
            "left": null,
            "margin": null,
            "max_height": null,
            "max_width": null,
            "min_height": null,
            "min_width": null,
            "object_fit": null,
            "object_position": null,
            "order": null,
            "overflow": null,
            "overflow_x": null,
            "overflow_y": null,
            "padding": null,
            "right": null,
            "top": null,
            "visibility": null,
            "width": null
          }
        },
        "7bd5bf65e0fb4b2e8030ec718b9c065a": {
          "model_module": "@jupyter-widgets/base",
          "model_module_version": "1.2.0",
          "model_name": "LayoutModel",
          "state": {
            "_model_module": "@jupyter-widgets/base",
            "_model_module_version": "1.2.0",
            "_model_name": "LayoutModel",
            "_view_count": null,
            "_view_module": "@jupyter-widgets/base",
            "_view_module_version": "1.2.0",
            "_view_name": "LayoutView",
            "align_content": null,
            "align_items": null,
            "align_self": null,
            "border": null,
            "bottom": null,
            "display": "inline-flex",
            "flex": null,
            "flex_flow": "row wrap",
            "grid_area": null,
            "grid_auto_columns": null,
            "grid_auto_flow": null,
            "grid_auto_rows": null,
            "grid_column": null,
            "grid_gap": null,
            "grid_row": null,
            "grid_template_areas": null,
            "grid_template_columns": null,
            "grid_template_rows": null,
            "height": null,
            "justify_content": null,
            "justify_items": null,
            "left": null,
            "margin": null,
            "max_height": null,
            "max_width": null,
            "min_height": null,
            "min_width": null,
            "object_fit": null,
            "object_position": null,
            "order": null,
            "overflow": null,
            "overflow_x": null,
            "overflow_y": null,
            "padding": null,
            "right": null,
            "top": null,
            "visibility": null,
            "width": "100%"
          }
        },
        "7dcc0218e11e4fd5926d2c0c6b6a3932": {
          "model_module": "@jupyter-widgets/base",
          "model_module_version": "1.2.0",
          "model_name": "LayoutModel",
          "state": {
            "_model_module": "@jupyter-widgets/base",
            "_model_module_version": "1.2.0",
            "_model_name": "LayoutModel",
            "_view_count": null,
            "_view_module": "@jupyter-widgets/base",
            "_view_module_version": "1.2.0",
            "_view_name": "LayoutView",
            "align_content": null,
            "align_items": null,
            "align_self": null,
            "border": null,
            "bottom": null,
            "display": null,
            "flex": null,
            "flex_flow": null,
            "grid_area": null,
            "grid_auto_columns": null,
            "grid_auto_flow": null,
            "grid_auto_rows": null,
            "grid_column": null,
            "grid_gap": null,
            "grid_row": null,
            "grid_template_areas": null,
            "grid_template_columns": null,
            "grid_template_rows": null,
            "height": null,
            "justify_content": null,
            "justify_items": null,
            "left": null,
            "margin": null,
            "max_height": null,
            "max_width": null,
            "min_height": null,
            "min_width": null,
            "object_fit": null,
            "object_position": null,
            "order": null,
            "overflow": null,
            "overflow_x": null,
            "overflow_y": null,
            "padding": null,
            "right": null,
            "top": null,
            "visibility": null,
            "width": null
          }
        },
        "7fc9036ffd5742d3ad688cdd7fdf50e3": {
          "model_module": "@jupyter-widgets/controls",
          "model_module_version": "1.5.0",
          "model_name": "FloatProgressModel",
          "state": {
            "_dom_classes": [],
            "_model_module": "@jupyter-widgets/controls",
            "_model_module_version": "1.5.0",
            "_model_name": "FloatProgressModel",
            "_view_count": null,
            "_view_module": "@jupyter-widgets/controls",
            "_view_module_version": "1.5.0",
            "_view_name": "ProgressView",
            "bar_style": "",
            "description": "",
            "description_tooltip": null,
            "layout": "IPY_MODEL_81640c1f4da6451da26fb074e0ed1dd9",
            "max": 2,
            "min": 0,
            "orientation": "horizontal",
            "style": "IPY_MODEL_288288b7d115470a81a1a40b0b15a488",
            "value": 2
          }
        },
        "803c4fe96fe446f4a66b351e05cfa151": {
          "model_module": "@jupyter-widgets/controls",
          "model_module_version": "1.5.0",
          "model_name": "HBoxModel",
          "state": {
            "_dom_classes": [],
            "_model_module": "@jupyter-widgets/controls",
            "_model_module_version": "1.5.0",
            "_model_name": "HBoxModel",
            "_view_count": null,
            "_view_module": "@jupyter-widgets/controls",
            "_view_module_version": "1.5.0",
            "_view_name": "HBoxView",
            "box_style": "",
            "children": [
              "IPY_MODEL_c5dbc907433b45438b5bc9e71c587b25",
              "IPY_MODEL_03cd51f670d94f9bb95690c8cd94fd2d",
              "IPY_MODEL_4d99ba34ea244723b52a6928eb144283"
            ],
            "layout": "IPY_MODEL_6fdac55b82d64fa3bea645324cbe2dfb"
          }
        },
        "816402ff4ed243d4899ecdab5aa07e68": {
          "model_module": "@jupyter-widgets/controls",
          "model_module_version": "1.5.0",
          "model_name": "HTMLModel",
          "state": {
            "_dom_classes": [],
            "_model_module": "@jupyter-widgets/controls",
            "_model_module_version": "1.5.0",
            "_model_name": "HTMLModel",
            "_view_count": null,
            "_view_module": "@jupyter-widgets/controls",
            "_view_module_version": "1.5.0",
            "_view_name": "HTMLView",
            "description": "",
            "description_tooltip": null,
            "layout": "IPY_MODEL_d076140ec32a44139b9c3597bd5a197d",
            "placeholder": "​",
            "style": "IPY_MODEL_4de4d7a0a5bb4bfca406ddc4aac59ffd",
            "value": "Epoch 0: 100%"
          }
        },
        "81640c1f4da6451da26fb074e0ed1dd9": {
          "model_module": "@jupyter-widgets/base",
          "model_module_version": "1.2.0",
          "model_name": "LayoutModel",
          "state": {
            "_model_module": "@jupyter-widgets/base",
            "_model_module_version": "1.2.0",
            "_model_name": "LayoutModel",
            "_view_count": null,
            "_view_module": "@jupyter-widgets/base",
            "_view_module_version": "1.2.0",
            "_view_name": "LayoutView",
            "align_content": null,
            "align_items": null,
            "align_self": null,
            "border": null,
            "bottom": null,
            "display": null,
            "flex": "2",
            "flex_flow": null,
            "grid_area": null,
            "grid_auto_columns": null,
            "grid_auto_flow": null,
            "grid_auto_rows": null,
            "grid_column": null,
            "grid_gap": null,
            "grid_row": null,
            "grid_template_areas": null,
            "grid_template_columns": null,
            "grid_template_rows": null,
            "height": null,
            "justify_content": null,
            "justify_items": null,
            "left": null,
            "margin": null,
            "max_height": null,
            "max_width": null,
            "min_height": null,
            "min_width": null,
            "object_fit": null,
            "object_position": null,
            "order": null,
            "overflow": null,
            "overflow_x": null,
            "overflow_y": null,
            "padding": null,
            "right": null,
            "top": null,
            "visibility": null,
            "width": null
          }
        },
        "84371c3851ac4e7eb6ec9cab6a337ab7": {
          "model_module": "@jupyter-widgets/controls",
          "model_module_version": "1.5.0",
          "model_name": "FloatProgressModel",
          "state": {
            "_dom_classes": [],
            "_model_module": "@jupyter-widgets/controls",
            "_model_module_version": "1.5.0",
            "_model_name": "FloatProgressModel",
            "_view_count": null,
            "_view_module": "@jupyter-widgets/controls",
            "_view_module_version": "1.5.0",
            "_view_name": "ProgressView",
            "bar_style": "success",
            "description": "",
            "description_tooltip": null,
            "layout": "IPY_MODEL_a570990d40324439b0772d55ea4d39b8",
            "max": 2542,
            "min": 0,
            "orientation": "horizontal",
            "style": "IPY_MODEL_ff55159145b4405d825aa164b0d36c68",
            "value": 2542
          }
        },
        "845c8360605941bcab60b198bdf3ac3a": {
          "model_module": "@jupyter-widgets/controls",
          "model_module_version": "1.5.0",
          "model_name": "DescriptionStyleModel",
          "state": {
            "_model_module": "@jupyter-widgets/controls",
            "_model_module_version": "1.5.0",
            "_model_name": "DescriptionStyleModel",
            "_view_count": null,
            "_view_module": "@jupyter-widgets/base",
            "_view_module_version": "1.2.0",
            "_view_name": "StyleView",
            "description_width": ""
          }
        },
        "85205ab31b9f48ecb4ec7655d00f4976": {
          "model_module": "@jupyter-widgets/controls",
          "model_module_version": "1.5.0",
          "model_name": "HTMLModel",
          "state": {
            "_dom_classes": [],
            "_model_module": "@jupyter-widgets/controls",
            "_model_module_version": "1.5.0",
            "_model_name": "HTMLModel",
            "_view_count": null,
            "_view_module": "@jupyter-widgets/controls",
            "_view_module_version": "1.5.0",
            "_view_name": "HTMLView",
            "description": "",
            "description_tooltip": null,
            "layout": "IPY_MODEL_17d3b2a4370245108c0b8e691dc93c8f",
            "placeholder": "​",
            "style": "IPY_MODEL_f83c6165a65348dfbc95ffb30204d603",
            "value": " 2/2 [00:05&lt;00:00,  2.77s/it]"
          }
        },
        "85ed8aed804c4e3f84b682e90a4890bd": {
          "model_module": "@jupyter-widgets/controls",
          "model_module_version": "1.5.0",
          "model_name": "HBoxModel",
          "state": {
            "_dom_classes": [],
            "_model_module": "@jupyter-widgets/controls",
            "_model_module_version": "1.5.0",
            "_model_name": "HBoxModel",
            "_view_count": null,
            "_view_module": "@jupyter-widgets/controls",
            "_view_module_version": "1.5.0",
            "_view_name": "HBoxView",
            "box_style": "",
            "children": [
              "IPY_MODEL_1bf07de79c614ea7afea21406f2ea854",
              "IPY_MODEL_cb49212c6c0945adbb9b33635ecbf32c",
              "IPY_MODEL_9d68870526be4701976e36715abe140a"
            ],
            "layout": "IPY_MODEL_bc1d746758384491bbf62d3dd84d60f6"
          }
        },
        "87872f800112482c8aec527612483e84": {
          "model_module": "@jupyter-widgets/controls",
          "model_module_version": "1.5.0",
          "model_name": "HTMLModel",
          "state": {
            "_dom_classes": [],
            "_model_module": "@jupyter-widgets/controls",
            "_model_module_version": "1.5.0",
            "_model_name": "HTMLModel",
            "_view_count": null,
            "_view_module": "@jupyter-widgets/controls",
            "_view_module_version": "1.5.0",
            "_view_name": "HTMLView",
            "description": "",
            "description_tooltip": null,
            "layout": "IPY_MODEL_07eb306c1c144ee094c03ce52bd57f40",
            "placeholder": "​",
            "style": "IPY_MODEL_2900599657d24da08ebf71d7f696adf7",
            "value": " 63/63 [00:01&lt;00:00, 32.44it/s]"
          }
        },
        "882e3336875646bc9a93b988523f3ea5": {
          "model_module": "@jupyter-widgets/controls",
          "model_module_version": "1.5.0",
          "model_name": "FloatProgressModel",
          "state": {
            "_dom_classes": [],
            "_model_module": "@jupyter-widgets/controls",
            "_model_module_version": "1.5.0",
            "_model_name": "FloatProgressModel",
            "_view_count": null,
            "_view_module": "@jupyter-widgets/controls",
            "_view_module_version": "1.5.0",
            "_view_name": "ProgressView",
            "bar_style": "",
            "description": "",
            "description_tooltip": null,
            "layout": "IPY_MODEL_6625df8c8af4473ab1a3d27aa8ca579d",
            "max": 63,
            "min": 0,
            "orientation": "horizontal",
            "style": "IPY_MODEL_49684cb74cff4ed6896659ff7d315d36",
            "value": 63
          }
        },
        "89d796842e8b4c74b10cf4241fb2d1dd": {
          "model_module": "@jupyter-widgets/controls",
          "model_module_version": "1.5.0",
          "model_name": "HTMLModel",
          "state": {
            "_dom_classes": [],
            "_model_module": "@jupyter-widgets/controls",
            "_model_module_version": "1.5.0",
            "_model_name": "HTMLModel",
            "_view_count": null,
            "_view_module": "@jupyter-widgets/controls",
            "_view_module_version": "1.5.0",
            "_view_name": "HTMLView",
            "description": "",
            "description_tooltip": null,
            "layout": "IPY_MODEL_bf298e09257d45c68863e4510a46876f",
            "placeholder": "​",
            "style": "IPY_MODEL_de6bc0c51d074aee8933da7e0417f6b1",
            "value": " 5083/5083 [00:57&lt;00:00, 87.96it/s, loss=0.565, v_num=1, validation/loss=0.542, validation/acc=0.794]"
          }
        },
        "8c70715b60ef4a669344450188b6557b": {
          "model_module": "@jupyter-widgets/controls",
          "model_module_version": "1.5.0",
          "model_name": "DescriptionStyleModel",
          "state": {
            "_model_module": "@jupyter-widgets/controls",
            "_model_module_version": "1.5.0",
            "_model_name": "DescriptionStyleModel",
            "_view_count": null,
            "_view_module": "@jupyter-widgets/base",
            "_view_module_version": "1.2.0",
            "_view_name": "StyleView",
            "description_width": ""
          }
        },
        "8ce97a12c7c14b0eb77f66b946038310": {
          "model_module": "@jupyter-widgets/controls",
          "model_module_version": "1.5.0",
          "model_name": "HTMLModel",
          "state": {
            "_dom_classes": [],
            "_model_module": "@jupyter-widgets/controls",
            "_model_module_version": "1.5.0",
            "_model_name": "HTMLModel",
            "_view_count": null,
            "_view_module": "@jupyter-widgets/controls",
            "_view_module_version": "1.5.0",
            "_view_name": "HTMLView",
            "description": "",
            "description_tooltip": null,
            "layout": "IPY_MODEL_af6985e4bf404b26b514e6408f5a0030",
            "placeholder": "​",
            "style": "IPY_MODEL_3b94619934434844b4072a172aee53a8",
            "value": "Sanity Checking DataLoader 0: 100%"
          }
        },
        "8d0c0379620b43bfa8224f26f36a21d1": {
          "model_module": "@jupyter-widgets/controls",
          "model_module_version": "1.5.0",
          "model_name": "HTMLModel",
          "state": {
            "_dom_classes": [],
            "_model_module": "@jupyter-widgets/controls",
            "_model_module_version": "1.5.0",
            "_model_name": "HTMLModel",
            "_view_count": null,
            "_view_module": "@jupyter-widgets/controls",
            "_view_module_version": "1.5.0",
            "_view_name": "HTMLView",
            "description": "",
            "description_tooltip": null,
            "layout": "IPY_MODEL_c7e3925f54a8417aac69630e603c7abe",
            "placeholder": "​",
            "style": "IPY_MODEL_3301b7d40b59472ea25497f11638ed4f",
            "value": "Testing DataLoader 0: 100%"
          }
        },
        "8f6175525f09496db91fda47b17fd553": {
          "model_module": "@jupyter-widgets/base",
          "model_module_version": "1.2.0",
          "model_name": "LayoutModel",
          "state": {
            "_model_module": "@jupyter-widgets/base",
            "_model_module_version": "1.2.0",
            "_model_name": "LayoutModel",
            "_view_count": null,
            "_view_module": "@jupyter-widgets/base",
            "_view_module_version": "1.2.0",
            "_view_name": "LayoutView",
            "align_content": null,
            "align_items": null,
            "align_self": null,
            "border": null,
            "bottom": null,
            "display": null,
            "flex": null,
            "flex_flow": null,
            "grid_area": null,
            "grid_auto_columns": null,
            "grid_auto_flow": null,
            "grid_auto_rows": null,
            "grid_column": null,
            "grid_gap": null,
            "grid_row": null,
            "grid_template_areas": null,
            "grid_template_columns": null,
            "grid_template_rows": null,
            "height": null,
            "justify_content": null,
            "justify_items": null,
            "left": null,
            "margin": null,
            "max_height": null,
            "max_width": null,
            "min_height": null,
            "min_width": null,
            "object_fit": null,
            "object_position": null,
            "order": null,
            "overflow": null,
            "overflow_x": null,
            "overflow_y": null,
            "padding": null,
            "right": null,
            "top": null,
            "visibility": null,
            "width": null
          }
        },
        "90dfdb76657845189414dff4ea5c6677": {
          "model_module": "@jupyter-widgets/controls",
          "model_module_version": "1.5.0",
          "model_name": "HTMLModel",
          "state": {
            "_dom_classes": [],
            "_model_module": "@jupyter-widgets/controls",
            "_model_module_version": "1.5.0",
            "_model_name": "HTMLModel",
            "_view_count": null,
            "_view_module": "@jupyter-widgets/controls",
            "_view_module_version": "1.5.0",
            "_view_name": "HTMLView",
            "description": "",
            "description_tooltip": null,
            "layout": "IPY_MODEL_1caf3e7be1cc47ca8f88362cf3da4736",
            "placeholder": "​",
            "style": "IPY_MODEL_5466332d6e25448193d5831f6c5f86d8",
            "value": " 63/63 [00:01&lt;00:00, 31.93it/s]"
          }
        },
        "975a6be7c6514798bdffb45833005f3e": {
          "model_module": "@jupyter-widgets/base",
          "model_module_version": "1.2.0",
          "model_name": "LayoutModel",
          "state": {
            "_model_module": "@jupyter-widgets/base",
            "_model_module_version": "1.2.0",
            "_model_name": "LayoutModel",
            "_view_count": null,
            "_view_module": "@jupyter-widgets/base",
            "_view_module_version": "1.2.0",
            "_view_name": "LayoutView",
            "align_content": null,
            "align_items": null,
            "align_self": null,
            "border": null,
            "bottom": null,
            "display": "inline-flex",
            "flex": null,
            "flex_flow": "row wrap",
            "grid_area": null,
            "grid_auto_columns": null,
            "grid_auto_flow": null,
            "grid_auto_rows": null,
            "grid_column": null,
            "grid_gap": null,
            "grid_row": null,
            "grid_template_areas": null,
            "grid_template_columns": null,
            "grid_template_rows": null,
            "height": null,
            "justify_content": null,
            "justify_items": null,
            "left": null,
            "margin": null,
            "max_height": null,
            "max_width": null,
            "min_height": null,
            "min_width": null,
            "object_fit": null,
            "object_position": null,
            "order": null,
            "overflow": null,
            "overflow_x": null,
            "overflow_y": null,
            "padding": null,
            "right": null,
            "top": null,
            "visibility": null,
            "width": "100%"
          }
        },
        "9807afe2d16245d288a1b314b612744f": {
          "model_module": "@jupyter-widgets/controls",
          "model_module_version": "1.5.0",
          "model_name": "HTMLModel",
          "state": {
            "_dom_classes": [],
            "_model_module": "@jupyter-widgets/controls",
            "_model_module_version": "1.5.0",
            "_model_name": "HTMLModel",
            "_view_count": null,
            "_view_module": "@jupyter-widgets/controls",
            "_view_module_version": "1.5.0",
            "_view_name": "HTMLView",
            "description": "",
            "description_tooltip": null,
            "layout": "IPY_MODEL_4c2e6c3086ea4476b0b779a25ee5b496",
            "placeholder": "​",
            "style": "IPY_MODEL_2f20a984056649c9bf48ef8aa72b4300",
            "value": " 63/63 [00:01&lt;00:00, 32.32it/s]"
          }
        },
        "991bc3e2ff8e44b5a5d9a0e0dd797583": {
          "model_module": "@jupyter-widgets/controls",
          "model_module_version": "1.5.0",
          "model_name": "FloatProgressModel",
          "state": {
            "_dom_classes": [],
            "_model_module": "@jupyter-widgets/controls",
            "_model_module_version": "1.5.0",
            "_model_name": "FloatProgressModel",
            "_view_count": null,
            "_view_module": "@jupyter-widgets/controls",
            "_view_module_version": "1.5.0",
            "_view_name": "ProgressView",
            "bar_style": "success",
            "description": "",
            "description_tooltip": null,
            "layout": "IPY_MODEL_3af39e5895b5410bbdef4abab91fb4b4",
            "max": 376,
            "min": 0,
            "orientation": "horizontal",
            "style": "IPY_MODEL_0e3a9df47b2d48e4a15fbe5a41136475",
            "value": 376
          }
        },
        "9a59dca1a71246ab90fd1cee1c0e2492": {
          "model_module": "@jupyter-widgets/controls",
          "model_module_version": "1.5.0",
          "model_name": "DescriptionStyleModel",
          "state": {
            "_model_module": "@jupyter-widgets/controls",
            "_model_module_version": "1.5.0",
            "_model_name": "DescriptionStyleModel",
            "_view_count": null,
            "_view_module": "@jupyter-widgets/base",
            "_view_module_version": "1.2.0",
            "_view_name": "StyleView",
            "description_width": ""
          }
        },
        "9ac6824d96384cbba027eb38e2c67f40": {
          "model_module": "@jupyter-widgets/base",
          "model_module_version": "1.2.0",
          "model_name": "LayoutModel",
          "state": {
            "_model_module": "@jupyter-widgets/base",
            "_model_module_version": "1.2.0",
            "_model_name": "LayoutModel",
            "_view_count": null,
            "_view_module": "@jupyter-widgets/base",
            "_view_module_version": "1.2.0",
            "_view_name": "LayoutView",
            "align_content": null,
            "align_items": null,
            "align_self": null,
            "border": null,
            "bottom": null,
            "display": null,
            "flex": null,
            "flex_flow": null,
            "grid_area": null,
            "grid_auto_columns": null,
            "grid_auto_flow": null,
            "grid_auto_rows": null,
            "grid_column": null,
            "grid_gap": null,
            "grid_row": null,
            "grid_template_areas": null,
            "grid_template_columns": null,
            "grid_template_rows": null,
            "height": null,
            "justify_content": null,
            "justify_items": null,
            "left": null,
            "margin": null,
            "max_height": null,
            "max_width": null,
            "min_height": null,
            "min_width": null,
            "object_fit": null,
            "object_position": null,
            "order": null,
            "overflow": null,
            "overflow_x": null,
            "overflow_y": null,
            "padding": null,
            "right": null,
            "top": null,
            "visibility": null,
            "width": null
          }
        },
        "9afce83bf94d4a959bc1513483712c65": {
          "model_module": "@jupyter-widgets/controls",
          "model_module_version": "1.5.0",
          "model_name": "HBoxModel",
          "state": {
            "_dom_classes": [],
            "_model_module": "@jupyter-widgets/controls",
            "_model_module_version": "1.5.0",
            "_model_name": "HBoxModel",
            "_view_count": null,
            "_view_module": "@jupyter-widgets/controls",
            "_view_module_version": "1.5.0",
            "_view_name": "HBoxView",
            "box_style": "",
            "children": [
              "IPY_MODEL_8ce97a12c7c14b0eb77f66b946038310",
              "IPY_MODEL_794ea6899aaf4dc4869f85b01f068cf7",
              "IPY_MODEL_85205ab31b9f48ecb4ec7655d00f4976"
            ],
            "layout": "IPY_MODEL_f81195a743c54d86a99824ad52e658f4"
          }
        },
        "9d571352320e4cfb9f3bbf29e0e83eec": {
          "model_module": "@jupyter-widgets/controls",
          "model_module_version": "1.5.0",
          "model_name": "ProgressStyleModel",
          "state": {
            "_model_module": "@jupyter-widgets/controls",
            "_model_module_version": "1.5.0",
            "_model_name": "ProgressStyleModel",
            "_view_count": null,
            "_view_module": "@jupyter-widgets/base",
            "_view_module_version": "1.2.0",
            "_view_name": "StyleView",
            "bar_color": null,
            "description_width": ""
          }
        },
        "9d68870526be4701976e36715abe140a": {
          "model_module": "@jupyter-widgets/controls",
          "model_module_version": "1.5.0",
          "model_name": "HTMLModel",
          "state": {
            "_dom_classes": [],
            "_model_module": "@jupyter-widgets/controls",
            "_model_module_version": "1.5.0",
            "_model_name": "HTMLModel",
            "_view_count": null,
            "_view_module": "@jupyter-widgets/controls",
            "_view_module_version": "1.5.0",
            "_view_name": "HTMLView",
            "description": "",
            "description_tooltip": null,
            "layout": "IPY_MODEL_4e6716aa6c674bdcbf9cdf5981612189",
            "placeholder": "​",
            "style": "IPY_MODEL_179a2c765c0f4f9e82ba68ababb5dfed",
            "value": " 1017/1017 [00:08&lt;00:00, 117.85it/s]"
          }
        },
        "9f97291ec2174e6cb95cecd0a06a0ae2": {
          "model_module": "@jupyter-widgets/controls",
          "model_module_version": "1.5.0",
          "model_name": "DescriptionStyleModel",
          "state": {
            "_model_module": "@jupyter-widgets/controls",
            "_model_module_version": "1.5.0",
            "_model_name": "DescriptionStyleModel",
            "_view_count": null,
            "_view_module": "@jupyter-widgets/base",
            "_view_module_version": "1.2.0",
            "_view_name": "StyleView",
            "description_width": ""
          }
        },
        "a1c4741f1f3747ddb9614666aa4b8584": {
          "model_module": "@jupyter-widgets/controls",
          "model_module_version": "1.5.0",
          "model_name": "DescriptionStyleModel",
          "state": {
            "_model_module": "@jupyter-widgets/controls",
            "_model_module_version": "1.5.0",
            "_model_name": "DescriptionStyleModel",
            "_view_count": null,
            "_view_module": "@jupyter-widgets/base",
            "_view_module_version": "1.2.0",
            "_view_name": "StyleView",
            "description_width": ""
          }
        },
        "a250ec82e8a84f028499d87f854bef7b": {
          "model_module": "@jupyter-widgets/controls",
          "model_module_version": "1.5.0",
          "model_name": "ProgressStyleModel",
          "state": {
            "_model_module": "@jupyter-widgets/controls",
            "_model_module_version": "1.5.0",
            "_model_name": "ProgressStyleModel",
            "_view_count": null,
            "_view_module": "@jupyter-widgets/base",
            "_view_module_version": "1.2.0",
            "_view_name": "StyleView",
            "bar_color": null,
            "description_width": ""
          }
        },
        "a5265340ebf44f8d8188f6f2cfec3d76": {
          "model_module": "@jupyter-widgets/base",
          "model_module_version": "1.2.0",
          "model_name": "LayoutModel",
          "state": {
            "_model_module": "@jupyter-widgets/base",
            "_model_module_version": "1.2.0",
            "_model_name": "LayoutModel",
            "_view_count": null,
            "_view_module": "@jupyter-widgets/base",
            "_view_module_version": "1.2.0",
            "_view_name": "LayoutView",
            "align_content": null,
            "align_items": null,
            "align_self": null,
            "border": null,
            "bottom": null,
            "display": null,
            "flex": "2",
            "flex_flow": null,
            "grid_area": null,
            "grid_auto_columns": null,
            "grid_auto_flow": null,
            "grid_auto_rows": null,
            "grid_column": null,
            "grid_gap": null,
            "grid_row": null,
            "grid_template_areas": null,
            "grid_template_columns": null,
            "grid_template_rows": null,
            "height": null,
            "justify_content": null,
            "justify_items": null,
            "left": null,
            "margin": null,
            "max_height": null,
            "max_width": null,
            "min_height": null,
            "min_width": null,
            "object_fit": null,
            "object_position": null,
            "order": null,
            "overflow": null,
            "overflow_x": null,
            "overflow_y": null,
            "padding": null,
            "right": null,
            "top": null,
            "visibility": null,
            "width": null
          }
        },
        "a570990d40324439b0772d55ea4d39b8": {
          "model_module": "@jupyter-widgets/base",
          "model_module_version": "1.2.0",
          "model_name": "LayoutModel",
          "state": {
            "_model_module": "@jupyter-widgets/base",
            "_model_module_version": "1.2.0",
            "_model_name": "LayoutModel",
            "_view_count": null,
            "_view_module": "@jupyter-widgets/base",
            "_view_module_version": "1.2.0",
            "_view_name": "LayoutView",
            "align_content": null,
            "align_items": null,
            "align_self": null,
            "border": null,
            "bottom": null,
            "display": null,
            "flex": "2",
            "flex_flow": null,
            "grid_area": null,
            "grid_auto_columns": null,
            "grid_auto_flow": null,
            "grid_auto_rows": null,
            "grid_column": null,
            "grid_gap": null,
            "grid_row": null,
            "grid_template_areas": null,
            "grid_template_columns": null,
            "grid_template_rows": null,
            "height": null,
            "justify_content": null,
            "justify_items": null,
            "left": null,
            "margin": null,
            "max_height": null,
            "max_width": null,
            "min_height": null,
            "min_width": null,
            "object_fit": null,
            "object_position": null,
            "order": null,
            "overflow": null,
            "overflow_x": null,
            "overflow_y": null,
            "padding": null,
            "right": null,
            "top": null,
            "visibility": null,
            "width": null
          }
        },
        "a9dd46ba1a9c48089cdd72aafbdd7fb3": {
          "model_module": "@jupyter-widgets/base",
          "model_module_version": "1.2.0",
          "model_name": "LayoutModel",
          "state": {
            "_model_module": "@jupyter-widgets/base",
            "_model_module_version": "1.2.0",
            "_model_name": "LayoutModel",
            "_view_count": null,
            "_view_module": "@jupyter-widgets/base",
            "_view_module_version": "1.2.0",
            "_view_name": "LayoutView",
            "align_content": null,
            "align_items": null,
            "align_self": null,
            "border": null,
            "bottom": null,
            "display": null,
            "flex": null,
            "flex_flow": null,
            "grid_area": null,
            "grid_auto_columns": null,
            "grid_auto_flow": null,
            "grid_auto_rows": null,
            "grid_column": null,
            "grid_gap": null,
            "grid_row": null,
            "grid_template_areas": null,
            "grid_template_columns": null,
            "grid_template_rows": null,
            "height": null,
            "justify_content": null,
            "justify_items": null,
            "left": null,
            "margin": null,
            "max_height": null,
            "max_width": null,
            "min_height": null,
            "min_width": null,
            "object_fit": null,
            "object_position": null,
            "order": null,
            "overflow": null,
            "overflow_x": null,
            "overflow_y": null,
            "padding": null,
            "right": null,
            "top": null,
            "visibility": null,
            "width": null
          }
        },
        "ab37ddb5e7564359af95090cdc6ceb8c": {
          "model_module": "@jupyter-widgets/controls",
          "model_module_version": "1.5.0",
          "model_name": "FloatProgressModel",
          "state": {
            "_dom_classes": [],
            "_model_module": "@jupyter-widgets/controls",
            "_model_module_version": "1.5.0",
            "_model_name": "FloatProgressModel",
            "_view_count": null,
            "_view_module": "@jupyter-widgets/controls",
            "_view_module_version": "1.5.0",
            "_view_name": "ProgressView",
            "bar_style": "success",
            "description": "",
            "description_tooltip": null,
            "layout": "IPY_MODEL_0188363f0ef242139ba31fff7df86e96",
            "max": 422,
            "min": 0,
            "orientation": "horizontal",
            "style": "IPY_MODEL_7451a9eda1cc4adeaa361b8839117bdf",
            "value": 422
          }
        },
        "ad38175a80bf416eb340d9dd2e0afdb6": {
          "model_module": "@jupyter-widgets/base",
          "model_module_version": "1.2.0",
          "model_name": "LayoutModel",
          "state": {
            "_model_module": "@jupyter-widgets/base",
            "_model_module_version": "1.2.0",
            "_model_name": "LayoutModel",
            "_view_count": null,
            "_view_module": "@jupyter-widgets/base",
            "_view_module_version": "1.2.0",
            "_view_name": "LayoutView",
            "align_content": null,
            "align_items": null,
            "align_self": null,
            "border": null,
            "bottom": null,
            "display": null,
            "flex": "2",
            "flex_flow": null,
            "grid_area": null,
            "grid_auto_columns": null,
            "grid_auto_flow": null,
            "grid_auto_rows": null,
            "grid_column": null,
            "grid_gap": null,
            "grid_row": null,
            "grid_template_areas": null,
            "grid_template_columns": null,
            "grid_template_rows": null,
            "height": null,
            "justify_content": null,
            "justify_items": null,
            "left": null,
            "margin": null,
            "max_height": null,
            "max_width": null,
            "min_height": null,
            "min_width": null,
            "object_fit": null,
            "object_position": null,
            "order": null,
            "overflow": null,
            "overflow_x": null,
            "overflow_y": null,
            "padding": null,
            "right": null,
            "top": null,
            "visibility": null,
            "width": null
          }
        },
        "aea54c48c11b461bb549fdea69ccd003": {
          "model_module": "@jupyter-widgets/controls",
          "model_module_version": "1.5.0",
          "model_name": "DescriptionStyleModel",
          "state": {
            "_model_module": "@jupyter-widgets/controls",
            "_model_module_version": "1.5.0",
            "_model_name": "DescriptionStyleModel",
            "_view_count": null,
            "_view_module": "@jupyter-widgets/base",
            "_view_module_version": "1.2.0",
            "_view_name": "StyleView",
            "description_width": ""
          }
        },
        "af6985e4bf404b26b514e6408f5a0030": {
          "model_module": "@jupyter-widgets/base",
          "model_module_version": "1.2.0",
          "model_name": "LayoutModel",
          "state": {
            "_model_module": "@jupyter-widgets/base",
            "_model_module_version": "1.2.0",
            "_model_name": "LayoutModel",
            "_view_count": null,
            "_view_module": "@jupyter-widgets/base",
            "_view_module_version": "1.2.0",
            "_view_name": "LayoutView",
            "align_content": null,
            "align_items": null,
            "align_self": null,
            "border": null,
            "bottom": null,
            "display": null,
            "flex": null,
            "flex_flow": null,
            "grid_area": null,
            "grid_auto_columns": null,
            "grid_auto_flow": null,
            "grid_auto_rows": null,
            "grid_column": null,
            "grid_gap": null,
            "grid_row": null,
            "grid_template_areas": null,
            "grid_template_columns": null,
            "grid_template_rows": null,
            "height": null,
            "justify_content": null,
            "justify_items": null,
            "left": null,
            "margin": null,
            "max_height": null,
            "max_width": null,
            "min_height": null,
            "min_width": null,
            "object_fit": null,
            "object_position": null,
            "order": null,
            "overflow": null,
            "overflow_x": null,
            "overflow_y": null,
            "padding": null,
            "right": null,
            "top": null,
            "visibility": null,
            "width": null
          }
        },
        "b18d76a09c0b450096d3ce27dca766d1": {
          "model_module": "@jupyter-widgets/controls",
          "model_module_version": "1.5.0",
          "model_name": "DescriptionStyleModel",
          "state": {
            "_model_module": "@jupyter-widgets/controls",
            "_model_module_version": "1.5.0",
            "_model_name": "DescriptionStyleModel",
            "_view_count": null,
            "_view_module": "@jupyter-widgets/base",
            "_view_module_version": "1.2.0",
            "_view_name": "StyleView",
            "description_width": ""
          }
        },
        "b6efbdc5bca2498bb1b0b7a8ab09be95": {
          "model_module": "@jupyter-widgets/base",
          "model_module_version": "1.2.0",
          "model_name": "LayoutModel",
          "state": {
            "_model_module": "@jupyter-widgets/base",
            "_model_module_version": "1.2.0",
            "_model_name": "LayoutModel",
            "_view_count": null,
            "_view_module": "@jupyter-widgets/base",
            "_view_module_version": "1.2.0",
            "_view_name": "LayoutView",
            "align_content": null,
            "align_items": null,
            "align_self": null,
            "border": null,
            "bottom": null,
            "display": null,
            "flex": null,
            "flex_flow": null,
            "grid_area": null,
            "grid_auto_columns": null,
            "grid_auto_flow": null,
            "grid_auto_rows": null,
            "grid_column": null,
            "grid_gap": null,
            "grid_row": null,
            "grid_template_areas": null,
            "grid_template_columns": null,
            "grid_template_rows": null,
            "height": null,
            "justify_content": null,
            "justify_items": null,
            "left": null,
            "margin": null,
            "max_height": null,
            "max_width": null,
            "min_height": null,
            "min_width": null,
            "object_fit": null,
            "object_position": null,
            "order": null,
            "overflow": null,
            "overflow_x": null,
            "overflow_y": null,
            "padding": null,
            "right": null,
            "top": null,
            "visibility": null,
            "width": null
          }
        },
        "ba612eb0d123446c831a5e4e33b5d32d": {
          "model_module": "@jupyter-widgets/controls",
          "model_module_version": "1.5.0",
          "model_name": "HTMLModel",
          "state": {
            "_dom_classes": [],
            "_model_module": "@jupyter-widgets/controls",
            "_model_module_version": "1.5.0",
            "_model_name": "HTMLModel",
            "_view_count": null,
            "_view_module": "@jupyter-widgets/controls",
            "_view_module_version": "1.5.0",
            "_view_name": "HTMLView",
            "description": "",
            "description_tooltip": null,
            "layout": "IPY_MODEL_77a61ad63a454685a6e9ae5da394d31a",
            "placeholder": "​",
            "style": "IPY_MODEL_f53fd11eaf3145a69aedd257ef1b9e2f",
            "value": " 422/422 [00:04&lt;00:00, 96.53it/s]"
          }
        },
        "bac6b83bcd5f42c28758f398c32c50e1": {
          "model_module": "@jupyter-widgets/controls",
          "model_module_version": "1.5.0",
          "model_name": "HBoxModel",
          "state": {
            "_dom_classes": [],
            "_model_module": "@jupyter-widgets/controls",
            "_model_module_version": "1.5.0",
            "_model_name": "HBoxModel",
            "_view_count": null,
            "_view_module": "@jupyter-widgets/controls",
            "_view_module_version": "1.5.0",
            "_view_name": "HBoxView",
            "box_style": "",
            "children": [
              "IPY_MODEL_737a0ab75013429fa7776f84d9cb68a3",
              "IPY_MODEL_7fc9036ffd5742d3ad688cdd7fdf50e3",
              "IPY_MODEL_33c9f48e0744490c9e5d9ebc3de0cfde"
            ],
            "layout": "IPY_MODEL_d882f8165760450fb36157461e955f3b"
          }
        },
        "bbafa6278bec477594af86341f13a5ec": {
          "model_module": "@jupyter-widgets/controls",
          "model_module_version": "1.5.0",
          "model_name": "HTMLModel",
          "state": {
            "_dom_classes": [],
            "_model_module": "@jupyter-widgets/controls",
            "_model_module_version": "1.5.0",
            "_model_name": "HTMLModel",
            "_view_count": null,
            "_view_module": "@jupyter-widgets/controls",
            "_view_module_version": "1.5.0",
            "_view_name": "HTMLView",
            "description": "",
            "description_tooltip": null,
            "layout": "IPY_MODEL_70933051e37644b0b21ae95725ec775b",
            "placeholder": "​",
            "style": "IPY_MODEL_9a59dca1a71246ab90fd1cee1c0e2492",
            "value": " 376/376 [00:26&lt;00:00, 13.97it/s, loss=1.45, v_num=2, validation/loss=1.380, validation/acc=0.688]"
          }
        },
        "bc1d746758384491bbf62d3dd84d60f6": {
          "model_module": "@jupyter-widgets/base",
          "model_module_version": "1.2.0",
          "model_name": "LayoutModel",
          "state": {
            "_model_module": "@jupyter-widgets/base",
            "_model_module_version": "1.2.0",
            "_model_name": "LayoutModel",
            "_view_count": null,
            "_view_module": "@jupyter-widgets/base",
            "_view_module_version": "1.2.0",
            "_view_name": "LayoutView",
            "align_content": null,
            "align_items": null,
            "align_self": null,
            "border": null,
            "bottom": null,
            "display": "inline-flex",
            "flex": null,
            "flex_flow": "row wrap",
            "grid_area": null,
            "grid_auto_columns": null,
            "grid_auto_flow": null,
            "grid_auto_rows": null,
            "grid_column": null,
            "grid_gap": null,
            "grid_row": null,
            "grid_template_areas": null,
            "grid_template_columns": null,
            "grid_template_rows": null,
            "height": null,
            "justify_content": null,
            "justify_items": null,
            "left": null,
            "margin": null,
            "max_height": null,
            "max_width": null,
            "min_height": null,
            "min_width": null,
            "object_fit": null,
            "object_position": null,
            "order": null,
            "overflow": null,
            "overflow_x": null,
            "overflow_y": null,
            "padding": null,
            "right": null,
            "top": null,
            "visibility": null,
            "width": "100%"
          }
        },
        "bd3da3a26f4b44048b06ca9d529e9d7c": {
          "model_module": "@jupyter-widgets/controls",
          "model_module_version": "1.5.0",
          "model_name": "DescriptionStyleModel",
          "state": {
            "_model_module": "@jupyter-widgets/controls",
            "_model_module_version": "1.5.0",
            "_model_name": "DescriptionStyleModel",
            "_view_count": null,
            "_view_module": "@jupyter-widgets/base",
            "_view_module_version": "1.2.0",
            "_view_name": "StyleView",
            "description_width": ""
          }
        },
        "bf298e09257d45c68863e4510a46876f": {
          "model_module": "@jupyter-widgets/base",
          "model_module_version": "1.2.0",
          "model_name": "LayoutModel",
          "state": {
            "_model_module": "@jupyter-widgets/base",
            "_model_module_version": "1.2.0",
            "_model_name": "LayoutModel",
            "_view_count": null,
            "_view_module": "@jupyter-widgets/base",
            "_view_module_version": "1.2.0",
            "_view_name": "LayoutView",
            "align_content": null,
            "align_items": null,
            "align_self": null,
            "border": null,
            "bottom": null,
            "display": null,
            "flex": null,
            "flex_flow": null,
            "grid_area": null,
            "grid_auto_columns": null,
            "grid_auto_flow": null,
            "grid_auto_rows": null,
            "grid_column": null,
            "grid_gap": null,
            "grid_row": null,
            "grid_template_areas": null,
            "grid_template_columns": null,
            "grid_template_rows": null,
            "height": null,
            "justify_content": null,
            "justify_items": null,
            "left": null,
            "margin": null,
            "max_height": null,
            "max_width": null,
            "min_height": null,
            "min_width": null,
            "object_fit": null,
            "object_position": null,
            "order": null,
            "overflow": null,
            "overflow_x": null,
            "overflow_y": null,
            "padding": null,
            "right": null,
            "top": null,
            "visibility": null,
            "width": null
          }
        },
        "bfa615d136d147928cbace4df12276b3": {
          "model_module": "@jupyter-widgets/controls",
          "model_module_version": "1.5.0",
          "model_name": "DescriptionStyleModel",
          "state": {
            "_model_module": "@jupyter-widgets/controls",
            "_model_module_version": "1.5.0",
            "_model_name": "DescriptionStyleModel",
            "_view_count": null,
            "_view_module": "@jupyter-widgets/base",
            "_view_module_version": "1.2.0",
            "_view_name": "StyleView",
            "description_width": ""
          }
        },
        "c5dbc907433b45438b5bc9e71c587b25": {
          "model_module": "@jupyter-widgets/controls",
          "model_module_version": "1.5.0",
          "model_name": "HTMLModel",
          "state": {
            "_dom_classes": [],
            "_model_module": "@jupyter-widgets/controls",
            "_model_module_version": "1.5.0",
            "_model_name": "HTMLModel",
            "_view_count": null,
            "_view_module": "@jupyter-widgets/controls",
            "_view_module_version": "1.5.0",
            "_view_name": "HTMLView",
            "description": "",
            "description_tooltip": null,
            "layout": "IPY_MODEL_1648626da92845daad5fecb1ed969210",
            "placeholder": "​",
            "style": "IPY_MODEL_bd3da3a26f4b44048b06ca9d529e9d7c",
            "value": "Sanity Checking DataLoader 0: 100%"
          }
        },
        "c71e935b1d1f4f9e83823a49f86064e8": {
          "model_module": "@jupyter-widgets/base",
          "model_module_version": "1.2.0",
          "model_name": "LayoutModel",
          "state": {
            "_model_module": "@jupyter-widgets/base",
            "_model_module_version": "1.2.0",
            "_model_name": "LayoutModel",
            "_view_count": null,
            "_view_module": "@jupyter-widgets/base",
            "_view_module_version": "1.2.0",
            "_view_name": "LayoutView",
            "align_content": null,
            "align_items": null,
            "align_self": null,
            "border": null,
            "bottom": null,
            "display": null,
            "flex": "2",
            "flex_flow": null,
            "grid_area": null,
            "grid_auto_columns": null,
            "grid_auto_flow": null,
            "grid_auto_rows": null,
            "grid_column": null,
            "grid_gap": null,
            "grid_row": null,
            "grid_template_areas": null,
            "grid_template_columns": null,
            "grid_template_rows": null,
            "height": null,
            "justify_content": null,
            "justify_items": null,
            "left": null,
            "margin": null,
            "max_height": null,
            "max_width": null,
            "min_height": null,
            "min_width": null,
            "object_fit": null,
            "object_position": null,
            "order": null,
            "overflow": null,
            "overflow_x": null,
            "overflow_y": null,
            "padding": null,
            "right": null,
            "top": null,
            "visibility": null,
            "width": null
          }
        },
        "c7af2a171bf341feb12a566cf4a855c7": {
          "model_module": "@jupyter-widgets/base",
          "model_module_version": "1.2.0",
          "model_name": "LayoutModel",
          "state": {
            "_model_module": "@jupyter-widgets/base",
            "_model_module_version": "1.2.0",
            "_model_name": "LayoutModel",
            "_view_count": null,
            "_view_module": "@jupyter-widgets/base",
            "_view_module_version": "1.2.0",
            "_view_name": "LayoutView",
            "align_content": null,
            "align_items": null,
            "align_self": null,
            "border": null,
            "bottom": null,
            "display": null,
            "flex": "2",
            "flex_flow": null,
            "grid_area": null,
            "grid_auto_columns": null,
            "grid_auto_flow": null,
            "grid_auto_rows": null,
            "grid_column": null,
            "grid_gap": null,
            "grid_row": null,
            "grid_template_areas": null,
            "grid_template_columns": null,
            "grid_template_rows": null,
            "height": null,
            "justify_content": null,
            "justify_items": null,
            "left": null,
            "margin": null,
            "max_height": null,
            "max_width": null,
            "min_height": null,
            "min_width": null,
            "object_fit": null,
            "object_position": null,
            "order": null,
            "overflow": null,
            "overflow_x": null,
            "overflow_y": null,
            "padding": null,
            "right": null,
            "top": null,
            "visibility": null,
            "width": null
          }
        },
        "c7e3925f54a8417aac69630e603c7abe": {
          "model_module": "@jupyter-widgets/base",
          "model_module_version": "1.2.0",
          "model_name": "LayoutModel",
          "state": {
            "_model_module": "@jupyter-widgets/base",
            "_model_module_version": "1.2.0",
            "_model_name": "LayoutModel",
            "_view_count": null,
            "_view_module": "@jupyter-widgets/base",
            "_view_module_version": "1.2.0",
            "_view_name": "LayoutView",
            "align_content": null,
            "align_items": null,
            "align_self": null,
            "border": null,
            "bottom": null,
            "display": null,
            "flex": null,
            "flex_flow": null,
            "grid_area": null,
            "grid_auto_columns": null,
            "grid_auto_flow": null,
            "grid_auto_rows": null,
            "grid_column": null,
            "grid_gap": null,
            "grid_row": null,
            "grid_template_areas": null,
            "grid_template_columns": null,
            "grid_template_rows": null,
            "height": null,
            "justify_content": null,
            "justify_items": null,
            "left": null,
            "margin": null,
            "max_height": null,
            "max_width": null,
            "min_height": null,
            "min_width": null,
            "object_fit": null,
            "object_position": null,
            "order": null,
            "overflow": null,
            "overflow_x": null,
            "overflow_y": null,
            "padding": null,
            "right": null,
            "top": null,
            "visibility": null,
            "width": null
          }
        },
        "c985cf4b9da944eea4874ca6acdab99b": {
          "model_module": "@jupyter-widgets/controls",
          "model_module_version": "1.5.0",
          "model_name": "DescriptionStyleModel",
          "state": {
            "_model_module": "@jupyter-widgets/controls",
            "_model_module_version": "1.5.0",
            "_model_name": "DescriptionStyleModel",
            "_view_count": null,
            "_view_module": "@jupyter-widgets/base",
            "_view_module_version": "1.2.0",
            "_view_name": "StyleView",
            "description_width": ""
          }
        },
        "ca4e2c58b12e4f4a981e4e7b5224080f": {
          "model_module": "@jupyter-widgets/controls",
          "model_module_version": "1.5.0",
          "model_name": "HTMLModel",
          "state": {
            "_dom_classes": [],
            "_model_module": "@jupyter-widgets/controls",
            "_model_module_version": "1.5.0",
            "_model_name": "HTMLModel",
            "_view_count": null,
            "_view_module": "@jupyter-widgets/controls",
            "_view_module_version": "1.5.0",
            "_view_name": "HTMLView",
            "description": "",
            "description_tooltip": null,
            "layout": "IPY_MODEL_459c7d8b1b47486fad6413989b22456b",
            "placeholder": "​",
            "style": "IPY_MODEL_c985cf4b9da944eea4874ca6acdab99b",
            "value": " 2542/2542 [00:40&lt;00:00, 62.63it/s, loss=0.613, v_num=0, validation/loss=0.573, validation/acc=0.788]"
          }
        },
        "cb49212c6c0945adbb9b33635ecbf32c": {
          "model_module": "@jupyter-widgets/controls",
          "model_module_version": "1.5.0",
          "model_name": "FloatProgressModel",
          "state": {
            "_dom_classes": [],
            "_model_module": "@jupyter-widgets/controls",
            "_model_module_version": "1.5.0",
            "_model_name": "FloatProgressModel",
            "_view_count": null,
            "_view_module": "@jupyter-widgets/controls",
            "_view_module_version": "1.5.0",
            "_view_name": "ProgressView",
            "bar_style": "",
            "description": "",
            "description_tooltip": null,
            "layout": "IPY_MODEL_c71e935b1d1f4f9e83823a49f86064e8",
            "max": 1017,
            "min": 0,
            "orientation": "horizontal",
            "style": "IPY_MODEL_a250ec82e8a84f028499d87f854bef7b",
            "value": 1017
          }
        },
        "cdaa89a1eff24befa943a22f71681e4b": {
          "model_module": "@jupyter-widgets/controls",
          "model_module_version": "1.5.0",
          "model_name": "HTMLModel",
          "state": {
            "_dom_classes": [],
            "_model_module": "@jupyter-widgets/controls",
            "_model_module_version": "1.5.0",
            "_model_name": "HTMLModel",
            "_view_count": null,
            "_view_module": "@jupyter-widgets/controls",
            "_view_module_version": "1.5.0",
            "_view_name": "HTMLView",
            "description": "",
            "description_tooltip": null,
            "layout": "IPY_MODEL_5bf594a3677c46f59cc133e8879994a3",
            "placeholder": "​",
            "style": "IPY_MODEL_a1c4741f1f3747ddb9614666aa4b8584",
            "value": "Validation DataLoader 0: 100%"
          }
        },
        "ce4f27dac72b4203822d4e5e15630bb2": {
          "model_module": "@jupyter-widgets/controls",
          "model_module_version": "1.5.0",
          "model_name": "DescriptionStyleModel",
          "state": {
            "_model_module": "@jupyter-widgets/controls",
            "_model_module_version": "1.5.0",
            "_model_name": "DescriptionStyleModel",
            "_view_count": null,
            "_view_module": "@jupyter-widgets/base",
            "_view_module_version": "1.2.0",
            "_view_name": "StyleView",
            "description_width": ""
          }
        },
        "ce6fa073c070413a85ed42626472b21e": {
          "model_module": "@jupyter-widgets/controls",
          "model_module_version": "1.5.0",
          "model_name": "DescriptionStyleModel",
          "state": {
            "_model_module": "@jupyter-widgets/controls",
            "_model_module_version": "1.5.0",
            "_model_name": "DescriptionStyleModel",
            "_view_count": null,
            "_view_module": "@jupyter-widgets/base",
            "_view_module_version": "1.2.0",
            "_view_name": "StyleView",
            "description_width": ""
          }
        },
        "cf9873da84044213911598d842753fc7": {
          "model_module": "@jupyter-widgets/base",
          "model_module_version": "1.2.0",
          "model_name": "LayoutModel",
          "state": {
            "_model_module": "@jupyter-widgets/base",
            "_model_module_version": "1.2.0",
            "_model_name": "LayoutModel",
            "_view_count": null,
            "_view_module": "@jupyter-widgets/base",
            "_view_module_version": "1.2.0",
            "_view_name": "LayoutView",
            "align_content": null,
            "align_items": null,
            "align_self": null,
            "border": null,
            "bottom": null,
            "display": null,
            "flex": "2",
            "flex_flow": null,
            "grid_area": null,
            "grid_auto_columns": null,
            "grid_auto_flow": null,
            "grid_auto_rows": null,
            "grid_column": null,
            "grid_gap": null,
            "grid_row": null,
            "grid_template_areas": null,
            "grid_template_columns": null,
            "grid_template_rows": null,
            "height": null,
            "justify_content": null,
            "justify_items": null,
            "left": null,
            "margin": null,
            "max_height": null,
            "max_width": null,
            "min_height": null,
            "min_width": null,
            "object_fit": null,
            "object_position": null,
            "order": null,
            "overflow": null,
            "overflow_x": null,
            "overflow_y": null,
            "padding": null,
            "right": null,
            "top": null,
            "visibility": null,
            "width": null
          }
        },
        "d076140ec32a44139b9c3597bd5a197d": {
          "model_module": "@jupyter-widgets/base",
          "model_module_version": "1.2.0",
          "model_name": "LayoutModel",
          "state": {
            "_model_module": "@jupyter-widgets/base",
            "_model_module_version": "1.2.0",
            "_model_name": "LayoutModel",
            "_view_count": null,
            "_view_module": "@jupyter-widgets/base",
            "_view_module_version": "1.2.0",
            "_view_name": "LayoutView",
            "align_content": null,
            "align_items": null,
            "align_self": null,
            "border": null,
            "bottom": null,
            "display": null,
            "flex": null,
            "flex_flow": null,
            "grid_area": null,
            "grid_auto_columns": null,
            "grid_auto_flow": null,
            "grid_auto_rows": null,
            "grid_column": null,
            "grid_gap": null,
            "grid_row": null,
            "grid_template_areas": null,
            "grid_template_columns": null,
            "grid_template_rows": null,
            "height": null,
            "justify_content": null,
            "justify_items": null,
            "left": null,
            "margin": null,
            "max_height": null,
            "max_width": null,
            "min_height": null,
            "min_width": null,
            "object_fit": null,
            "object_position": null,
            "order": null,
            "overflow": null,
            "overflow_x": null,
            "overflow_y": null,
            "padding": null,
            "right": null,
            "top": null,
            "visibility": null,
            "width": null
          }
        },
        "d12155593c5442509e940219805d2f5b": {
          "model_module": "@jupyter-widgets/controls",
          "model_module_version": "1.5.0",
          "model_name": "DescriptionStyleModel",
          "state": {
            "_model_module": "@jupyter-widgets/controls",
            "_model_module_version": "1.5.0",
            "_model_name": "DescriptionStyleModel",
            "_view_count": null,
            "_view_module": "@jupyter-widgets/base",
            "_view_module_version": "1.2.0",
            "_view_name": "StyleView",
            "description_width": ""
          }
        },
        "d22f24f9c1c348abbfbe4ceb9cf069b9": {
          "model_module": "@jupyter-widgets/controls",
          "model_module_version": "1.5.0",
          "model_name": "ProgressStyleModel",
          "state": {
            "_model_module": "@jupyter-widgets/controls",
            "_model_module_version": "1.5.0",
            "_model_name": "ProgressStyleModel",
            "_view_count": null,
            "_view_module": "@jupyter-widgets/base",
            "_view_module_version": "1.2.0",
            "_view_name": "StyleView",
            "bar_color": null,
            "description_width": ""
          }
        },
        "d79f0ca3cf36473d99c1449630bb6993": {
          "model_module": "@jupyter-widgets/controls",
          "model_module_version": "1.5.0",
          "model_name": "HTMLModel",
          "state": {
            "_dom_classes": [],
            "_model_module": "@jupyter-widgets/controls",
            "_model_module_version": "1.5.0",
            "_model_name": "HTMLModel",
            "_view_count": null,
            "_view_module": "@jupyter-widgets/controls",
            "_view_module_version": "1.5.0",
            "_view_name": "HTMLView",
            "description": "",
            "description_tooltip": null,
            "layout": "IPY_MODEL_a9dd46ba1a9c48089cdd72aafbdd7fb3",
            "placeholder": "​",
            "style": "IPY_MODEL_ce4f27dac72b4203822d4e5e15630bb2",
            "value": "Validation DataLoader 0: 100%"
          }
        },
        "d882f8165760450fb36157461e955f3b": {
          "model_module": "@jupyter-widgets/base",
          "model_module_version": "1.2.0",
          "model_name": "LayoutModel",
          "state": {
            "_model_module": "@jupyter-widgets/base",
            "_model_module_version": "1.2.0",
            "_model_name": "LayoutModel",
            "_view_count": null,
            "_view_module": "@jupyter-widgets/base",
            "_view_module_version": "1.2.0",
            "_view_name": "LayoutView",
            "align_content": null,
            "align_items": null,
            "align_self": null,
            "border": null,
            "bottom": null,
            "display": "inline-flex",
            "flex": null,
            "flex_flow": "row wrap",
            "grid_area": null,
            "grid_auto_columns": null,
            "grid_auto_flow": null,
            "grid_auto_rows": null,
            "grid_column": null,
            "grid_gap": null,
            "grid_row": null,
            "grid_template_areas": null,
            "grid_template_columns": null,
            "grid_template_rows": null,
            "height": null,
            "justify_content": null,
            "justify_items": null,
            "left": null,
            "margin": null,
            "max_height": null,
            "max_width": null,
            "min_height": null,
            "min_width": null,
            "object_fit": null,
            "object_position": null,
            "order": null,
            "overflow": null,
            "overflow_x": null,
            "overflow_y": null,
            "padding": null,
            "right": null,
            "top": null,
            "visibility": null,
            "width": "100%"
          }
        },
        "d9b62014db174f5abf46c93861ecf10d": {
          "model_module": "@jupyter-widgets/controls",
          "model_module_version": "1.5.0",
          "model_name": "ProgressStyleModel",
          "state": {
            "_model_module": "@jupyter-widgets/controls",
            "_model_module_version": "1.5.0",
            "_model_name": "ProgressStyleModel",
            "_view_count": null,
            "_view_module": "@jupyter-widgets/base",
            "_view_module_version": "1.2.0",
            "_view_name": "StyleView",
            "bar_color": null,
            "description_width": ""
          }
        },
        "da4aa341b8ca4f3abd0ce3e863fcf401": {
          "model_module": "@jupyter-widgets/controls",
          "model_module_version": "1.5.0",
          "model_name": "HBoxModel",
          "state": {
            "_dom_classes": [],
            "_model_module": "@jupyter-widgets/controls",
            "_model_module_version": "1.5.0",
            "_model_name": "HBoxModel",
            "_view_count": null,
            "_view_module": "@jupyter-widgets/controls",
            "_view_module_version": "1.5.0",
            "_view_name": "HBoxView",
            "box_style": "",
            "children": [
              "IPY_MODEL_816402ff4ed243d4899ecdab5aa07e68",
              "IPY_MODEL_5d4b339c783e44d48d54409d26dcf01b",
              "IPY_MODEL_89d796842e8b4c74b10cf4241fb2d1dd"
            ],
            "layout": "IPY_MODEL_4306cb5f90ba45689f6e9b867fb2d296"
          }
        },
        "dc6ad3ac9269426bb3897d37f1a46416": {
          "model_module": "@jupyter-widgets/controls",
          "model_module_version": "1.5.0",
          "model_name": "DescriptionStyleModel",
          "state": {
            "_model_module": "@jupyter-widgets/controls",
            "_model_module_version": "1.5.0",
            "_model_name": "DescriptionStyleModel",
            "_view_count": null,
            "_view_module": "@jupyter-widgets/base",
            "_view_module_version": "1.2.0",
            "_view_name": "StyleView",
            "description_width": ""
          }
        },
        "dd9b92c1ba84407bb95e792a321ba58c": {
          "model_module": "@jupyter-widgets/controls",
          "model_module_version": "1.5.0",
          "model_name": "HBoxModel",
          "state": {
            "_dom_classes": [],
            "_model_module": "@jupyter-widgets/controls",
            "_model_module_version": "1.5.0",
            "_model_name": "HBoxModel",
            "_view_count": null,
            "_view_module": "@jupyter-widgets/controls",
            "_view_module_version": "1.5.0",
            "_view_name": "HBoxView",
            "box_style": "",
            "children": [
              "IPY_MODEL_25aa79ce86d141538d9e4193ee659869",
              "IPY_MODEL_5f54e38f6c044fafa03a36bc86cc863d",
              "IPY_MODEL_90dfdb76657845189414dff4ea5c6677"
            ],
            "layout": "IPY_MODEL_6b8faded66434251aa4f734d45dff05b"
          }
        },
        "de6bc0c51d074aee8933da7e0417f6b1": {
          "model_module": "@jupyter-widgets/controls",
          "model_module_version": "1.5.0",
          "model_name": "DescriptionStyleModel",
          "state": {
            "_model_module": "@jupyter-widgets/controls",
            "_model_module_version": "1.5.0",
            "_model_name": "DescriptionStyleModel",
            "_view_count": null,
            "_view_module": "@jupyter-widgets/base",
            "_view_module_version": "1.2.0",
            "_view_name": "StyleView",
            "description_width": ""
          }
        },
        "e4aac145575b4b1caf171712c034883d": {
          "model_module": "@jupyter-widgets/controls",
          "model_module_version": "1.5.0",
          "model_name": "DescriptionStyleModel",
          "state": {
            "_model_module": "@jupyter-widgets/controls",
            "_model_module_version": "1.5.0",
            "_model_name": "DescriptionStyleModel",
            "_view_count": null,
            "_view_module": "@jupyter-widgets/base",
            "_view_module_version": "1.2.0",
            "_view_name": "StyleView",
            "description_width": ""
          }
        },
        "e8dfd5566f7a4125b3c38fb85138f1ca": {
          "model_module": "@jupyter-widgets/controls",
          "model_module_version": "1.5.0",
          "model_name": "FloatProgressModel",
          "state": {
            "_dom_classes": [],
            "_model_module": "@jupyter-widgets/controls",
            "_model_module_version": "1.5.0",
            "_model_name": "FloatProgressModel",
            "_view_count": null,
            "_view_module": "@jupyter-widgets/controls",
            "_view_module_version": "1.5.0",
            "_view_name": "ProgressView",
            "bar_style": "success",
            "description": "",
            "description_tooltip": null,
            "layout": "IPY_MODEL_39d955055a364505ace50aec09c25860",
            "max": 844,
            "min": 0,
            "orientation": "horizontal",
            "style": "IPY_MODEL_9d571352320e4cfb9f3bbf29e0e83eec",
            "value": 844
          }
        },
        "eb5365de786e45c1be509887f67179d3": {
          "model_module": "@jupyter-widgets/controls",
          "model_module_version": "1.5.0",
          "model_name": "HBoxModel",
          "state": {
            "_dom_classes": [],
            "_model_module": "@jupyter-widgets/controls",
            "_model_module_version": "1.5.0",
            "_model_name": "HBoxModel",
            "_view_count": null,
            "_view_module": "@jupyter-widgets/controls",
            "_view_module_version": "1.5.0",
            "_view_name": "HBoxView",
            "box_style": "",
            "children": [
              "IPY_MODEL_d79f0ca3cf36473d99c1449630bb6993",
              "IPY_MODEL_f33cf7fb8f184eaead13db253ce9033f",
              "IPY_MODEL_08462878efe84ef295b92ffec08be312"
            ],
            "layout": "IPY_MODEL_2ad8a9d7e00f4369967f0848ee0cdbb1"
          }
        },
        "f33cf7fb8f184eaead13db253ce9033f": {
          "model_module": "@jupyter-widgets/controls",
          "model_module_version": "1.5.0",
          "model_name": "FloatProgressModel",
          "state": {
            "_dom_classes": [],
            "_model_module": "@jupyter-widgets/controls",
            "_model_module_version": "1.5.0",
            "_model_name": "FloatProgressModel",
            "_view_count": null,
            "_view_module": "@jupyter-widgets/controls",
            "_view_module_version": "1.5.0",
            "_view_name": "ProgressView",
            "bar_style": "",
            "description": "",
            "description_tooltip": null,
            "layout": "IPY_MODEL_cf9873da84044213911598d842753fc7",
            "max": 509,
            "min": 0,
            "orientation": "horizontal",
            "style": "IPY_MODEL_d22f24f9c1c348abbfbe4ceb9cf069b9",
            "value": 509
          }
        },
        "f4724fb26a524216960a82ea0550a865": {
          "model_module": "@jupyter-widgets/controls",
          "model_module_version": "1.5.0",
          "model_name": "HBoxModel",
          "state": {
            "_dom_classes": [],
            "_model_module": "@jupyter-widgets/controls",
            "_model_module_version": "1.5.0",
            "_model_name": "HBoxModel",
            "_view_count": null,
            "_view_module": "@jupyter-widgets/controls",
            "_view_module_version": "1.5.0",
            "_view_name": "HBoxView",
            "box_style": "",
            "children": [
              "IPY_MODEL_6ce119c357ca4144b7500aa8a97762a2",
              "IPY_MODEL_ab37ddb5e7564359af95090cdc6ceb8c",
              "IPY_MODEL_ba612eb0d123446c831a5e4e33b5d32d"
            ],
            "layout": "IPY_MODEL_630cce1c05744c47af3046cec9b13424"
          }
        },
        "f53fd11eaf3145a69aedd257ef1b9e2f": {
          "model_module": "@jupyter-widgets/controls",
          "model_module_version": "1.5.0",
          "model_name": "DescriptionStyleModel",
          "state": {
            "_model_module": "@jupyter-widgets/controls",
            "_model_module_version": "1.5.0",
            "_model_name": "DescriptionStyleModel",
            "_view_count": null,
            "_view_module": "@jupyter-widgets/base",
            "_view_module_version": "1.2.0",
            "_view_name": "StyleView",
            "description_width": ""
          }
        },
        "f81195a743c54d86a99824ad52e658f4": {
          "model_module": "@jupyter-widgets/base",
          "model_module_version": "1.2.0",
          "model_name": "LayoutModel",
          "state": {
            "_model_module": "@jupyter-widgets/base",
            "_model_module_version": "1.2.0",
            "_model_name": "LayoutModel",
            "_view_count": null,
            "_view_module": "@jupyter-widgets/base",
            "_view_module_version": "1.2.0",
            "_view_name": "LayoutView",
            "align_content": null,
            "align_items": null,
            "align_self": null,
            "border": null,
            "bottom": null,
            "display": "inline-flex",
            "flex": null,
            "flex_flow": "row wrap",
            "grid_area": null,
            "grid_auto_columns": null,
            "grid_auto_flow": null,
            "grid_auto_rows": null,
            "grid_column": null,
            "grid_gap": null,
            "grid_row": null,
            "grid_template_areas": null,
            "grid_template_columns": null,
            "grid_template_rows": null,
            "height": null,
            "justify_content": null,
            "justify_items": null,
            "left": null,
            "margin": null,
            "max_height": null,
            "max_width": null,
            "min_height": null,
            "min_width": null,
            "object_fit": null,
            "object_position": null,
            "order": null,
            "overflow": null,
            "overflow_x": null,
            "overflow_y": null,
            "padding": null,
            "right": null,
            "top": null,
            "visibility": null,
            "width": "100%"
          }
        },
        "f83c6165a65348dfbc95ffb30204d603": {
          "model_module": "@jupyter-widgets/controls",
          "model_module_version": "1.5.0",
          "model_name": "DescriptionStyleModel",
          "state": {
            "_model_module": "@jupyter-widgets/controls",
            "_model_module_version": "1.5.0",
            "_model_name": "DescriptionStyleModel",
            "_view_count": null,
            "_view_module": "@jupyter-widgets/base",
            "_view_module_version": "1.2.0",
            "_view_name": "StyleView",
            "description_width": ""
          }
        },
        "ff1b1870f8df43f5a28e811d6d98306c": {
          "model_module": "@jupyter-widgets/base",
          "model_module_version": "1.2.0",
          "model_name": "LayoutModel",
          "state": {
            "_model_module": "@jupyter-widgets/base",
            "_model_module_version": "1.2.0",
            "_model_name": "LayoutModel",
            "_view_count": null,
            "_view_module": "@jupyter-widgets/base",
            "_view_module_version": "1.2.0",
            "_view_name": "LayoutView",
            "align_content": null,
            "align_items": null,
            "align_self": null,
            "border": null,
            "bottom": null,
            "display": null,
            "flex": "2",
            "flex_flow": null,
            "grid_area": null,
            "grid_auto_columns": null,
            "grid_auto_flow": null,
            "grid_auto_rows": null,
            "grid_column": null,
            "grid_gap": null,
            "grid_row": null,
            "grid_template_areas": null,
            "grid_template_columns": null,
            "grid_template_rows": null,
            "height": null,
            "justify_content": null,
            "justify_items": null,
            "left": null,
            "margin": null,
            "max_height": null,
            "max_width": null,
            "min_height": null,
            "min_width": null,
            "object_fit": null,
            "object_position": null,
            "order": null,
            "overflow": null,
            "overflow_x": null,
            "overflow_y": null,
            "padding": null,
            "right": null,
            "top": null,
            "visibility": null,
            "width": null
          }
        },
        "ff55159145b4405d825aa164b0d36c68": {
          "model_module": "@jupyter-widgets/controls",
          "model_module_version": "1.5.0",
          "model_name": "ProgressStyleModel",
          "state": {
            "_model_module": "@jupyter-widgets/controls",
            "_model_module_version": "1.5.0",
            "_model_name": "ProgressStyleModel",
            "_view_count": null,
            "_view_module": "@jupyter-widgets/base",
            "_view_module_version": "1.2.0",
            "_view_name": "StyleView",
            "bar_color": null,
            "description_width": ""
          }
        }
      }
    }
  },
  "nbformat": 4,
  "nbformat_minor": 0
}
